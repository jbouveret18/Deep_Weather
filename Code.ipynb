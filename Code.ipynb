{
 "cells": [
  {
   "cell_type": "markdown",
   "source": [
    "Initial Imports"
   ],
   "metadata": {
    "collapsed": false
   },
   "id": "a99ca30f762277e"
  },
  {
   "cell_type": "code",
   "execution_count": null,
   "outputs": [],
   "source": [
    "import pandas as pd"
   ],
   "metadata": {
    "collapsed": false
   },
   "id": "bc058b6c69d92730"
  },
  {
   "cell_type": "code",
   "execution_count": 11,
   "outputs": [],
   "source": [
    "# Replace 'file.csv' with your CSV file's name and path\n",
    "file_path = 'file.csv'\n",
    "\n",
    "# Replace ['Column1', 'Column2'] with the names of the columns you want to read\n",
    "columns_to_read = ['Column1', 'Column2']\n",
    "\n",
    "# Read the CSV file and select specific columns\n",
    "data = pd.read_csv(file_path, usecols=columns_to_read)\n",
    "\n",
    "# Display the content of the selected columns\n",
    "print(data)\n"
   ],
   "metadata": {
    "collapsed": false,
    "ExecuteTime": {
     "end_time": "2024-01-06T14:05:21.577021600Z",
     "start_time": "2024-01-06T14:05:21.545750300Z"
    }
   },
   "id": "6dcce7d5418bfb92"
  }
 ],
 "metadata": {
  "kernelspec": {
   "display_name": "Python 3",
   "language": "python",
   "name": "python3"
  },
  "language_info": {
   "codemirror_mode": {
    "name": "ipython",
    "version": 2
   },
   "file_extension": ".py",
   "mimetype": "text/x-python",
   "name": "python",
   "nbconvert_exporter": "python",
   "pygments_lexer": "ipython2",
   "version": "2.7.6"
  }
 },
 "nbformat": 4,
 "nbformat_minor": 5
}
