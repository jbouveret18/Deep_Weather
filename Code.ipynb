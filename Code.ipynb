{
 "cells": [
  {
   "cell_type": "markdown",
   "id": "a99ca30f762277e",
   "metadata": {
    "collapsed": false
   },
   "source": [
    "Initial Imports"
   ]
  },
  {
   "cell_type": "code",
   "execution_count": 77,
   "id": "bc058b6c69d92730",
   "metadata": {
    "collapsed": false,
    "ExecuteTime": {
     "end_time": "2024-01-07T15:55:41.054472900Z",
     "start_time": "2024-01-07T15:55:39.227020900Z"
    }
   },
   "outputs": [],
   "source": [
    "import csv\n",
    "import time\n",
    "import openmeteo_requests\n",
    "import requests_cache\n",
    "from retry_requests import retry\n",
    "import pandas as pd\n",
    "from datetime import datetime, timedelta\n",
    "from torch.utils.data import TensorDataset, DataLoader\n",
    "from sklearn.model_selection import train_test_split\n",
    "import torch\n",
    "import torch.nn as nn\n",
    "import torch.optim as optim\n",
    "import matplotlib.pyplot as plt"
   ]
  },
  {
   "cell_type": "markdown",
   "id": "b5e6d1b432f91495",
   "metadata": {
    "collapsed": false
   },
   "source": [
    "# Generate map of cities and their respective coordinates"
   ]
  },
  {
   "cell_type": "code",
   "execution_count": 41,
   "id": "6dcce7d5418bfb92",
   "metadata": {
    "collapsed": false,
    "ExecuteTime": {
     "end_time": "2024-01-07T15:20:36.445001600Z",
     "start_time": "2024-01-07T15:20:36.353370900Z"
    }
   },
   "outputs": [
    {
     "name": "stdout",
     "output_type": "stream",
     "text": [
      "City: Istanbul, Coordinates: (41.0136, 28.955)\n",
      "City: Ankara, Coordinates: (39.93, 32.85)\n",
      "City: İzmir, Coordinates: (38.42, 27.14)\n",
      "City: Bursa, Coordinates: (40.1833, 29.05)\n",
      "City: Antalya, Coordinates: (36.8874, 30.7075)\n",
      "City: Konya, Coordinates: (37.8667, 32.4833)\n",
      "City: Gaziantep, Coordinates: (37.0628, 37.3792)\n",
      "City: Şanlıurfa, Coordinates: (37.1583, 38.7917)\n",
      "City: Mersin, Coordinates: (36.8, 34.6333)\n",
      "City: Adana, Coordinates: (37.0, 35.3213)\n",
      "City: Diyarbakır, Coordinates: (37.91, 40.24)\n",
      "City: Kayseri, Coordinates: (38.7225, 35.4875)\n",
      "City: Samsun, Coordinates: (41.2903, 36.3336)\n",
      "City: Akçaabat, Coordinates: (41.0167, 39.55)\n",
      "City: Denizli, Coordinates: (37.7667, 29.0833)\n",
      "City: Çankaya, Coordinates: (39.9244, 32.8856)\n",
      "City: Esenyurt, Coordinates: (41.047, 28.658)\n",
      "City: Eskişehir, Coordinates: (39.7767, 30.5206)\n",
      "City: Seyhan, Coordinates: (36.9831, 35.3328)\n",
      "City: Küçükçekmece, Coordinates: (41.0, 28.8)\n",
      "City: Erzurum, Coordinates: (39.9086, 41.2769)\n",
      "City: Bağcılar, Coordinates: (41.0344, 28.8564)\n",
      "City: Pendik, Coordinates: (40.8747, 29.235)\n",
      "City: Selçuklu, Coordinates: (37.8814, 32.4922)\n",
      "City: Yıldırım, Coordinates: (40.11, 29.0821)\n",
      "City: Kartal, Coordinates: (40.8872, 29.19)\n",
      "City: Batman, Coordinates: (37.887, 41.132)\n",
      "City: Esenler, Coordinates: (41.0339, 28.8903)\n",
      "City: Kahramanmaraş, Coordinates: (37.5833, 36.9333)\n",
      "City: Kâğıthane, Coordinates: (41.0719, 28.9664)\n",
      "City: Avcılar, Coordinates: (40.9792, 28.7214)\n",
      "City: Trabzon, Coordinates: (41.005, 39.7225)\n",
      "City: Malatya, Coordinates: (38.3486, 38.3194)\n",
      "City: Elazığ, Coordinates: (38.6744, 39.2228)\n",
      "City: Yüreğir, Coordinates: (36.9981, 35.3439)\n",
      "City: Hatay, Coordinates: (36.2025, 36.1606)\n",
      "City: Sivas, Coordinates: (39.75, 37.0167)\n",
      "City: Gebze, Coordinates: (40.8, 29.4333)\n",
      "City: Kocaeli, Coordinates: (40.7625, 29.9175)\n",
      "City: Kayapınar, Coordinates: (37.94, 40.19)\n",
      "City: Manisa, Coordinates: (38.6306, 27.4222)\n",
      "City: Konak, Coordinates: (38.4189, 27.1285)\n",
      "City: Van, Coordinates: (38.4942, 43.38)\n",
      "City: Pamukkale, Coordinates: (37.9167, 29.1167)\n",
      "City: Sarıyer, Coordinates: (41.1669, 29.0572)\n",
      "City: Meram, Coordinates: (37.8364, 32.4383)\n",
      "City: Tarsus, Coordinates: (36.9165, 34.8951)\n",
      "City: Balıkesir, Coordinates: (39.6333, 27.8833)\n",
      "City: Beylikdüzü, Coordinates: (41.0011, 28.6419)\n",
      "City: Sultanbeyli, Coordinates: (40.9683, 29.2617)\n",
      "City: Aksaray, Coordinates: (38.3742, 34.0289)\n",
      "City: Alanya, Coordinates: (36.55, 32.0)\n",
      "City: Yeşilyurt, Coordinates: (38.2961, 38.2489)\n",
      "City: Adıyaman, Coordinates: (37.7639, 38.2778)\n",
      "City: Afyonkarahisar, Coordinates: (38.7578, 30.5386)\n",
      "City: İskenderun, Coordinates: (36.5817, 36.165)\n",
      "City: Battalgazi, Coordinates: (38.4228, 38.3656)\n",
      "City: Çorum, Coordinates: (40.5455, 34.957)\n",
      "City: Güngören, Coordinates: (41.0225, 28.8717)\n",
      "City: Çorlu, Coordinates: (41.15, 27.8)\n",
      "City: Sakarya, Coordinates: (40.7833, 30.4)\n",
      "City: Arnavutköy, Coordinates: (41.1856, 28.7406)\n",
      "City: İnegöl, Coordinates: (40.0806, 29.5097)\n",
      "City: Kütahya, Coordinates: (39.4167, 29.9833)\n",
      "City: Osmaniye, Coordinates: (37.075, 36.25)\n",
      "City: Isparta, Coordinates: (37.7647, 30.5567)\n",
      "City: Siverek, Coordinates: (37.75, 39.3167)\n",
      "City: Tuzla, Coordinates: (40.8161, 29.3006)\n",
      "City: Kızıltepe, Coordinates: (37.1939, 40.5861)\n",
      "City: Uşak, Coordinates: (38.6778, 29.4042)\n",
      "City: Çekme, Coordinates: (41.0369, 29.1786)\n",
      "City: Büyükçekmece, Coordinates: (41.02, 28.5775)\n",
      "City: Beykoz, Coordinates: (41.1342, 29.0922)\n",
      "City: Düzce, Coordinates: (40.8417, 31.1583)\n",
      "City: Manavgat, Coordinates: (36.7833, 31.4333)\n",
      "City: Ordu, Coordinates: (40.9833, 37.8833)\n",
      "City: Bolu, Coordinates: (40.7347, 31.6075)\n",
      "City: Tekirdağ, Coordinates: (40.9778, 27.5153)\n",
      "City: Tokat, Coordinates: (40.3139, 36.5542)\n",
      "City: Viranşehir, Coordinates: (37.2306, 39.7653)\n",
      "City: Karaköprü, Coordinates: (37.1847, 38.7908)\n",
      "City: Karaman, Coordinates: (37.1819, 33.2181)\n",
      "City: Muş, Coordinates: (38.7333, 41.4911)\n",
      "City: Kırıkkale, Coordinates: (39.8417, 33.5139)\n",
      "City: Aydın, Coordinates: (37.8481, 27.8453)\n",
      "City: Çanakkale, Coordinates: (40.1519, 26.4056)\n",
      "City: Edirne, Coordinates: (41.6769, 26.5556)\n",
      "City: Torbalı, Coordinates: (38.1619, 27.3583)\n",
      "City: Ereğli, Coordinates: (37.5167, 34.05)\n",
      "City: Bodrum, Coordinates: (37.0378, 27.4242)\n",
      "City: Menemen, Coordinates: (38.6, 27.0667)\n",
      "City: Akhisar, Coordinates: (38.9167, 27.8333)\n",
      "City: Çerkezköy, Coordinates: (41.2833, 28.0)\n",
      "City: Siirt, Coordinates: (37.925, 41.9458)\n",
      "City: Körfez, Coordinates: (40.7833, 29.7333)\n",
      "City: Talas, Coordinates: (38.6833, 35.5667)\n",
      "City: Turgutlu, Coordinates: (38.5, 27.7)\n",
      "City: Gölcük, Coordinates: (40.6667, 29.8333)\n",
      "City: Salihli, Coordinates: (38.4811, 28.1392)\n",
      "City: Ceyhan, Coordinates: (37.0289, 35.8125)\n",
      "City: Bingöl, Coordinates: (38.8861, 40.5017)\n",
      "City: Fethiye, Coordinates: (36.6514, 29.1231)\n",
      "City: Erzincan, Coordinates: (39.7464, 39.4914)\n",
      "City: Nazilli, Coordinates: (37.9125, 28.3206)\n",
      "City: Bartın, Coordinates: (41.6344, 32.3375)\n",
      "City: Edremit, Coordinates: (39.5922, 27.02)\n",
      "City: Bandırma, Coordinates: (40.35, 27.9667)\n",
      "City: Kırşehir, Coordinates: (39.1456, 34.1608)\n",
      "City: Nevşehir, Coordinates: (38.6264, 34.7139)\n",
      "City: Ağrı, Coordinates: (39.7186, 43.0508)\n",
      "City: Amasya, Coordinates: (40.65, 35.8331)\n",
      "City: Kastamonu, Coordinates: (41.3764, 33.7764)\n",
      "City: Lüleburgaz, Coordinates: (41.4056, 27.3569)\n",
      "City: Yalova, Coordinates: (40.6556, 29.275)\n",
      "City: Cizre, Coordinates: (37.332, 42.187)\n",
      "City: Elbistan, Coordinates: (38.2014, 37.1883)\n",
      "City: Nizip, Coordinates: (37.01, 37.7972)\n",
      "City: Rize, Coordinates: (41.0247, 40.5222)\n",
      "City: Çarşamba, Coordinates: (41.1992, 36.7275)\n",
      "City: Silivri, Coordinates: (41.0736, 28.2478)\n",
      "City: Iğdır, Coordinates: (39.9208, 44.0444)\n",
      "City: Giresun, Coordinates: (40.9153, 38.3894)\n",
      "City: Silopi, Coordinates: (37.2486, 42.4703)\n",
      "City: Ödemiş, Coordinates: (38.2311, 27.9719)\n",
      "City: Karabük, Coordinates: (41.1986, 32.6264)\n",
      "City: Kozan, Coordinates: (37.45, 35.8)\n",
      "City: Ergani, Coordinates: (38.2692, 39.7617)\n",
      "City: Çayırova, Coordinates: (40.8265, 29.3745)\n",
      "City: Ünye, Coordinates: (41.1333, 37.2833)\n",
      "City: Polatlı, Coordinates: (39.5842, 32.1472)\n",
      "City: Serik, Coordinates: (36.9167, 31.1)\n",
      "City: Kadirli, Coordinates: (37.3697, 36.1)\n",
      "City: Patnos, Coordinates: (39.2358, 42.8686)\n",
      "City: Kâhta, Coordinates: (37.7803, 38.6217)\n",
      "City: Doğubayazıt, Coordinates: (39.5472, 44.0833)\n",
      "City: Samandağ, Coordinates: (36.085, 35.9806)\n",
      "City: Zonguldak, Coordinates: (41.4564, 31.7986)\n",
      "City: Söke, Coordinates: (37.7508, 27.4103)\n",
      "City: Yüksekova, Coordinates: (37.569, 44.283)\n",
      "City: Silifke, Coordinates: (36.3761, 33.9322)\n",
      "City: Niğde, Coordinates: (37.9667, 34.6792)\n",
      "City: Karatepe, Coordinates: (40.7333, 29.9667)\n",
      "City: Kapaklı, Coordinates: (41.3333, 27.9667)\n",
      "City: Fatsa, Coordinates: (41.0333, 37.5)\n",
      "City: Kilis, Coordinates: (36.7167, 37.1167)\n",
      "City: Kars, Coordinates: (40.6078, 43.0958)\n",
      "City: Kuşadası, Coordinates: (37.8597, 27.2597)\n",
      "City: Midyat, Coordinates: (37.4167, 41.3697)\n",
      "City: Akçakale, Coordinates: (36.7108, 38.9478)\n",
      "City: Burdur, Coordinates: (37.7194, 30.2833)\n",
      "City: Soma, Coordinates: (39.1883, 27.6089)\n",
      "City: Kemalpaşa, Coordinates: (38.4278, 27.4161)\n",
      "City: Nusaybin, Coordinates: (37.075, 41.2153)\n",
      "City: Yozgat, Coordinates: (39.8208, 34.8083)\n",
      "City: Alaşehir, Coordinates: (38.35, 28.5167)\n",
      "City: Suruç, Coordinates: (36.9764, 38.4269)\n",
      "City: Bergama, Coordinates: (39.1167, 27.1833)\n",
      "City: Tavşanlı, Coordinates: (39.5333, 29.4833)\n",
      "City: Çankırı, Coordinates: (40.5986, 33.6192)\n",
      "City: Şırnak, Coordinates: (37.52, 42.459)\n",
      "City: Mardin, Coordinates: (37.3131, 40.735)\n",
      "City: Bilecik, Coordinates: (40.1431, 29.9792)\n",
      "City: Hakkari, Coordinates: (37.577, 43.739)\n",
      "City: Bitlis, Coordinates: (38.4, 42.1083)\n",
      "City: Bayburt, Coordinates: (40.2597, 40.2278)\n",
      "City: Kırklareli, Coordinates: (41.7347, 27.2253)\n",
      "City: Gümüşhane, Coordinates: (40.4597, 39.4778)\n",
      "City: Muğla, Coordinates: (37.2167, 28.3667)\n",
      "City: Ardahan, Coordinates: (41.1111, 42.7022)\n",
      "City: Tunceli, Coordinates: (39.1064, 39.5472)\n",
      "City: Artvin, Coordinates: (41.1833, 41.8181)\n",
      "City: Yumurtalık, Coordinates: (36.7678, 35.7922)\n",
      "City: Sinop, Coordinates: (42.0267, 35.1511)\n",
      "City: Yenice, Coordinates: (36.9667, 35.05)\n",
      "City: Adalar, Coordinates: (40.8578, 29.12)\n",
      "City: Çağlayan, Coordinates: (40.9, 39.7167)\n",
      "City: Mahmutbey, Coordinates: (41.0536, 28.8256)\n",
      "City: Etimesgut, Coordinates: (39.9458, 32.6694)\n",
      "City: Samandıra, Coordinates: (40.999, 29.2257)\n",
      "City: Keçiören, Coordinates: (40.0, 32.8667)\n",
      "City: Pursaklar, Coordinates: (40.032, 32.8953)\n",
      "City: Melikgazi, Coordinates: (38.75, 35.45)\n",
      "City: Altındağ, Coordinates: (39.9636, 32.9033)\n",
      "City: Buca, Coordinates: (38.35, 27.1667)\n",
      "City: Gaziemir, Coordinates: (38.3214, 27.1275)\n",
      "City: Karşıyaka, Coordinates: (38.4596, 27.1152)\n",
      "City: Kemerburgaz, Coordinates: (41.1617, 28.9206)\n",
      "City: Mamak, Coordinates: (39.9422, 32.9231)\n",
      "City: Bornova, Coordinates: (38.4697, 27.2211)\n",
      "City: Burç, Coordinates: (37.0136, 37.1791)\n",
      "City: Sincan, Coordinates: (39.9594, 32.5767)\n",
      "City: Kazanlı, Coordinates: (36.8156, 34.7576)\n",
      "City: Yenimahalle, Coordinates: (39.9719, 32.8119)\n",
      "City: Hadımköy, Coordinates: (41.1559, 28.6177)\n",
      "City: Mahmut Şevket Paşa, Coordinates: (41.1528, 29.1897)\n",
      "City: Değirmendere, Coordinates: (40.72, 29.7808)\n",
      "City: Yolboyu, Coordinates: (37.8976, 40.0009)\n",
      "City: Bağlar, Coordinates: (37.8333, 40.0)\n",
      "City: Yenişehir, Coordinates: (37.9415, 40.138)\n",
      "City: Erenler, Coordinates: (40.755, 30.3934)\n",
      "City: Kazımpaşa, Coordinates: (40.7916, 30.295)\n",
      "City: Serdivan, Coordinates: (40.7738, 30.3801)\n",
      "City: Darıca, Coordinates: (40.7797, 29.3945)\n"
     ]
    },
    {
     "data": {
      "text/plain": "{'Istanbul': (41.0136, 28.955),\n 'Ankara': (39.93, 32.85),\n 'İzmir': (38.42, 27.14),\n 'Bursa': (40.1833, 29.05),\n 'Antalya': (36.8874, 30.7075),\n 'Konya': (37.8667, 32.4833),\n 'Gaziantep': (37.0628, 37.3792),\n 'Şanlıurfa': (37.1583, 38.7917),\n 'Mersin': (36.8, 34.6333),\n 'Adana': (37.0, 35.3213),\n 'Diyarbakır': (37.91, 40.24),\n 'Kayseri': (38.7225, 35.4875),\n 'Samsun': (41.2903, 36.3336),\n 'Akçaabat': (41.0167, 39.55),\n 'Denizli': (37.7667, 29.0833),\n 'Çankaya': (39.9244, 32.8856),\n 'Esenyurt': (41.047, 28.658),\n 'Eskişehir': (39.7767, 30.5206),\n 'Seyhan': (36.9831, 35.3328),\n 'Küçükçekmece': (41.0, 28.8),\n 'Erzurum': (39.9086, 41.2769),\n 'Bağcılar': (41.0344, 28.8564),\n 'Pendik': (40.8747, 29.235),\n 'Selçuklu': (37.8814, 32.4922),\n 'Yıldırım': (40.11, 29.0821),\n 'Kartal': (40.8872, 29.19),\n 'Batman': (37.887, 41.132),\n 'Esenler': (41.0339, 28.8903),\n 'Kahramanmaraş': (37.5833, 36.9333),\n 'Kâğıthane': (41.0719, 28.9664),\n 'Avcılar': (40.9792, 28.7214),\n 'Trabzon': (41.005, 39.7225),\n 'Malatya': (38.3486, 38.3194),\n 'Elazığ': (38.6744, 39.2228),\n 'Yüreğir': (36.9981, 35.3439),\n 'Hatay': (36.2025, 36.1606),\n 'Sivas': (39.75, 37.0167),\n 'Gebze': (40.8, 29.4333),\n 'Kocaeli': (40.7625, 29.9175),\n 'Kayapınar': (37.94, 40.19),\n 'Manisa': (38.6306, 27.4222),\n 'Konak': (38.4189, 27.1285),\n 'Van': (38.4942, 43.38),\n 'Pamukkale': (37.9167, 29.1167),\n 'Sarıyer': (41.1669, 29.0572),\n 'Meram': (37.8364, 32.4383),\n 'Tarsus': (36.9165, 34.8951),\n 'Balıkesir': (39.6333, 27.8833),\n 'Beylikdüzü': (41.0011, 28.6419),\n 'Sultanbeyli': (40.9683, 29.2617),\n 'Aksaray': (38.3742, 34.0289),\n 'Alanya': (36.55, 32.0),\n 'Yeşilyurt': (38.2961, 38.2489),\n 'Adıyaman': (37.7639, 38.2778),\n 'Afyonkarahisar': (38.7578, 30.5386),\n 'İskenderun': (36.5817, 36.165),\n 'Battalgazi': (38.4228, 38.3656),\n 'Çorum': (40.5455, 34.957),\n 'Güngören': (41.0225, 28.8717),\n 'Çorlu': (41.15, 27.8),\n 'Sakarya': (40.7833, 30.4),\n 'Arnavutköy': (41.1856, 28.7406),\n 'İnegöl': (40.0806, 29.5097),\n 'Kütahya': (39.4167, 29.9833),\n 'Osmaniye': (37.075, 36.25),\n 'Isparta': (37.7647, 30.5567),\n 'Siverek': (37.75, 39.3167),\n 'Tuzla': (40.8161, 29.3006),\n 'Kızıltepe': (37.1939, 40.5861),\n 'Uşak': (38.6778, 29.4042),\n 'Çekme': (41.0369, 29.1786),\n 'Büyükçekmece': (41.02, 28.5775),\n 'Beykoz': (41.1342, 29.0922),\n 'Düzce': (40.8417, 31.1583),\n 'Manavgat': (36.7833, 31.4333),\n 'Ordu': (40.9833, 37.8833),\n 'Bolu': (40.7347, 31.6075),\n 'Tekirdağ': (40.9778, 27.5153),\n 'Tokat': (40.3139, 36.5542),\n 'Viranşehir': (37.2306, 39.7653),\n 'Karaköprü': (37.1847, 38.7908),\n 'Karaman': (37.1819, 33.2181),\n 'Muş': (38.7333, 41.4911),\n 'Kırıkkale': (39.8417, 33.5139),\n 'Aydın': (37.8481, 27.8453),\n 'Çanakkale': (40.1519, 26.4056),\n 'Edirne': (41.6769, 26.5556),\n 'Torbalı': (38.1619, 27.3583),\n 'Ereğli': (37.5167, 34.05),\n 'Bodrum': (37.0378, 27.4242),\n 'Menemen': (38.6, 27.0667),\n 'Akhisar': (38.9167, 27.8333),\n 'Çerkezköy': (41.2833, 28.0),\n 'Siirt': (37.925, 41.9458),\n 'Körfez': (40.7833, 29.7333),\n 'Talas': (38.6833, 35.5667),\n 'Turgutlu': (38.5, 27.7),\n 'Gölcük': (40.6667, 29.8333),\n 'Salihli': (38.4811, 28.1392),\n 'Ceyhan': (37.0289, 35.8125),\n 'Bingöl': (38.8861, 40.5017),\n 'Fethiye': (36.6514, 29.1231),\n 'Erzincan': (39.7464, 39.4914),\n 'Nazilli': (37.9125, 28.3206),\n 'Bartın': (41.6344, 32.3375),\n 'Edremit': (39.5922, 27.02),\n 'Bandırma': (40.35, 27.9667),\n 'Kırşehir': (39.1456, 34.1608),\n 'Nevşehir': (38.6264, 34.7139),\n 'Ağrı': (39.7186, 43.0508),\n 'Amasya': (40.65, 35.8331),\n 'Kastamonu': (41.3764, 33.7764),\n 'Lüleburgaz': (41.4056, 27.3569),\n 'Yalova': (40.6556, 29.275),\n 'Cizre': (37.332, 42.187),\n 'Elbistan': (38.2014, 37.1883),\n 'Nizip': (37.01, 37.7972),\n 'Rize': (41.0247, 40.5222),\n 'Çarşamba': (41.1992, 36.7275),\n 'Silivri': (41.0736, 28.2478),\n 'Iğdır': (39.9208, 44.0444),\n 'Giresun': (40.9153, 38.3894),\n 'Silopi': (37.2486, 42.4703),\n 'Ödemiş': (38.2311, 27.9719),\n 'Karabük': (41.1986, 32.6264),\n 'Kozan': (37.45, 35.8),\n 'Ergani': (38.2692, 39.7617),\n 'Çayırova': (40.8265, 29.3745),\n 'Ünye': (41.1333, 37.2833),\n 'Polatlı': (39.5842, 32.1472),\n 'Serik': (36.9167, 31.1),\n 'Kadirli': (37.3697, 36.1),\n 'Patnos': (39.2358, 42.8686),\n 'Kâhta': (37.7803, 38.6217),\n 'Doğubayazıt': (39.5472, 44.0833),\n 'Samandağ': (36.085, 35.9806),\n 'Zonguldak': (41.4564, 31.7986),\n 'Söke': (37.7508, 27.4103),\n 'Yüksekova': (37.569, 44.283),\n 'Silifke': (36.3761, 33.9322),\n 'Niğde': (37.9667, 34.6792),\n 'Karatepe': (40.7333, 29.9667),\n 'Kapaklı': (41.3333, 27.9667),\n 'Fatsa': (41.0333, 37.5),\n 'Kilis': (36.7167, 37.1167),\n 'Kars': (40.6078, 43.0958),\n 'Kuşadası': (37.8597, 27.2597),\n 'Midyat': (37.4167, 41.3697),\n 'Akçakale': (36.7108, 38.9478),\n 'Burdur': (37.7194, 30.2833),\n 'Soma': (39.1883, 27.6089),\n 'Kemalpaşa': (38.4278, 27.4161),\n 'Nusaybin': (37.075, 41.2153),\n 'Yozgat': (39.8208, 34.8083),\n 'Alaşehir': (38.35, 28.5167),\n 'Suruç': (36.9764, 38.4269),\n 'Bergama': (39.1167, 27.1833),\n 'Tavşanlı': (39.5333, 29.4833),\n 'Çankırı': (40.5986, 33.6192),\n 'Şırnak': (37.52, 42.459),\n 'Mardin': (37.3131, 40.735),\n 'Bilecik': (40.1431, 29.9792),\n 'Hakkari': (37.577, 43.739),\n 'Bitlis': (38.4, 42.1083),\n 'Bayburt': (40.2597, 40.2278),\n 'Kırklareli': (41.7347, 27.2253),\n 'Gümüşhane': (40.4597, 39.4778),\n 'Muğla': (37.2167, 28.3667),\n 'Ardahan': (41.1111, 42.7022),\n 'Tunceli': (39.1064, 39.5472),\n 'Artvin': (41.1833, 41.8181),\n 'Yumurtalık': (36.7678, 35.7922),\n 'Sinop': (42.0267, 35.1511),\n 'Yenice': (36.9667, 35.05),\n 'Adalar': (40.8578, 29.12),\n 'Çağlayan': (40.9, 39.7167),\n 'Mahmutbey': (41.0536, 28.8256),\n 'Etimesgut': (39.9458, 32.6694),\n 'Samandıra': (40.999, 29.2257),\n 'Keçiören': (40.0, 32.8667),\n 'Pursaklar': (40.032, 32.8953),\n 'Melikgazi': (38.75, 35.45),\n 'Altındağ': (39.9636, 32.9033),\n 'Buca': (38.35, 27.1667),\n 'Gaziemir': (38.3214, 27.1275),\n 'Karşıyaka': (38.4596, 27.1152),\n 'Kemerburgaz': (41.1617, 28.9206),\n 'Mamak': (39.9422, 32.9231),\n 'Bornova': (38.4697, 27.2211),\n 'Burç': (37.0136, 37.1791),\n 'Sincan': (39.9594, 32.5767),\n 'Kazanlı': (36.8156, 34.7576),\n 'Yenimahalle': (39.9719, 32.8119),\n 'Hadımköy': (41.1559, 28.6177),\n 'Mahmut Şevket Paşa': (41.1528, 29.1897),\n 'Değirmendere': (40.72, 29.7808),\n 'Yolboyu': (37.8976, 40.0009),\n 'Bağlar': (37.8333, 40.0),\n 'Yenişehir': (37.9415, 40.138),\n 'Erenler': (40.755, 30.3934),\n 'Kazımpaşa': (40.7916, 30.295),\n 'Serdivan': (40.7738, 30.3801),\n 'Darıca': (40.7797, 29.3945)}"
     },
     "execution_count": 41,
     "metadata": {},
     "output_type": "execute_result"
    }
   ],
   "source": [
    "# Replace 'file.csv' with your CSV file's name and path\n",
    "file_path = 'data/tr.csv'\n",
    "\n",
    "# Create an empty dictionary to store city coordinates\n",
    "city_coordinates = {}\n",
    "\n",
    "# Open the CSV file and read data\n",
    "with open(file_path, newline='', encoding='utf-8') as csvfile:\n",
    "    reader = csv.DictReader(csvfile)\n",
    "    for row in reader:\n",
    "        city = row['city']\n",
    "        lat = float(row['lat'])\n",
    "        lng = float(row['lng'])\n",
    "        city_coordinates[city] = (lat, lng)\n",
    "\n",
    "# Display the dictionary containing city coordinates\n",
    "for city, coordinates in city_coordinates.items():\n",
    "    print(f\"City: {city}, Coordinates: {coordinates}\")\n",
    "city_coordinates"
   ]
  },
  {
   "cell_type": "code",
   "execution_count": 42,
   "outputs": [
    {
     "data": {
      "text/plain": "datetime.datetime(2024, 1, 7, 18, 20, 36, 403376)"
     },
     "execution_count": 42,
     "metadata": {},
     "output_type": "execute_result"
    }
   ],
   "source": [
    "\n",
    "today = datetime.now()  # Get today's date\n",
    "one_year_ago = today - timedelta(days=365)  # Subtract 365 days for one year\n",
    "today"
   ],
   "metadata": {
    "collapsed": false,
    "ExecuteTime": {
     "end_time": "2024-01-07T15:20:36.452933700Z",
     "start_time": "2024-01-07T15:20:36.403376900Z"
    }
   },
   "id": "8d7df3adb4584a32"
  },
  {
   "cell_type": "code",
   "execution_count": 43,
   "outputs": [],
   "source": [
    "def format_date(date):\n",
    "\tformatted_date = date.strftime('%Y-%m-%d')\n",
    "\treturn formatted_date"
   ],
   "metadata": {
    "collapsed": false,
    "ExecuteTime": {
     "end_time": "2024-01-07T15:20:36.476527800Z",
     "start_time": "2024-01-07T15:20:36.413732Z"
    }
   },
   "id": "2e3c68c3683231d3"
  },
  {
   "cell_type": "code",
   "execution_count": 44,
   "outputs": [],
   "source": [
    "class OpenMeteoRequestsError(Exception):\n",
    "    pass"
   ],
   "metadata": {
    "collapsed": false,
    "ExecuteTime": {
     "end_time": "2024-01-07T15:20:36.493669600Z",
     "start_time": "2024-01-07T15:20:36.429375700Z"
    }
   },
   "id": "f11288c35b4c4d76"
  },
  {
   "cell_type": "code",
   "execution_count": 45,
   "id": "0ef15f82",
   "metadata": {
    "ExecuteTime": {
     "end_time": "2024-01-07T15:20:36.634389600Z",
     "start_time": "2024-01-07T15:20:36.452933700Z"
    }
   },
   "outputs": [],
   "source": [
    "def api_call(lat,long):\n",
    "\t# Setup the Open-Meteo API client with cache and retry on error\n",
    "\tcache_session = requests_cache.CachedSession('.cache', expire_after = -1)\n",
    "\tretry_session = retry(cache_session, retries = 5, backoff_factor = 0.2)\n",
    "\topenmeteo = openmeteo_requests.Client(session = retry_session)\n",
    "\t\n",
    "\t# Make sure all required weather variables are listed here\n",
    "\t# The order of variables in hourly or daily is important to assign them correctly below\n",
    "\turl = \"https://archive-api.open-meteo.com/v1/archive\"\n",
    "\tparams = {\n",
    "\t\t\"latitude\": lat,\n",
    "\t\t\"longitude\": long,\n",
    "\t\t\"start_date\": format_date(one_year_ago),\n",
    "\t\t\"end_date\": format_date(today),\n",
    "\t\t\"hourly\": [\"temperature_2m\", \"relative_humidity_2m\", \"rain\", \"snowfall\", \"surface_pressure\", \"cloud_cover\", \"wind_speed_10m\"]\n",
    "\t}\n",
    "\tresponses = openmeteo.weather_api(url, params=params)\n",
    "\t\n",
    "\t# Process first location. Add a for-loop for multiple locations or weather models\n",
    "\tresponse = responses[0]\n",
    "\tprint(f\"Coordinates {response.Latitude()}°E {response.Longitude()}°N\")\n",
    "\tprint(f\"Elevation {response.Elevation()} m asl\")\n",
    "\tprint(f\"Timezone {response.Timezone()} {response.TimezoneAbbreviation()}\")\n",
    "\tprint(f\"Timezone difference to GMT+0 {response.UtcOffsetSeconds()} s\")\n",
    "\t\n",
    "\t# Process hourly data. The order of variables needs to be the same as requested.\n",
    "\thourly = response.Hourly()\n",
    "\thourly_temperature_2m = hourly.Variables(0).ValuesAsNumpy()\n",
    "\thourly_relative_humidity_2m = hourly.Variables(1).ValuesAsNumpy()\n",
    "\thourly_rain = hourly.Variables(2).ValuesAsNumpy()\n",
    "\thourly_snowfall = hourly.Variables(3).ValuesAsNumpy()\n",
    "\thourly_surface_pressure = hourly.Variables(4).ValuesAsNumpy()\n",
    "\thourly_cloud_cover = hourly.Variables(5).ValuesAsNumpy()\n",
    "\thourly_wind_speed_10m = hourly.Variables(6).ValuesAsNumpy()\n",
    "\t\n",
    "\thourly_data = {\"date\": pd.date_range(\n",
    "\t\tstart=pd.to_datetime(hourly.Time(), unit=\"s\"),\n",
    "\t\tend=pd.to_datetime(hourly.TimeEnd(), unit=\"s\"),\n",
    "\t\tfreq=pd.Timedelta(seconds=hourly.Interval()),\n",
    "\t\tinclusive=\"left\"\n",
    "\t), \"temperature_2m\": hourly_temperature_2m, \"relative_humidity_2m\": hourly_relative_humidity_2m, \"rain\": hourly_rain,\n",
    "\t\t\"snowfall\": hourly_snowfall, \"surface_pressure\": hourly_surface_pressure, \"cloud_cover\": hourly_cloud_cover,\n",
    "\t\t\"wind_speed_10m\": hourly_wind_speed_10m}\n",
    "\t\n",
    "\thourly_dataframe = pd.DataFrame(data = hourly_data)\n",
    "\treturn hourly_dataframe"
   ]
  },
  {
   "cell_type": "code",
   "execution_count": 46,
   "outputs": [
    {
     "name": "stdout",
     "output_type": "stream",
     "text": [
      "Coordinates 40.808433532714844°E 29.40340805053711°N\n",
      "Elevation 57.0 m asl\n",
      "Timezone None None\n",
      "Timezone difference to GMT+0 0 s\n",
      "Coordinates 40.808433532714844°E 29.40340805053711°N\n",
      "Elevation 57.0 m asl\n",
      "Timezone None None\n",
      "Timezone difference to GMT+0 0 s\n",
      "Coordinates 40.808433532714844°E 29.40340805053711°N\n",
      "Elevation 57.0 m asl\n",
      "Timezone None None\n",
      "Timezone difference to GMT+0 0 s\n",
      "Coordinates 40.808433532714844°E 29.40340805053711°N\n",
      "Elevation 57.0 m asl\n",
      "Timezone None None\n",
      "Timezone difference to GMT+0 0 s\n",
      "Coordinates 40.808433532714844°E 29.40340805053711°N\n",
      "Elevation 57.0 m asl\n",
      "Timezone None None\n",
      "Timezone difference to GMT+0 0 s\n",
      "Coordinates 40.808433532714844°E 29.40340805053711°N\n",
      "Elevation 57.0 m asl\n",
      "Timezone None None\n",
      "Timezone difference to GMT+0 0 s\n",
      "Coordinates 40.808433532714844°E 29.40340805053711°N\n",
      "Elevation 57.0 m asl\n",
      "Timezone None None\n",
      "Timezone difference to GMT+0 0 s\n",
      "Coordinates 40.808433532714844°E 29.40340805053711°N\n",
      "Elevation 57.0 m asl\n",
      "Timezone None None\n",
      "Timezone difference to GMT+0 0 s\n",
      "Coordinates 40.808433532714844°E 29.40340805053711°N\n",
      "Elevation 57.0 m asl\n",
      "Timezone None None\n",
      "Timezone difference to GMT+0 0 s\n",
      "Coordinates 40.808433532714844°E 29.40340805053711°N\n",
      "Elevation 57.0 m asl\n",
      "Timezone None None\n",
      "Timezone difference to GMT+0 0 s\n",
      "Coordinates 40.808433532714844°E 29.40340805053711°N\n",
      "Elevation 57.0 m asl\n",
      "Timezone None None\n",
      "Timezone difference to GMT+0 0 s\n",
      "Coordinates 40.808433532714844°E 29.40340805053711°N\n",
      "Elevation 57.0 m asl\n",
      "Timezone None None\n",
      "Timezone difference to GMT+0 0 s\n",
      "Coordinates 40.808433532714844°E 29.40340805053711°N\n",
      "Elevation 57.0 m asl\n",
      "Timezone None None\n",
      "Timezone difference to GMT+0 0 s\n",
      "Coordinates 40.808433532714844°E 29.40340805053711°N\n",
      "Elevation 57.0 m asl\n",
      "Timezone None None\n",
      "Timezone difference to GMT+0 0 s\n",
      "Coordinates 40.808433532714844°E 29.40340805053711°N\n",
      "Elevation 57.0 m asl\n",
      "Timezone None None\n",
      "Timezone difference to GMT+0 0 s\n",
      "Coordinates 40.808433532714844°E 29.40340805053711°N\n",
      "Elevation 57.0 m asl\n",
      "Timezone None None\n",
      "Timezone difference to GMT+0 0 s\n",
      "Coordinates 40.808433532714844°E 29.40340805053711°N\n",
      "Elevation 57.0 m asl\n",
      "Timezone None None\n",
      "Timezone difference to GMT+0 0 s\n",
      "Coordinates 40.808433532714844°E 29.40340805053711°N\n",
      "Elevation 57.0 m asl\n",
      "Timezone None None\n",
      "Timezone difference to GMT+0 0 s\n",
      "Coordinates 40.808433532714844°E 29.40340805053711°N\n",
      "Elevation 57.0 m asl\n",
      "Timezone None None\n",
      "Timezone difference to GMT+0 0 s\n",
      "Coordinates 40.808433532714844°E 29.40340805053711°N\n",
      "Elevation 57.0 m asl\n",
      "Timezone None None\n",
      "Timezone difference to GMT+0 0 s\n",
      "Coordinates 40.808433532714844°E 29.40340805053711°N\n",
      "Elevation 57.0 m asl\n",
      "Timezone None None\n",
      "Timezone difference to GMT+0 0 s\n",
      "Coordinates 40.808433532714844°E 29.40340805053711°N\n",
      "Elevation 57.0 m asl\n",
      "Timezone None None\n",
      "Timezone difference to GMT+0 0 s\n",
      "Coordinates 40.808433532714844°E 29.40340805053711°N\n",
      "Elevation 57.0 m asl\n",
      "Timezone None None\n",
      "Timezone difference to GMT+0 0 s\n",
      "Coordinates 40.808433532714844°E 29.40340805053711°N\n",
      "Elevation 57.0 m asl\n",
      "Timezone None None\n",
      "Timezone difference to GMT+0 0 s\n",
      "Coordinates 40.808433532714844°E 29.40340805053711°N\n",
      "Elevation 57.0 m asl\n",
      "Timezone None None\n",
      "Timezone difference to GMT+0 0 s\n",
      "Coordinates 40.808433532714844°E 29.40340805053711°N\n",
      "Elevation 57.0 m asl\n",
      "Timezone None None\n",
      "Timezone difference to GMT+0 0 s\n",
      "Coordinates 40.808433532714844°E 29.40340805053711°N\n",
      "Elevation 57.0 m asl\n",
      "Timezone None None\n",
      "Timezone difference to GMT+0 0 s\n",
      "Coordinates 40.808433532714844°E 29.40340805053711°N\n",
      "Elevation 57.0 m asl\n",
      "Timezone None None\n",
      "Timezone difference to GMT+0 0 s\n",
      "Coordinates 40.808433532714844°E 29.40340805053711°N\n",
      "Elevation 57.0 m asl\n",
      "Timezone None None\n",
      "Timezone difference to GMT+0 0 s\n",
      "Coordinates 40.808433532714844°E 29.40340805053711°N\n",
      "Elevation 57.0 m asl\n",
      "Timezone None None\n",
      "Timezone difference to GMT+0 0 s\n",
      "Coordinates 40.808433532714844°E 29.40340805053711°N\n",
      "Elevation 57.0 m asl\n",
      "Timezone None None\n",
      "Timezone difference to GMT+0 0 s\n",
      "Coordinates 40.808433532714844°E 29.40340805053711°N\n",
      "Elevation 57.0 m asl\n",
      "Timezone None None\n",
      "Timezone difference to GMT+0 0 s\n",
      "Coordinates 40.808433532714844°E 29.40340805053711°N\n",
      "Elevation 57.0 m asl\n",
      "Timezone None None\n",
      "Timezone difference to GMT+0 0 s\n",
      "Coordinates 40.808433532714844°E 29.40340805053711°N\n",
      "Elevation 57.0 m asl\n",
      "Timezone None None\n",
      "Timezone difference to GMT+0 0 s\n",
      "Coordinates 40.808433532714844°E 29.40340805053711°N\n",
      "Elevation 57.0 m asl\n",
      "Timezone None None\n",
      "Timezone difference to GMT+0 0 s\n",
      "Coordinates 40.808433532714844°E 29.40340805053711°N\n",
      "Elevation 57.0 m asl\n",
      "Timezone None None\n",
      "Timezone difference to GMT+0 0 s\n",
      "Coordinates 40.808433532714844°E 29.40340805053711°N\n",
      "Elevation 57.0 m asl\n",
      "Timezone None None\n",
      "Timezone difference to GMT+0 0 s\n",
      "Coordinates 40.808433532714844°E 29.40340805053711°N\n",
      "Elevation 57.0 m asl\n",
      "Timezone None None\n",
      "Timezone difference to GMT+0 0 s\n",
      "Coordinates 40.808433532714844°E 29.40340805053711°N\n",
      "Elevation 57.0 m asl\n",
      "Timezone None None\n",
      "Timezone difference to GMT+0 0 s\n",
      "Coordinates 40.808433532714844°E 29.40340805053711°N\n",
      "Elevation 57.0 m asl\n",
      "Timezone None None\n",
      "Timezone difference to GMT+0 0 s\n",
      "Coordinates 40.808433532714844°E 29.40340805053711°N\n",
      "Elevation 57.0 m asl\n",
      "Timezone None None\n",
      "Timezone difference to GMT+0 0 s\n",
      "Coordinates 40.808433532714844°E 29.40340805053711°N\n",
      "Elevation 57.0 m asl\n",
      "Timezone None None\n",
      "Timezone difference to GMT+0 0 s\n",
      "Coordinates 40.808433532714844°E 29.40340805053711°N\n",
      "Elevation 57.0 m asl\n",
      "Timezone None None\n",
      "Timezone difference to GMT+0 0 s\n",
      "Coordinates 40.808433532714844°E 29.40340805053711°N\n",
      "Elevation 57.0 m asl\n",
      "Timezone None None\n",
      "Timezone difference to GMT+0 0 s\n",
      "Coordinates 40.808433532714844°E 29.40340805053711°N\n",
      "Elevation 57.0 m asl\n",
      "Timezone None None\n",
      "Timezone difference to GMT+0 0 s\n",
      "Coordinates 40.808433532714844°E 29.40340805053711°N\n",
      "Elevation 57.0 m asl\n",
      "Timezone None None\n",
      "Timezone difference to GMT+0 0 s\n",
      "Coordinates 40.808433532714844°E 29.40340805053711°N\n",
      "Elevation 57.0 m asl\n",
      "Timezone None None\n",
      "Timezone difference to GMT+0 0 s\n",
      "Coordinates 40.808433532714844°E 29.40340805053711°N\n",
      "Elevation 57.0 m asl\n",
      "Timezone None None\n",
      "Timezone difference to GMT+0 0 s\n",
      "Coordinates 40.808433532714844°E 29.40340805053711°N\n",
      "Elevation 57.0 m asl\n",
      "Timezone None None\n",
      "Timezone difference to GMT+0 0 s\n",
      "Coordinates 40.808433532714844°E 29.40340805053711°N\n",
      "Elevation 57.0 m asl\n",
      "Timezone None None\n",
      "Timezone difference to GMT+0 0 s\n",
      "Coordinates 40.808433532714844°E 29.40340805053711°N\n",
      "Elevation 57.0 m asl\n",
      "Timezone None None\n",
      "Timezone difference to GMT+0 0 s\n",
      "Coordinates 40.808433532714844°E 29.40340805053711°N\n",
      "Elevation 57.0 m asl\n",
      "Timezone None None\n",
      "Timezone difference to GMT+0 0 s\n",
      "Coordinates 40.808433532714844°E 29.40340805053711°N\n",
      "Elevation 57.0 m asl\n",
      "Timezone None None\n",
      "Timezone difference to GMT+0 0 s\n",
      "Coordinates 40.808433532714844°E 29.40340805053711°N\n",
      "Elevation 57.0 m asl\n",
      "Timezone None None\n",
      "Timezone difference to GMT+0 0 s\n",
      "Coordinates 40.808433532714844°E 29.40340805053711°N\n",
      "Elevation 57.0 m asl\n",
      "Timezone None None\n",
      "Timezone difference to GMT+0 0 s\n",
      "Coordinates 40.808433532714844°E 29.40340805053711°N\n",
      "Elevation 57.0 m asl\n",
      "Timezone None None\n",
      "Timezone difference to GMT+0 0 s\n",
      "Coordinates 40.808433532714844°E 29.40340805053711°N\n",
      "Elevation 57.0 m asl\n",
      "Timezone None None\n",
      "Timezone difference to GMT+0 0 s\n",
      "Coordinates 40.808433532714844°E 29.40340805053711°N\n",
      "Elevation 57.0 m asl\n",
      "Timezone None None\n",
      "Timezone difference to GMT+0 0 s\n",
      "Coordinates 40.808433532714844°E 29.40340805053711°N\n",
      "Elevation 57.0 m asl\n",
      "Timezone None None\n",
      "Timezone difference to GMT+0 0 s\n",
      "Coordinates 40.808433532714844°E 29.40340805053711°N\n",
      "Elevation 57.0 m asl\n",
      "Timezone None None\n",
      "Timezone difference to GMT+0 0 s\n",
      "Coordinates 40.808433532714844°E 29.40340805053711°N\n",
      "Elevation 57.0 m asl\n",
      "Timezone None None\n",
      "Timezone difference to GMT+0 0 s\n",
      "Coordinates 40.808433532714844°E 29.40340805053711°N\n",
      "Elevation 57.0 m asl\n",
      "Timezone None None\n",
      "Timezone difference to GMT+0 0 s\n",
      "Coordinates 40.808433532714844°E 29.40340805053711°N\n",
      "Elevation 57.0 m asl\n",
      "Timezone None None\n",
      "Timezone difference to GMT+0 0 s\n",
      "Coordinates 40.808433532714844°E 29.40340805053711°N\n",
      "Elevation 57.0 m asl\n",
      "Timezone None None\n",
      "Timezone difference to GMT+0 0 s\n",
      "Coordinates 40.808433532714844°E 29.40340805053711°N\n",
      "Elevation 57.0 m asl\n",
      "Timezone None None\n",
      "Timezone difference to GMT+0 0 s\n",
      "Coordinates 40.808433532714844°E 29.40340805053711°N\n",
      "Elevation 57.0 m asl\n",
      "Timezone None None\n",
      "Timezone difference to GMT+0 0 s\n",
      "Coordinates 40.808433532714844°E 29.40340805053711°N\n",
      "Elevation 57.0 m asl\n",
      "Timezone None None\n",
      "Timezone difference to GMT+0 0 s\n",
      "Coordinates 40.808433532714844°E 29.40340805053711°N\n",
      "Elevation 57.0 m asl\n",
      "Timezone None None\n",
      "Timezone difference to GMT+0 0 s\n",
      "Coordinates 40.808433532714844°E 29.40340805053711°N\n",
      "Elevation 57.0 m asl\n",
      "Timezone None None\n",
      "Timezone difference to GMT+0 0 s\n",
      "Coordinates 40.808433532714844°E 29.40340805053711°N\n",
      "Elevation 57.0 m asl\n",
      "Timezone None None\n",
      "Timezone difference to GMT+0 0 s\n",
      "Coordinates 40.808433532714844°E 29.40340805053711°N\n",
      "Elevation 57.0 m asl\n",
      "Timezone None None\n",
      "Timezone difference to GMT+0 0 s\n",
      "Coordinates 40.808433532714844°E 29.40340805053711°N\n",
      "Elevation 57.0 m asl\n",
      "Timezone None None\n",
      "Timezone difference to GMT+0 0 s\n",
      "Coordinates 40.808433532714844°E 29.40340805053711°N\n",
      "Elevation 57.0 m asl\n",
      "Timezone None None\n",
      "Timezone difference to GMT+0 0 s\n",
      "Coordinates 40.808433532714844°E 29.40340805053711°N\n",
      "Elevation 57.0 m asl\n",
      "Timezone None None\n",
      "Timezone difference to GMT+0 0 s\n",
      "Coordinates 40.808433532714844°E 29.40340805053711°N\n",
      "Elevation 57.0 m asl\n",
      "Timezone None None\n",
      "Timezone difference to GMT+0 0 s\n",
      "Coordinates 40.808433532714844°E 29.40340805053711°N\n",
      "Elevation 57.0 m asl\n",
      "Timezone None None\n",
      "Timezone difference to GMT+0 0 s\n",
      "Coordinates 40.808433532714844°E 29.40340805053711°N\n",
      "Elevation 57.0 m asl\n",
      "Timezone None None\n",
      "Timezone difference to GMT+0 0 s\n",
      "Coordinates 40.808433532714844°E 29.40340805053711°N\n",
      "Elevation 57.0 m asl\n",
      "Timezone None None\n",
      "Timezone difference to GMT+0 0 s\n",
      "Coordinates 40.808433532714844°E 29.40340805053711°N\n",
      "Elevation 57.0 m asl\n",
      "Timezone None None\n",
      "Timezone difference to GMT+0 0 s\n",
      "Coordinates 40.808433532714844°E 29.40340805053711°N\n",
      "Elevation 57.0 m asl\n",
      "Timezone None None\n",
      "Timezone difference to GMT+0 0 s\n",
      "Coordinates 40.808433532714844°E 29.40340805053711°N\n",
      "Elevation 57.0 m asl\n",
      "Timezone None None\n",
      "Timezone difference to GMT+0 0 s\n",
      "Coordinates 40.808433532714844°E 29.40340805053711°N\n",
      "Elevation 57.0 m asl\n",
      "Timezone None None\n",
      "Timezone difference to GMT+0 0 s\n",
      "Coordinates 40.808433532714844°E 29.40340805053711°N\n",
      "Elevation 57.0 m asl\n",
      "Timezone None None\n",
      "Timezone difference to GMT+0 0 s\n",
      "Coordinates 40.808433532714844°E 29.40340805053711°N\n",
      "Elevation 57.0 m asl\n",
      "Timezone None None\n",
      "Timezone difference to GMT+0 0 s\n",
      "Coordinates 40.808433532714844°E 29.40340805053711°N\n",
      "Elevation 57.0 m asl\n",
      "Timezone None None\n",
      "Timezone difference to GMT+0 0 s\n",
      "Coordinates 40.808433532714844°E 29.40340805053711°N\n",
      "Elevation 57.0 m asl\n",
      "Timezone None None\n",
      "Timezone difference to GMT+0 0 s\n",
      "Coordinates 40.808433532714844°E 29.40340805053711°N\n",
      "Elevation 57.0 m asl\n",
      "Timezone None None\n",
      "Timezone difference to GMT+0 0 s\n",
      "Coordinates 40.808433532714844°E 29.40340805053711°N\n",
      "Elevation 57.0 m asl\n",
      "Timezone None None\n",
      "Timezone difference to GMT+0 0 s\n",
      "Coordinates 40.808433532714844°E 29.40340805053711°N\n",
      "Elevation 57.0 m asl\n",
      "Timezone None None\n",
      "Timezone difference to GMT+0 0 s\n",
      "Coordinates 40.808433532714844°E 29.40340805053711°N\n",
      "Elevation 57.0 m asl\n",
      "Timezone None None\n",
      "Timezone difference to GMT+0 0 s\n",
      "Coordinates 40.808433532714844°E 29.40340805053711°N\n",
      "Elevation 57.0 m asl\n",
      "Timezone None None\n",
      "Timezone difference to GMT+0 0 s\n",
      "Coordinates 40.808433532714844°E 29.40340805053711°N\n",
      "Elevation 57.0 m asl\n",
      "Timezone None None\n",
      "Timezone difference to GMT+0 0 s\n",
      "Coordinates 40.808433532714844°E 29.40340805053711°N\n",
      "Elevation 57.0 m asl\n",
      "Timezone None None\n",
      "Timezone difference to GMT+0 0 s\n",
      "Coordinates 40.808433532714844°E 29.40340805053711°N\n",
      "Elevation 57.0 m asl\n",
      "Timezone None None\n",
      "Timezone difference to GMT+0 0 s\n",
      "Coordinates 40.808433532714844°E 29.40340805053711°N\n",
      "Elevation 57.0 m asl\n",
      "Timezone None None\n",
      "Timezone difference to GMT+0 0 s\n",
      "Coordinates 40.808433532714844°E 29.40340805053711°N\n",
      "Elevation 57.0 m asl\n",
      "Timezone None None\n",
      "Timezone difference to GMT+0 0 s\n",
      "Coordinates 40.808433532714844°E 29.40340805053711°N\n",
      "Elevation 57.0 m asl\n",
      "Timezone None None\n",
      "Timezone difference to GMT+0 0 s\n",
      "Coordinates 40.808433532714844°E 29.40340805053711°N\n",
      "Elevation 57.0 m asl\n",
      "Timezone None None\n",
      "Timezone difference to GMT+0 0 s\n",
      "Coordinates 40.808433532714844°E 29.40340805053711°N\n",
      "Elevation 57.0 m asl\n",
      "Timezone None None\n",
      "Timezone difference to GMT+0 0 s\n",
      "Coordinates 40.808433532714844°E 29.40340805053711°N\n",
      "Elevation 57.0 m asl\n",
      "Timezone None None\n",
      "Timezone difference to GMT+0 0 s\n",
      "Coordinates 40.808433532714844°E 29.40340805053711°N\n",
      "Elevation 57.0 m asl\n",
      "Timezone None None\n",
      "Timezone difference to GMT+0 0 s\n",
      "Coordinates 40.808433532714844°E 29.40340805053711°N\n",
      "Elevation 57.0 m asl\n",
      "Timezone None None\n",
      "Timezone difference to GMT+0 0 s\n",
      "Coordinates 40.808433532714844°E 29.40340805053711°N\n",
      "Elevation 57.0 m asl\n",
      "Timezone None None\n",
      "Timezone difference to GMT+0 0 s\n",
      "Coordinates 40.808433532714844°E 29.40340805053711°N\n",
      "Elevation 57.0 m asl\n",
      "Timezone None None\n",
      "Timezone difference to GMT+0 0 s\n",
      "Coordinates 40.808433532714844°E 29.40340805053711°N\n",
      "Elevation 57.0 m asl\n",
      "Timezone None None\n",
      "Timezone difference to GMT+0 0 s\n",
      "Coordinates 40.808433532714844°E 29.40340805053711°N\n",
      "Elevation 57.0 m asl\n",
      "Timezone None None\n",
      "Timezone difference to GMT+0 0 s\n",
      "Coordinates 40.808433532714844°E 29.40340805053711°N\n",
      "Elevation 57.0 m asl\n",
      "Timezone None None\n",
      "Timezone difference to GMT+0 0 s\n",
      "Coordinates 40.808433532714844°E 29.40340805053711°N\n",
      "Elevation 57.0 m asl\n",
      "Timezone None None\n",
      "Timezone difference to GMT+0 0 s\n",
      "Coordinates 40.808433532714844°E 29.40340805053711°N\n",
      "Elevation 57.0 m asl\n",
      "Timezone None None\n",
      "Timezone difference to GMT+0 0 s\n",
      "Coordinates 40.808433532714844°E 29.40340805053711°N\n",
      "Elevation 57.0 m asl\n",
      "Timezone None None\n",
      "Timezone difference to GMT+0 0 s\n",
      "Coordinates 40.808433532714844°E 29.40340805053711°N\n",
      "Elevation 57.0 m asl\n",
      "Timezone None None\n",
      "Timezone difference to GMT+0 0 s\n",
      "Coordinates 40.808433532714844°E 29.40340805053711°N\n",
      "Elevation 57.0 m asl\n",
      "Timezone None None\n",
      "Timezone difference to GMT+0 0 s\n",
      "Coordinates 40.808433532714844°E 29.40340805053711°N\n",
      "Elevation 57.0 m asl\n",
      "Timezone None None\n",
      "Timezone difference to GMT+0 0 s\n",
      "Coordinates 40.808433532714844°E 29.40340805053711°N\n",
      "Elevation 57.0 m asl\n",
      "Timezone None None\n",
      "Timezone difference to GMT+0 0 s\n",
      "Coordinates 40.808433532714844°E 29.40340805053711°N\n",
      "Elevation 57.0 m asl\n",
      "Timezone None None\n",
      "Timezone difference to GMT+0 0 s\n",
      "Coordinates 40.808433532714844°E 29.40340805053711°N\n",
      "Elevation 57.0 m asl\n",
      "Timezone None None\n",
      "Timezone difference to GMT+0 0 s\n",
      "Coordinates 40.808433532714844°E 29.40340805053711°N\n",
      "Elevation 57.0 m asl\n",
      "Timezone None None\n",
      "Timezone difference to GMT+0 0 s\n",
      "Coordinates 40.808433532714844°E 29.40340805053711°N\n",
      "Elevation 57.0 m asl\n",
      "Timezone None None\n",
      "Timezone difference to GMT+0 0 s\n",
      "Coordinates 40.808433532714844°E 29.40340805053711°N\n",
      "Elevation 57.0 m asl\n",
      "Timezone None None\n",
      "Timezone difference to GMT+0 0 s\n",
      "Coordinates 40.808433532714844°E 29.40340805053711°N\n",
      "Elevation 57.0 m asl\n",
      "Timezone None None\n",
      "Timezone difference to GMT+0 0 s\n",
      "Coordinates 40.808433532714844°E 29.40340805053711°N\n",
      "Elevation 57.0 m asl\n",
      "Timezone None None\n",
      "Timezone difference to GMT+0 0 s\n",
      "Coordinates 40.808433532714844°E 29.40340805053711°N\n",
      "Elevation 57.0 m asl\n",
      "Timezone None None\n",
      "Timezone difference to GMT+0 0 s\n",
      "Coordinates 40.808433532714844°E 29.40340805053711°N\n",
      "Elevation 57.0 m asl\n",
      "Timezone None None\n",
      "Timezone difference to GMT+0 0 s\n",
      "Coordinates 40.808433532714844°E 29.40340805053711°N\n",
      "Elevation 57.0 m asl\n",
      "Timezone None None\n",
      "Timezone difference to GMT+0 0 s\n",
      "Coordinates 40.808433532714844°E 29.40340805053711°N\n",
      "Elevation 57.0 m asl\n",
      "Timezone None None\n",
      "Timezone difference to GMT+0 0 s\n",
      "Coordinates 40.808433532714844°E 29.40340805053711°N\n",
      "Elevation 57.0 m asl\n",
      "Timezone None None\n",
      "Timezone difference to GMT+0 0 s\n",
      "Coordinates 40.808433532714844°E 29.40340805053711°N\n",
      "Elevation 57.0 m asl\n",
      "Timezone None None\n",
      "Timezone difference to GMT+0 0 s\n",
      "Coordinates 40.808433532714844°E 29.40340805053711°N\n",
      "Elevation 57.0 m asl\n",
      "Timezone None None\n",
      "Timezone difference to GMT+0 0 s\n",
      "Coordinates 40.808433532714844°E 29.40340805053711°N\n",
      "Elevation 57.0 m asl\n",
      "Timezone None None\n",
      "Timezone difference to GMT+0 0 s\n",
      "Coordinates 40.808433532714844°E 29.40340805053711°N\n",
      "Elevation 57.0 m asl\n",
      "Timezone None None\n",
      "Timezone difference to GMT+0 0 s\n",
      "Coordinates 40.808433532714844°E 29.40340805053711°N\n",
      "Elevation 57.0 m asl\n",
      "Timezone None None\n",
      "Timezone difference to GMT+0 0 s\n",
      "Coordinates 40.808433532714844°E 29.40340805053711°N\n",
      "Elevation 57.0 m asl\n",
      "Timezone None None\n",
      "Timezone difference to GMT+0 0 s\n",
      "Coordinates 40.808433532714844°E 29.40340805053711°N\n",
      "Elevation 57.0 m asl\n",
      "Timezone None None\n",
      "Timezone difference to GMT+0 0 s\n",
      "Coordinates 40.808433532714844°E 29.40340805053711°N\n",
      "Elevation 57.0 m asl\n",
      "Timezone None None\n",
      "Timezone difference to GMT+0 0 s\n",
      "Coordinates 40.808433532714844°E 29.40340805053711°N\n",
      "Elevation 57.0 m asl\n",
      "Timezone None None\n",
      "Timezone difference to GMT+0 0 s\n",
      "Coordinates 40.808433532714844°E 29.40340805053711°N\n",
      "Elevation 57.0 m asl\n",
      "Timezone None None\n",
      "Timezone difference to GMT+0 0 s\n",
      "Coordinates 40.808433532714844°E 29.40340805053711°N\n",
      "Elevation 57.0 m asl\n",
      "Timezone None None\n",
      "Timezone difference to GMT+0 0 s\n",
      "Coordinates 40.808433532714844°E 29.40340805053711°N\n",
      "Elevation 57.0 m asl\n",
      "Timezone None None\n",
      "Timezone difference to GMT+0 0 s\n",
      "Coordinates 40.808433532714844°E 29.40340805053711°N\n",
      "Elevation 57.0 m asl\n",
      "Timezone None None\n",
      "Timezone difference to GMT+0 0 s\n",
      "Coordinates 40.808433532714844°E 29.40340805053711°N\n",
      "Elevation 57.0 m asl\n",
      "Timezone None None\n",
      "Timezone difference to GMT+0 0 s\n",
      "Coordinates 40.808433532714844°E 29.40340805053711°N\n",
      "Elevation 57.0 m asl\n",
      "Timezone None None\n",
      "Timezone difference to GMT+0 0 s\n",
      "Coordinates 40.808433532714844°E 29.40340805053711°N\n",
      "Elevation 57.0 m asl\n",
      "Timezone None None\n",
      "Timezone difference to GMT+0 0 s\n",
      "Coordinates 40.808433532714844°E 29.40340805053711°N\n",
      "Elevation 57.0 m asl\n",
      "Timezone None None\n",
      "Timezone difference to GMT+0 0 s\n",
      "Coordinates 40.808433532714844°E 29.40340805053711°N\n",
      "Elevation 57.0 m asl\n",
      "Timezone None None\n",
      "Timezone difference to GMT+0 0 s\n",
      "Coordinates 40.808433532714844°E 29.40340805053711°N\n",
      "Elevation 57.0 m asl\n",
      "Timezone None None\n",
      "Timezone difference to GMT+0 0 s\n",
      "Coordinates 40.808433532714844°E 29.40340805053711°N\n",
      "Elevation 57.0 m asl\n",
      "Timezone None None\n",
      "Timezone difference to GMT+0 0 s\n",
      "Coordinates 40.808433532714844°E 29.40340805053711°N\n",
      "Elevation 57.0 m asl\n",
      "Timezone None None\n",
      "Timezone difference to GMT+0 0 s\n",
      "Coordinates 40.808433532714844°E 29.40340805053711°N\n",
      "Elevation 57.0 m asl\n",
      "Timezone None None\n",
      "Timezone difference to GMT+0 0 s\n",
      "Coordinates 40.808433532714844°E 29.40340805053711°N\n",
      "Elevation 57.0 m asl\n",
      "Timezone None None\n",
      "Timezone difference to GMT+0 0 s\n",
      "Coordinates 40.808433532714844°E 29.40340805053711°N\n",
      "Elevation 57.0 m asl\n",
      "Timezone None None\n",
      "Timezone difference to GMT+0 0 s\n",
      "Coordinates 40.808433532714844°E 29.40340805053711°N\n",
      "Elevation 57.0 m asl\n",
      "Timezone None None\n",
      "Timezone difference to GMT+0 0 s\n",
      "Coordinates 40.808433532714844°E 29.40340805053711°N\n",
      "Elevation 57.0 m asl\n",
      "Timezone None None\n",
      "Timezone difference to GMT+0 0 s\n",
      "Coordinates 40.808433532714844°E 29.40340805053711°N\n",
      "Elevation 57.0 m asl\n",
      "Timezone None None\n",
      "Timezone difference to GMT+0 0 s\n",
      "Coordinates 40.808433532714844°E 29.40340805053711°N\n",
      "Elevation 57.0 m asl\n",
      "Timezone None None\n",
      "Timezone difference to GMT+0 0 s\n",
      "Coordinates 40.808433532714844°E 29.40340805053711°N\n",
      "Elevation 57.0 m asl\n",
      "Timezone None None\n",
      "Timezone difference to GMT+0 0 s\n",
      "Coordinates 40.808433532714844°E 29.40340805053711°N\n",
      "Elevation 57.0 m asl\n",
      "Timezone None None\n",
      "Timezone difference to GMT+0 0 s\n",
      "Coordinates 40.808433532714844°E 29.40340805053711°N\n",
      "Elevation 57.0 m asl\n",
      "Timezone None None\n",
      "Timezone difference to GMT+0 0 s\n",
      "Coordinates 40.808433532714844°E 29.40340805053711°N\n",
      "Elevation 57.0 m asl\n",
      "Timezone None None\n",
      "Timezone difference to GMT+0 0 s\n",
      "Coordinates 40.808433532714844°E 29.40340805053711°N\n",
      "Elevation 57.0 m asl\n",
      "Timezone None None\n",
      "Timezone difference to GMT+0 0 s\n",
      "Coordinates 40.808433532714844°E 29.40340805053711°N\n",
      "Elevation 57.0 m asl\n",
      "Timezone None None\n",
      "Timezone difference to GMT+0 0 s\n",
      "Coordinates 40.808433532714844°E 29.40340805053711°N\n",
      "Elevation 57.0 m asl\n",
      "Timezone None None\n",
      "Timezone difference to GMT+0 0 s\n",
      "Coordinates 40.808433532714844°E 29.40340805053711°N\n",
      "Elevation 57.0 m asl\n",
      "Timezone None None\n",
      "Timezone difference to GMT+0 0 s\n",
      "Coordinates 40.808433532714844°E 29.40340805053711°N\n",
      "Elevation 57.0 m asl\n",
      "Timezone None None\n",
      "Timezone difference to GMT+0 0 s\n",
      "Coordinates 40.808433532714844°E 29.40340805053711°N\n",
      "Elevation 57.0 m asl\n",
      "Timezone None None\n",
      "Timezone difference to GMT+0 0 s\n",
      "Coordinates 40.808433532714844°E 29.40340805053711°N\n",
      "Elevation 57.0 m asl\n",
      "Timezone None None\n",
      "Timezone difference to GMT+0 0 s\n",
      "Coordinates 40.808433532714844°E 29.40340805053711°N\n",
      "Elevation 57.0 m asl\n",
      "Timezone None None\n",
      "Timezone difference to GMT+0 0 s\n",
      "Coordinates 40.808433532714844°E 29.40340805053711°N\n",
      "Elevation 57.0 m asl\n",
      "Timezone None None\n",
      "Timezone difference to GMT+0 0 s\n",
      "Coordinates 40.808433532714844°E 29.40340805053711°N\n",
      "Elevation 57.0 m asl\n",
      "Timezone None None\n",
      "Timezone difference to GMT+0 0 s\n",
      "Coordinates 40.808433532714844°E 29.40340805053711°N\n",
      "Elevation 57.0 m asl\n",
      "Timezone None None\n",
      "Timezone difference to GMT+0 0 s\n",
      "Coordinates 40.808433532714844°E 29.40340805053711°N\n",
      "Elevation 57.0 m asl\n",
      "Timezone None None\n",
      "Timezone difference to GMT+0 0 s\n",
      "Coordinates 40.808433532714844°E 29.40340805053711°N\n",
      "Elevation 57.0 m asl\n",
      "Timezone None None\n",
      "Timezone difference to GMT+0 0 s\n",
      "Coordinates 40.808433532714844°E 29.40340805053711°N\n",
      "Elevation 57.0 m asl\n",
      "Timezone None None\n",
      "Timezone difference to GMT+0 0 s\n",
      "Coordinates 40.808433532714844°E 29.40340805053711°N\n",
      "Elevation 57.0 m asl\n",
      "Timezone None None\n",
      "Timezone difference to GMT+0 0 s\n",
      "Coordinates 40.808433532714844°E 29.40340805053711°N\n",
      "Elevation 57.0 m asl\n",
      "Timezone None None\n",
      "Timezone difference to GMT+0 0 s\n",
      "Coordinates 40.808433532714844°E 29.40340805053711°N\n",
      "Elevation 57.0 m asl\n",
      "Timezone None None\n",
      "Timezone difference to GMT+0 0 s\n",
      "Coordinates 40.808433532714844°E 29.40340805053711°N\n",
      "Elevation 57.0 m asl\n",
      "Timezone None None\n",
      "Timezone difference to GMT+0 0 s\n",
      "Coordinates 40.808433532714844°E 29.40340805053711°N\n",
      "Elevation 57.0 m asl\n",
      "Timezone None None\n",
      "Timezone difference to GMT+0 0 s\n",
      "Coordinates 40.808433532714844°E 29.40340805053711°N\n",
      "Elevation 57.0 m asl\n",
      "Timezone None None\n",
      "Timezone difference to GMT+0 0 s\n",
      "Coordinates 40.808433532714844°E 29.40340805053711°N\n",
      "Elevation 57.0 m asl\n",
      "Timezone None None\n",
      "Timezone difference to GMT+0 0 s\n",
      "Coordinates 40.808433532714844°E 29.40340805053711°N\n",
      "Elevation 57.0 m asl\n",
      "Timezone None None\n",
      "Timezone difference to GMT+0 0 s\n",
      "Coordinates 40.808433532714844°E 29.40340805053711°N\n",
      "Elevation 57.0 m asl\n",
      "Timezone None None\n",
      "Timezone difference to GMT+0 0 s\n",
      "Coordinates 40.808433532714844°E 29.40340805053711°N\n",
      "Elevation 57.0 m asl\n",
      "Timezone None None\n",
      "Timezone difference to GMT+0 0 s\n",
      "Coordinates 40.808433532714844°E 29.40340805053711°N\n",
      "Elevation 57.0 m asl\n",
      "Timezone None None\n",
      "Timezone difference to GMT+0 0 s\n",
      "Coordinates 40.808433532714844°E 29.40340805053711°N\n",
      "Elevation 57.0 m asl\n",
      "Timezone None None\n",
      "Timezone difference to GMT+0 0 s\n",
      "Coordinates 40.808433532714844°E 29.40340805053711°N\n",
      "Elevation 57.0 m asl\n",
      "Timezone None None\n",
      "Timezone difference to GMT+0 0 s\n",
      "Coordinates 40.808433532714844°E 29.40340805053711°N\n",
      "Elevation 57.0 m asl\n",
      "Timezone None None\n",
      "Timezone difference to GMT+0 0 s\n",
      "Coordinates 40.808433532714844°E 29.40340805053711°N\n",
      "Elevation 57.0 m asl\n",
      "Timezone None None\n",
      "Timezone difference to GMT+0 0 s\n",
      "Coordinates 40.808433532714844°E 29.40340805053711°N\n",
      "Elevation 57.0 m asl\n",
      "Timezone None None\n",
      "Timezone difference to GMT+0 0 s\n",
      "Coordinates 40.808433532714844°E 29.40340805053711°N\n",
      "Elevation 57.0 m asl\n",
      "Timezone None None\n",
      "Timezone difference to GMT+0 0 s\n",
      "Coordinates 40.808433532714844°E 29.40340805053711°N\n",
      "Elevation 57.0 m asl\n",
      "Timezone None None\n",
      "Timezone difference to GMT+0 0 s\n",
      "Coordinates 40.808433532714844°E 29.40340805053711°N\n",
      "Elevation 57.0 m asl\n",
      "Timezone None None\n",
      "Timezone difference to GMT+0 0 s\n",
      "Coordinates 40.808433532714844°E 29.40340805053711°N\n",
      "Elevation 57.0 m asl\n",
      "Timezone None None\n",
      "Timezone difference to GMT+0 0 s\n",
      "Coordinates 40.808433532714844°E 29.40340805053711°N\n",
      "Elevation 57.0 m asl\n",
      "Timezone None None\n",
      "Timezone difference to GMT+0 0 s\n",
      "Coordinates 40.808433532714844°E 29.40340805053711°N\n",
      "Elevation 57.0 m asl\n",
      "Timezone None None\n",
      "Timezone difference to GMT+0 0 s\n",
      "Coordinates 40.808433532714844°E 29.40340805053711°N\n",
      "Elevation 57.0 m asl\n",
      "Timezone None None\n",
      "Timezone difference to GMT+0 0 s\n",
      "Coordinates 40.808433532714844°E 29.40340805053711°N\n",
      "Elevation 57.0 m asl\n",
      "Timezone None None\n",
      "Timezone difference to GMT+0 0 s\n",
      "Coordinates 40.808433532714844°E 29.40340805053711°N\n",
      "Elevation 57.0 m asl\n",
      "Timezone None None\n",
      "Timezone difference to GMT+0 0 s\n",
      "Coordinates 40.808433532714844°E 29.40340805053711°N\n",
      "Elevation 57.0 m asl\n",
      "Timezone None None\n",
      "Timezone difference to GMT+0 0 s\n",
      "Coordinates 40.808433532714844°E 29.40340805053711°N\n",
      "Elevation 57.0 m asl\n",
      "Timezone None None\n",
      "Timezone difference to GMT+0 0 s\n",
      "Coordinates 40.808433532714844°E 29.40340805053711°N\n",
      "Elevation 57.0 m asl\n",
      "Timezone None None\n",
      "Timezone difference to GMT+0 0 s\n",
      "Coordinates 40.808433532714844°E 29.40340805053711°N\n",
      "Elevation 57.0 m asl\n",
      "Timezone None None\n",
      "Timezone difference to GMT+0 0 s\n",
      "Coordinates 40.808433532714844°E 29.40340805053711°N\n",
      "Elevation 57.0 m asl\n",
      "Timezone None None\n",
      "Timezone difference to GMT+0 0 s\n",
      "Coordinates 40.808433532714844°E 29.40340805053711°N\n",
      "Elevation 57.0 m asl\n",
      "Timezone None None\n",
      "Timezone difference to GMT+0 0 s\n"
     ]
    },
    {
     "data": {
      "text/plain": "                    date  temperature_2m  relative_humidity_2m  rain  \\\n0    2023-01-07 00:00:00           7.594             82.153587   0.0   \n1    2023-01-07 01:00:00           6.794             83.208969   0.0   \n2    2023-01-07 02:00:00           6.444             84.046982   0.0   \n3    2023-01-07 03:00:00           6.194             85.507019   0.0   \n4    2023-01-07 04:00:00           6.444             86.135239   0.0   \n...                  ...             ...                   ...   ...   \n8779 2024-01-07 19:00:00             NaN                   NaN   NaN   \n8780 2024-01-07 20:00:00             NaN                   NaN   NaN   \n8781 2024-01-07 21:00:00             NaN                   NaN   NaN   \n8782 2024-01-07 22:00:00             NaN                   NaN   NaN   \n8783 2024-01-07 23:00:00             NaN                   NaN   NaN   \n\n      snowfall  surface_pressure  cloud_cover  wind_speed_10m  \n0          0.0       1017.621765    14.400001        9.504272  \n1          0.0       1017.899597     8.700000        7.787991  \n2          0.0       1017.692139    36.299999        6.989936  \n3          0.0       1017.785034    68.100006        6.489992  \n4          0.0       1018.089233    68.400002        6.489992  \n...        ...               ...          ...             ...  \n8779       NaN               NaN          NaN             NaN  \n8780       NaN               NaN          NaN             NaN  \n8781       NaN               NaN          NaN             NaN  \n8782       NaN               NaN          NaN             NaN  \n8783       NaN               NaN          NaN             NaN  \n\n[1783152 rows x 8 columns]",
      "text/html": "<div>\n<style scoped>\n    .dataframe tbody tr th:only-of-type {\n        vertical-align: middle;\n    }\n\n    .dataframe tbody tr th {\n        vertical-align: top;\n    }\n\n    .dataframe thead th {\n        text-align: right;\n    }\n</style>\n<table border=\"1\" class=\"dataframe\">\n  <thead>\n    <tr style=\"text-align: right;\">\n      <th></th>\n      <th>date</th>\n      <th>temperature_2m</th>\n      <th>relative_humidity_2m</th>\n      <th>rain</th>\n      <th>snowfall</th>\n      <th>surface_pressure</th>\n      <th>cloud_cover</th>\n      <th>wind_speed_10m</th>\n    </tr>\n  </thead>\n  <tbody>\n    <tr>\n      <th>0</th>\n      <td>2023-01-07 00:00:00</td>\n      <td>7.594</td>\n      <td>82.153587</td>\n      <td>0.0</td>\n      <td>0.0</td>\n      <td>1017.621765</td>\n      <td>14.400001</td>\n      <td>9.504272</td>\n    </tr>\n    <tr>\n      <th>1</th>\n      <td>2023-01-07 01:00:00</td>\n      <td>6.794</td>\n      <td>83.208969</td>\n      <td>0.0</td>\n      <td>0.0</td>\n      <td>1017.899597</td>\n      <td>8.700000</td>\n      <td>7.787991</td>\n    </tr>\n    <tr>\n      <th>2</th>\n      <td>2023-01-07 02:00:00</td>\n      <td>6.444</td>\n      <td>84.046982</td>\n      <td>0.0</td>\n      <td>0.0</td>\n      <td>1017.692139</td>\n      <td>36.299999</td>\n      <td>6.989936</td>\n    </tr>\n    <tr>\n      <th>3</th>\n      <td>2023-01-07 03:00:00</td>\n      <td>6.194</td>\n      <td>85.507019</td>\n      <td>0.0</td>\n      <td>0.0</td>\n      <td>1017.785034</td>\n      <td>68.100006</td>\n      <td>6.489992</td>\n    </tr>\n    <tr>\n      <th>4</th>\n      <td>2023-01-07 04:00:00</td>\n      <td>6.444</td>\n      <td>86.135239</td>\n      <td>0.0</td>\n      <td>0.0</td>\n      <td>1018.089233</td>\n      <td>68.400002</td>\n      <td>6.489992</td>\n    </tr>\n    <tr>\n      <th>...</th>\n      <td>...</td>\n      <td>...</td>\n      <td>...</td>\n      <td>...</td>\n      <td>...</td>\n      <td>...</td>\n      <td>...</td>\n      <td>...</td>\n    </tr>\n    <tr>\n      <th>8779</th>\n      <td>2024-01-07 19:00:00</td>\n      <td>NaN</td>\n      <td>NaN</td>\n      <td>NaN</td>\n      <td>NaN</td>\n      <td>NaN</td>\n      <td>NaN</td>\n      <td>NaN</td>\n    </tr>\n    <tr>\n      <th>8780</th>\n      <td>2024-01-07 20:00:00</td>\n      <td>NaN</td>\n      <td>NaN</td>\n      <td>NaN</td>\n      <td>NaN</td>\n      <td>NaN</td>\n      <td>NaN</td>\n      <td>NaN</td>\n    </tr>\n    <tr>\n      <th>8781</th>\n      <td>2024-01-07 21:00:00</td>\n      <td>NaN</td>\n      <td>NaN</td>\n      <td>NaN</td>\n      <td>NaN</td>\n      <td>NaN</td>\n      <td>NaN</td>\n      <td>NaN</td>\n    </tr>\n    <tr>\n      <th>8782</th>\n      <td>2024-01-07 22:00:00</td>\n      <td>NaN</td>\n      <td>NaN</td>\n      <td>NaN</td>\n      <td>NaN</td>\n      <td>NaN</td>\n      <td>NaN</td>\n      <td>NaN</td>\n    </tr>\n    <tr>\n      <th>8783</th>\n      <td>2024-01-07 23:00:00</td>\n      <td>NaN</td>\n      <td>NaN</td>\n      <td>NaN</td>\n      <td>NaN</td>\n      <td>NaN</td>\n      <td>NaN</td>\n      <td>NaN</td>\n    </tr>\n  </tbody>\n</table>\n<p>1783152 rows × 8 columns</p>\n</div>"
     },
     "execution_count": 46,
     "metadata": {},
     "output_type": "execute_result"
    }
   ],
   "source": [
    "data_frame = pd.DataFrame()\n",
    "\n",
    "for city in city_coordinates:\n",
    "    time.sleep(1)\n",
    "    df = api_call(lat, lng)\n",
    "    if data_frame.empty:\n",
    "        data_frame = df\n",
    "    else:\n",
    "        data_frame = pd.concat((data_frame, df))\n",
    "data_frame"
   ],
   "metadata": {
    "collapsed": false,
    "ExecuteTime": {
     "end_time": "2024-01-07T15:20:43.592343800Z",
     "start_time": "2024-01-07T15:20:36.487336700Z"
    }
   },
   "id": "ff84cd56"
  },
  {
   "cell_type": "code",
   "execution_count": 47,
   "outputs": [
    {
     "data": {
      "text/plain": "                 date  temperature_2m  relative_humidity_2m  rain  snowfall  \\\n0 2023-01-07 00:00:00           7.594             82.153587   0.0       0.0   \n1 2023-01-07 01:00:00           6.794             83.208969   0.0       0.0   \n2 2023-01-07 02:00:00           6.444             84.046982   0.0       0.0   \n3 2023-01-07 03:00:00           6.194             85.507019   0.0       0.0   \n4 2023-01-07 04:00:00           6.444             86.135239   0.0       0.0   \n\n   surface_pressure  cloud_cover  wind_speed_10m  \n0       1017.621765    14.400001        9.504272  \n1       1017.899597     8.700000        7.787991  \n2       1017.692139    36.299999        6.989936  \n3       1017.785034    68.100006        6.489992  \n4       1018.089233    68.400002        6.489992  ",
      "text/html": "<div>\n<style scoped>\n    .dataframe tbody tr th:only-of-type {\n        vertical-align: middle;\n    }\n\n    .dataframe tbody tr th {\n        vertical-align: top;\n    }\n\n    .dataframe thead th {\n        text-align: right;\n    }\n</style>\n<table border=\"1\" class=\"dataframe\">\n  <thead>\n    <tr style=\"text-align: right;\">\n      <th></th>\n      <th>date</th>\n      <th>temperature_2m</th>\n      <th>relative_humidity_2m</th>\n      <th>rain</th>\n      <th>snowfall</th>\n      <th>surface_pressure</th>\n      <th>cloud_cover</th>\n      <th>wind_speed_10m</th>\n    </tr>\n  </thead>\n  <tbody>\n    <tr>\n      <th>0</th>\n      <td>2023-01-07 00:00:00</td>\n      <td>7.594</td>\n      <td>82.153587</td>\n      <td>0.0</td>\n      <td>0.0</td>\n      <td>1017.621765</td>\n      <td>14.400001</td>\n      <td>9.504272</td>\n    </tr>\n    <tr>\n      <th>1</th>\n      <td>2023-01-07 01:00:00</td>\n      <td>6.794</td>\n      <td>83.208969</td>\n      <td>0.0</td>\n      <td>0.0</td>\n      <td>1017.899597</td>\n      <td>8.700000</td>\n      <td>7.787991</td>\n    </tr>\n    <tr>\n      <th>2</th>\n      <td>2023-01-07 02:00:00</td>\n      <td>6.444</td>\n      <td>84.046982</td>\n      <td>0.0</td>\n      <td>0.0</td>\n      <td>1017.692139</td>\n      <td>36.299999</td>\n      <td>6.989936</td>\n    </tr>\n    <tr>\n      <th>3</th>\n      <td>2023-01-07 03:00:00</td>\n      <td>6.194</td>\n      <td>85.507019</td>\n      <td>0.0</td>\n      <td>0.0</td>\n      <td>1017.785034</td>\n      <td>68.100006</td>\n      <td>6.489992</td>\n    </tr>\n    <tr>\n      <th>4</th>\n      <td>2023-01-07 04:00:00</td>\n      <td>6.444</td>\n      <td>86.135239</td>\n      <td>0.0</td>\n      <td>0.0</td>\n      <td>1018.089233</td>\n      <td>68.400002</td>\n      <td>6.489992</td>\n    </tr>\n  </tbody>\n</table>\n</div>"
     },
     "execution_count": 47,
     "metadata": {},
     "output_type": "execute_result"
    }
   ],
   "source": [
    "data_frame.head()"
   ],
   "metadata": {
    "collapsed": false,
    "ExecuteTime": {
     "end_time": "2024-01-07T15:20:43.667956300Z",
     "start_time": "2024-01-07T15:20:43.609425600Z"
    }
   },
   "id": "a900f41610d158d1"
  },
  {
   "cell_type": "markdown",
   "source": [
    "# Feature selection"
   ],
   "metadata": {
    "collapsed": false
   },
   "id": "c8e3b8f1baec27b6"
  },
  {
   "cell_type": "code",
   "execution_count": 48,
   "outputs": [
    {
     "data": {
      "text/plain": "                    date  temperature_2m  relative_humidity_2m  rain  \\\n0    2023-01-07 00:00:00        7.594000             82.153587   0.0   \n1    2023-01-07 01:00:00        6.794000             83.208969   0.0   \n2    2023-01-07 02:00:00        6.444000             84.046982   0.0   \n3    2023-01-07 03:00:00        6.194000             85.507019   0.0   \n4    2023-01-07 04:00:00        6.444000             86.135239   0.0   \n...                  ...             ...                   ...   ...   \n8730 2024-01-05 18:00:00        9.493999             81.832985   0.0   \n8731 2024-01-05 19:00:00        8.444000             85.157410   0.0   \n8732 2024-01-05 20:00:00        8.444000             81.978683   0.0   \n8733 2024-01-05 21:00:00        8.743999             76.516251   0.0   \n8734 2024-01-05 22:00:00        8.794000             74.157814   0.0   \n\n      snowfall  surface_pressure  cloud_cover  wind_speed_10m  \n0          0.0       1017.621765     8.700000        7.787991  \n1          0.0       1017.899597    36.299999        6.989936  \n2          0.0       1017.692139    68.100006        6.489992  \n3          0.0       1017.785034    68.400002        6.489992  \n4          0.0       1018.089233    36.600002        5.991594  \n...        ...               ...          ...             ...  \n8730       0.0       1013.100952     0.300000        7.928178  \n8731       0.0       1013.372742    17.100000       10.105681  \n8732       0.0       1013.472046    12.600000       12.015589  \n8733       0.0       1013.181458    21.300001       12.144331  \n8734       0.0       1012.984131    15.300000       12.224107  \n\n[1773205 rows x 8 columns]",
      "text/html": "<div>\n<style scoped>\n    .dataframe tbody tr th:only-of-type {\n        vertical-align: middle;\n    }\n\n    .dataframe tbody tr th {\n        vertical-align: top;\n    }\n\n    .dataframe thead th {\n        text-align: right;\n    }\n</style>\n<table border=\"1\" class=\"dataframe\">\n  <thead>\n    <tr style=\"text-align: right;\">\n      <th></th>\n      <th>date</th>\n      <th>temperature_2m</th>\n      <th>relative_humidity_2m</th>\n      <th>rain</th>\n      <th>snowfall</th>\n      <th>surface_pressure</th>\n      <th>cloud_cover</th>\n      <th>wind_speed_10m</th>\n    </tr>\n  </thead>\n  <tbody>\n    <tr>\n      <th>0</th>\n      <td>2023-01-07 00:00:00</td>\n      <td>7.594000</td>\n      <td>82.153587</td>\n      <td>0.0</td>\n      <td>0.0</td>\n      <td>1017.621765</td>\n      <td>8.700000</td>\n      <td>7.787991</td>\n    </tr>\n    <tr>\n      <th>1</th>\n      <td>2023-01-07 01:00:00</td>\n      <td>6.794000</td>\n      <td>83.208969</td>\n      <td>0.0</td>\n      <td>0.0</td>\n      <td>1017.899597</td>\n      <td>36.299999</td>\n      <td>6.989936</td>\n    </tr>\n    <tr>\n      <th>2</th>\n      <td>2023-01-07 02:00:00</td>\n      <td>6.444000</td>\n      <td>84.046982</td>\n      <td>0.0</td>\n      <td>0.0</td>\n      <td>1017.692139</td>\n      <td>68.100006</td>\n      <td>6.489992</td>\n    </tr>\n    <tr>\n      <th>3</th>\n      <td>2023-01-07 03:00:00</td>\n      <td>6.194000</td>\n      <td>85.507019</td>\n      <td>0.0</td>\n      <td>0.0</td>\n      <td>1017.785034</td>\n      <td>68.400002</td>\n      <td>6.489992</td>\n    </tr>\n    <tr>\n      <th>4</th>\n      <td>2023-01-07 04:00:00</td>\n      <td>6.444000</td>\n      <td>86.135239</td>\n      <td>0.0</td>\n      <td>0.0</td>\n      <td>1018.089233</td>\n      <td>36.600002</td>\n      <td>5.991594</td>\n    </tr>\n    <tr>\n      <th>...</th>\n      <td>...</td>\n      <td>...</td>\n      <td>...</td>\n      <td>...</td>\n      <td>...</td>\n      <td>...</td>\n      <td>...</td>\n      <td>...</td>\n    </tr>\n    <tr>\n      <th>8730</th>\n      <td>2024-01-05 18:00:00</td>\n      <td>9.493999</td>\n      <td>81.832985</td>\n      <td>0.0</td>\n      <td>0.0</td>\n      <td>1013.100952</td>\n      <td>0.300000</td>\n      <td>7.928178</td>\n    </tr>\n    <tr>\n      <th>8731</th>\n      <td>2024-01-05 19:00:00</td>\n      <td>8.444000</td>\n      <td>85.157410</td>\n      <td>0.0</td>\n      <td>0.0</td>\n      <td>1013.372742</td>\n      <td>17.100000</td>\n      <td>10.105681</td>\n    </tr>\n    <tr>\n      <th>8732</th>\n      <td>2024-01-05 20:00:00</td>\n      <td>8.444000</td>\n      <td>81.978683</td>\n      <td>0.0</td>\n      <td>0.0</td>\n      <td>1013.472046</td>\n      <td>12.600000</td>\n      <td>12.015589</td>\n    </tr>\n    <tr>\n      <th>8733</th>\n      <td>2024-01-05 21:00:00</td>\n      <td>8.743999</td>\n      <td>76.516251</td>\n      <td>0.0</td>\n      <td>0.0</td>\n      <td>1013.181458</td>\n      <td>21.300001</td>\n      <td>12.144331</td>\n    </tr>\n    <tr>\n      <th>8734</th>\n      <td>2024-01-05 22:00:00</td>\n      <td>8.794000</td>\n      <td>74.157814</td>\n      <td>0.0</td>\n      <td>0.0</td>\n      <td>1012.984131</td>\n      <td>15.300000</td>\n      <td>12.224107</td>\n    </tr>\n  </tbody>\n</table>\n<p>1773205 rows × 8 columns</p>\n</div>"
     },
     "execution_count": 48,
     "metadata": {},
     "output_type": "execute_result"
    }
   ],
   "source": [
    "selected_features = data_frame.drop(columns=['temperature_2m', 'relative_humidity_2m','surface_pressure'])\n",
    "\n",
    "target_variables = ['rain','snowfall', 'cloud_cover', 'wind_speed_10m']\n",
    "\n",
    "# Assuming you want to predict each target variable for the next hour\n",
    "for target_variable in target_variables:\n",
    "    # Shift the target variable by 1 hour to align with features\n",
    "    data_frame[target_variable] = data_frame[target_variable].shift(-1)\n",
    "\n",
    "# Drop the last row to maintain alignment of features and labels\n",
    "data_frame = data_frame.dropna()\n",
    "data_frame"
   ],
   "metadata": {
    "collapsed": false,
    "ExecuteTime": {
     "end_time": "2024-01-07T15:26:53.176378700Z",
     "start_time": "2024-01-07T15:26:52.749167300Z"
    }
   },
   "id": "5067c679d92062ad"
  },
  {
   "cell_type": "code",
   "execution_count": 49,
   "outputs": [
    {
     "data": {
      "text/plain": "                    date  rain  snowfall  cloud_cover  wind_speed_10m\n0    2023-01-07 00:00:00   0.0       0.0     8.700000        7.787991\n1    2023-01-07 01:00:00   0.0       0.0    36.299999        6.989936\n2    2023-01-07 02:00:00   0.0       0.0    68.100006        6.489992\n3    2023-01-07 03:00:00   0.0       0.0    68.400002        6.489992\n4    2023-01-07 04:00:00   0.0       0.0    36.600002        5.991594\n...                  ...   ...       ...          ...             ...\n8730 2024-01-05 18:00:00   0.0       0.0     0.300000        7.928178\n8731 2024-01-05 19:00:00   0.0       0.0    17.100000       10.105681\n8732 2024-01-05 20:00:00   0.0       0.0    12.600000       12.015589\n8733 2024-01-05 21:00:00   0.0       0.0    21.300001       12.144331\n8734 2024-01-05 22:00:00   0.0       0.0    15.300000       12.224107\n\n[1773205 rows x 5 columns]",
      "text/html": "<div>\n<style scoped>\n    .dataframe tbody tr th:only-of-type {\n        vertical-align: middle;\n    }\n\n    .dataframe tbody tr th {\n        vertical-align: top;\n    }\n\n    .dataframe thead th {\n        text-align: right;\n    }\n</style>\n<table border=\"1\" class=\"dataframe\">\n  <thead>\n    <tr style=\"text-align: right;\">\n      <th></th>\n      <th>date</th>\n      <th>rain</th>\n      <th>snowfall</th>\n      <th>cloud_cover</th>\n      <th>wind_speed_10m</th>\n    </tr>\n  </thead>\n  <tbody>\n    <tr>\n      <th>0</th>\n      <td>2023-01-07 00:00:00</td>\n      <td>0.0</td>\n      <td>0.0</td>\n      <td>8.700000</td>\n      <td>7.787991</td>\n    </tr>\n    <tr>\n      <th>1</th>\n      <td>2023-01-07 01:00:00</td>\n      <td>0.0</td>\n      <td>0.0</td>\n      <td>36.299999</td>\n      <td>6.989936</td>\n    </tr>\n    <tr>\n      <th>2</th>\n      <td>2023-01-07 02:00:00</td>\n      <td>0.0</td>\n      <td>0.0</td>\n      <td>68.100006</td>\n      <td>6.489992</td>\n    </tr>\n    <tr>\n      <th>3</th>\n      <td>2023-01-07 03:00:00</td>\n      <td>0.0</td>\n      <td>0.0</td>\n      <td>68.400002</td>\n      <td>6.489992</td>\n    </tr>\n    <tr>\n      <th>4</th>\n      <td>2023-01-07 04:00:00</td>\n      <td>0.0</td>\n      <td>0.0</td>\n      <td>36.600002</td>\n      <td>5.991594</td>\n    </tr>\n    <tr>\n      <th>...</th>\n      <td>...</td>\n      <td>...</td>\n      <td>...</td>\n      <td>...</td>\n      <td>...</td>\n    </tr>\n    <tr>\n      <th>8730</th>\n      <td>2024-01-05 18:00:00</td>\n      <td>0.0</td>\n      <td>0.0</td>\n      <td>0.300000</td>\n      <td>7.928178</td>\n    </tr>\n    <tr>\n      <th>8731</th>\n      <td>2024-01-05 19:00:00</td>\n      <td>0.0</td>\n      <td>0.0</td>\n      <td>17.100000</td>\n      <td>10.105681</td>\n    </tr>\n    <tr>\n      <th>8732</th>\n      <td>2024-01-05 20:00:00</td>\n      <td>0.0</td>\n      <td>0.0</td>\n      <td>12.600000</td>\n      <td>12.015589</td>\n    </tr>\n    <tr>\n      <th>8733</th>\n      <td>2024-01-05 21:00:00</td>\n      <td>0.0</td>\n      <td>0.0</td>\n      <td>21.300001</td>\n      <td>12.144331</td>\n    </tr>\n    <tr>\n      <th>8734</th>\n      <td>2024-01-05 22:00:00</td>\n      <td>0.0</td>\n      <td>0.0</td>\n      <td>15.300000</td>\n      <td>12.224107</td>\n    </tr>\n  </tbody>\n</table>\n<p>1773205 rows × 5 columns</p>\n</div>"
     },
     "execution_count": 49,
     "metadata": {},
     "output_type": "execute_result"
    }
   ],
   "source": [
    "# Splitting features and labels\n",
    "X = data_frame[selected_features.columns]  # Features\n",
    "X"
   ],
   "metadata": {
    "collapsed": false,
    "ExecuteTime": {
     "end_time": "2024-01-07T15:27:02.410412500Z",
     "start_time": "2024-01-07T15:27:02.287328100Z"
    }
   },
   "id": "d41fcab11038914d"
  },
  {
   "cell_type": "code",
   "execution_count": 50,
   "outputs": [
    {
     "data": {
      "text/plain": "      rain  snowfall  cloud_cover  wind_speed_10m\n0      0.0       0.0     8.700000        7.787991\n1      0.0       0.0    36.299999        6.989936\n2      0.0       0.0    68.100006        6.489992\n3      0.0       0.0    68.400002        6.489992\n4      0.0       0.0    36.600002        5.991594\n...    ...       ...          ...             ...\n8730   0.0       0.0     0.300000        7.928178\n8731   0.0       0.0    17.100000       10.105681\n8732   0.0       0.0    12.600000       12.015589\n8733   0.0       0.0    21.300001       12.144331\n8734   0.0       0.0    15.300000       12.224107\n\n[1773205 rows x 4 columns]",
      "text/html": "<div>\n<style scoped>\n    .dataframe tbody tr th:only-of-type {\n        vertical-align: middle;\n    }\n\n    .dataframe tbody tr th {\n        vertical-align: top;\n    }\n\n    .dataframe thead th {\n        text-align: right;\n    }\n</style>\n<table border=\"1\" class=\"dataframe\">\n  <thead>\n    <tr style=\"text-align: right;\">\n      <th></th>\n      <th>rain</th>\n      <th>snowfall</th>\n      <th>cloud_cover</th>\n      <th>wind_speed_10m</th>\n    </tr>\n  </thead>\n  <tbody>\n    <tr>\n      <th>0</th>\n      <td>0.0</td>\n      <td>0.0</td>\n      <td>8.700000</td>\n      <td>7.787991</td>\n    </tr>\n    <tr>\n      <th>1</th>\n      <td>0.0</td>\n      <td>0.0</td>\n      <td>36.299999</td>\n      <td>6.989936</td>\n    </tr>\n    <tr>\n      <th>2</th>\n      <td>0.0</td>\n      <td>0.0</td>\n      <td>68.100006</td>\n      <td>6.489992</td>\n    </tr>\n    <tr>\n      <th>3</th>\n      <td>0.0</td>\n      <td>0.0</td>\n      <td>68.400002</td>\n      <td>6.489992</td>\n    </tr>\n    <tr>\n      <th>4</th>\n      <td>0.0</td>\n      <td>0.0</td>\n      <td>36.600002</td>\n      <td>5.991594</td>\n    </tr>\n    <tr>\n      <th>...</th>\n      <td>...</td>\n      <td>...</td>\n      <td>...</td>\n      <td>...</td>\n    </tr>\n    <tr>\n      <th>8730</th>\n      <td>0.0</td>\n      <td>0.0</td>\n      <td>0.300000</td>\n      <td>7.928178</td>\n    </tr>\n    <tr>\n      <th>8731</th>\n      <td>0.0</td>\n      <td>0.0</td>\n      <td>17.100000</td>\n      <td>10.105681</td>\n    </tr>\n    <tr>\n      <th>8732</th>\n      <td>0.0</td>\n      <td>0.0</td>\n      <td>12.600000</td>\n      <td>12.015589</td>\n    </tr>\n    <tr>\n      <th>8733</th>\n      <td>0.0</td>\n      <td>0.0</td>\n      <td>21.300001</td>\n      <td>12.144331</td>\n    </tr>\n    <tr>\n      <th>8734</th>\n      <td>0.0</td>\n      <td>0.0</td>\n      <td>15.300000</td>\n      <td>12.224107</td>\n    </tr>\n  </tbody>\n</table>\n<p>1773205 rows × 4 columns</p>\n</div>"
     },
     "execution_count": 50,
     "metadata": {},
     "output_type": "execute_result"
    }
   ],
   "source": [
    "y = data_frame[target_variables]  # Labels\n",
    "y"
   ],
   "metadata": {
    "collapsed": false,
    "ExecuteTime": {
     "end_time": "2024-01-07T15:27:07.916937400Z",
     "start_time": "2024-01-07T15:27:07.849232500Z"
    }
   },
   "id": "abfd768d6c7c7a89"
  },
  {
   "cell_type": "markdown",
   "source": [
    "# Creating Test and Training Data"
   ],
   "metadata": {
    "collapsed": false
   },
   "id": "115586ae421001ea"
  },
  {
   "cell_type": "code",
   "execution_count": 54,
   "outputs": [
    {
     "data": {
      "text/plain": "      rain  snowfall  cloud_cover  wind_speed_10m\n0      0.0       0.0     8.700000        7.787991\n1      0.0       0.0    36.299999        6.989936\n2      0.0       0.0    68.100006        6.489992\n3      0.0       0.0    68.400002        6.489992\n4      0.0       0.0    36.600002        5.991594\n...    ...       ...          ...             ...\n8730   0.0       0.0     0.300000        7.928178\n8731   0.0       0.0    17.100000       10.105681\n8732   0.0       0.0    12.600000       12.015589\n8733   0.0       0.0    21.300001       12.144331\n8734   0.0       0.0    15.300000       12.224107\n\n[1773205 rows x 4 columns]",
      "text/html": "<div>\n<style scoped>\n    .dataframe tbody tr th:only-of-type {\n        vertical-align: middle;\n    }\n\n    .dataframe tbody tr th {\n        vertical-align: top;\n    }\n\n    .dataframe thead th {\n        text-align: right;\n    }\n</style>\n<table border=\"1\" class=\"dataframe\">\n  <thead>\n    <tr style=\"text-align: right;\">\n      <th></th>\n      <th>rain</th>\n      <th>snowfall</th>\n      <th>cloud_cover</th>\n      <th>wind_speed_10m</th>\n    </tr>\n  </thead>\n  <tbody>\n    <tr>\n      <th>0</th>\n      <td>0.0</td>\n      <td>0.0</td>\n      <td>8.700000</td>\n      <td>7.787991</td>\n    </tr>\n    <tr>\n      <th>1</th>\n      <td>0.0</td>\n      <td>0.0</td>\n      <td>36.299999</td>\n      <td>6.989936</td>\n    </tr>\n    <tr>\n      <th>2</th>\n      <td>0.0</td>\n      <td>0.0</td>\n      <td>68.100006</td>\n      <td>6.489992</td>\n    </tr>\n    <tr>\n      <th>3</th>\n      <td>0.0</td>\n      <td>0.0</td>\n      <td>68.400002</td>\n      <td>6.489992</td>\n    </tr>\n    <tr>\n      <th>4</th>\n      <td>0.0</td>\n      <td>0.0</td>\n      <td>36.600002</td>\n      <td>5.991594</td>\n    </tr>\n    <tr>\n      <th>...</th>\n      <td>...</td>\n      <td>...</td>\n      <td>...</td>\n      <td>...</td>\n    </tr>\n    <tr>\n      <th>8730</th>\n      <td>0.0</td>\n      <td>0.0</td>\n      <td>0.300000</td>\n      <td>7.928178</td>\n    </tr>\n    <tr>\n      <th>8731</th>\n      <td>0.0</td>\n      <td>0.0</td>\n      <td>17.100000</td>\n      <td>10.105681</td>\n    </tr>\n    <tr>\n      <th>8732</th>\n      <td>0.0</td>\n      <td>0.0</td>\n      <td>12.600000</td>\n      <td>12.015589</td>\n    </tr>\n    <tr>\n      <th>8733</th>\n      <td>0.0</td>\n      <td>0.0</td>\n      <td>21.300001</td>\n      <td>12.144331</td>\n    </tr>\n    <tr>\n      <th>8734</th>\n      <td>0.0</td>\n      <td>0.0</td>\n      <td>15.300000</td>\n      <td>12.224107</td>\n    </tr>\n  </tbody>\n</table>\n<p>1773205 rows × 4 columns</p>\n</div>"
     },
     "execution_count": 54,
     "metadata": {},
     "output_type": "execute_result"
    }
   ],
   "source": [
    "# Select numerical columns only for conversion to tensors\n",
    "numerical_columns_X = X.select_dtypes(include=['float32', 'float64']).columns\n",
    "X_numeric = X[numerical_columns_X]\n",
    "X_numeric"
   ],
   "metadata": {
    "collapsed": false,
    "ExecuteTime": {
     "end_time": "2024-01-07T15:35:38.171829Z",
     "start_time": "2024-01-07T15:35:38.095788500Z"
    }
   },
   "id": "1b246709320db1bb"
  },
  {
   "cell_type": "code",
   "execution_count": 55,
   "outputs": [
    {
     "data": {
      "text/plain": "      rain  snowfall  cloud_cover  wind_speed_10m\n0      0.0       0.0     8.700000        7.787991\n1      0.0       0.0    36.299999        6.989936\n2      0.0       0.0    68.100006        6.489992\n3      0.0       0.0    68.400002        6.489992\n4      0.0       0.0    36.600002        5.991594\n...    ...       ...          ...             ...\n8730   0.0       0.0     0.300000        7.928178\n8731   0.0       0.0    17.100000       10.105681\n8732   0.0       0.0    12.600000       12.015589\n8733   0.0       0.0    21.300001       12.144331\n8734   0.0       0.0    15.300000       12.224107\n\n[1773205 rows x 4 columns]",
      "text/html": "<div>\n<style scoped>\n    .dataframe tbody tr th:only-of-type {\n        vertical-align: middle;\n    }\n\n    .dataframe tbody tr th {\n        vertical-align: top;\n    }\n\n    .dataframe thead th {\n        text-align: right;\n    }\n</style>\n<table border=\"1\" class=\"dataframe\">\n  <thead>\n    <tr style=\"text-align: right;\">\n      <th></th>\n      <th>rain</th>\n      <th>snowfall</th>\n      <th>cloud_cover</th>\n      <th>wind_speed_10m</th>\n    </tr>\n  </thead>\n  <tbody>\n    <tr>\n      <th>0</th>\n      <td>0.0</td>\n      <td>0.0</td>\n      <td>8.700000</td>\n      <td>7.787991</td>\n    </tr>\n    <tr>\n      <th>1</th>\n      <td>0.0</td>\n      <td>0.0</td>\n      <td>36.299999</td>\n      <td>6.989936</td>\n    </tr>\n    <tr>\n      <th>2</th>\n      <td>0.0</td>\n      <td>0.0</td>\n      <td>68.100006</td>\n      <td>6.489992</td>\n    </tr>\n    <tr>\n      <th>3</th>\n      <td>0.0</td>\n      <td>0.0</td>\n      <td>68.400002</td>\n      <td>6.489992</td>\n    </tr>\n    <tr>\n      <th>4</th>\n      <td>0.0</td>\n      <td>0.0</td>\n      <td>36.600002</td>\n      <td>5.991594</td>\n    </tr>\n    <tr>\n      <th>...</th>\n      <td>...</td>\n      <td>...</td>\n      <td>...</td>\n      <td>...</td>\n    </tr>\n    <tr>\n      <th>8730</th>\n      <td>0.0</td>\n      <td>0.0</td>\n      <td>0.300000</td>\n      <td>7.928178</td>\n    </tr>\n    <tr>\n      <th>8731</th>\n      <td>0.0</td>\n      <td>0.0</td>\n      <td>17.100000</td>\n      <td>10.105681</td>\n    </tr>\n    <tr>\n      <th>8732</th>\n      <td>0.0</td>\n      <td>0.0</td>\n      <td>12.600000</td>\n      <td>12.015589</td>\n    </tr>\n    <tr>\n      <th>8733</th>\n      <td>0.0</td>\n      <td>0.0</td>\n      <td>21.300001</td>\n      <td>12.144331</td>\n    </tr>\n    <tr>\n      <th>8734</th>\n      <td>0.0</td>\n      <td>0.0</td>\n      <td>15.300000</td>\n      <td>12.224107</td>\n    </tr>\n  </tbody>\n</table>\n<p>1773205 rows × 4 columns</p>\n</div>"
     },
     "execution_count": 55,
     "metadata": {},
     "output_type": "execute_result"
    }
   ],
   "source": [
    "numerical_columns_y = y.select_dtypes(include=['float32', 'float64']).columns\n",
    "y_numeric = y[numerical_columns_y]\n",
    "y_numeric"
   ],
   "metadata": {
    "collapsed": false,
    "ExecuteTime": {
     "end_time": "2024-01-07T15:35:41.495146600Z",
     "start_time": "2024-01-07T15:35:41.394262Z"
    }
   },
   "id": "dc4b6deca2560cf0"
  },
  {
   "cell_type": "code",
   "execution_count": 56,
   "outputs": [
    {
     "data": {
      "text/plain": "tensor([[ 0.0000,  0.0000,  8.7000,  7.7880],\n        [ 0.0000,  0.0000, 36.3000,  6.9899],\n        [ 0.0000,  0.0000, 68.1000,  6.4900],\n        ...,\n        [ 0.0000,  0.0000, 12.6000, 12.0156],\n        [ 0.0000,  0.0000, 21.3000, 12.1443],\n        [ 0.0000,  0.0000, 15.3000, 12.2241]])"
     },
     "execution_count": 56,
     "metadata": {},
     "output_type": "execute_result"
    }
   ],
   "source": [
    "# Convert numerical columns to PyTorch tensors\n",
    "X_tensor = torch.tensor(X_numeric.values, dtype=torch.float32)\n",
    "X_tensor"
   ],
   "metadata": {
    "collapsed": false,
    "ExecuteTime": {
     "end_time": "2024-01-07T15:35:44.902271800Z",
     "start_time": "2024-01-07T15:35:44.799533700Z"
    }
   },
   "id": "6a0be2695a847bee"
  },
  {
   "cell_type": "code",
   "execution_count": 57,
   "outputs": [
    {
     "data": {
      "text/plain": "tensor([[ 0.0000,  0.0000,  8.7000,  7.7880],\n        [ 0.0000,  0.0000, 36.3000,  6.9899],\n        [ 0.0000,  0.0000, 68.1000,  6.4900],\n        ...,\n        [ 0.0000,  0.0000, 12.6000, 12.0156],\n        [ 0.0000,  0.0000, 21.3000, 12.1443],\n        [ 0.0000,  0.0000, 15.3000, 12.2241]])"
     },
     "execution_count": 57,
     "metadata": {},
     "output_type": "execute_result"
    }
   ],
   "source": [
    "y_tensor = torch.tensor(y_numeric.values, dtype=torch.float32)\n",
    "y_tensor"
   ],
   "metadata": {
    "collapsed": false,
    "ExecuteTime": {
     "end_time": "2024-01-07T15:35:49.585238300Z",
     "start_time": "2024-01-07T15:35:49.536320100Z"
    }
   },
   "id": "b555fa3ed27bb42b"
  },
  {
   "cell_type": "code",
   "execution_count": 58,
   "outputs": [
    {
     "data": {
      "text/plain": "(tensor([[  0.0000,   0.0000,  21.6000,   1.1384],\n         [  0.0000,   0.0000,   0.0000,   4.3944],\n         [  0.0000,   0.0000, 100.0000,   1.5274],\n         ...,\n         [  0.0000,   0.0000,   0.0000,   9.4496],\n         [  0.0000,   0.0000,  19.5000,   7.5170],\n         [  0.0000,   0.0000,   0.9000,   8.4963]]),\n tensor([[  1.1000,   0.0000, 100.0000,  12.5949],\n         [  0.0000,   0.0000,  39.6000,   7.2805],\n         [  0.0000,   0.0000,  37.2000,   8.4274],\n         ...,\n         [  0.0000,   0.0000,   0.9000,   5.8048],\n         [  1.6000,   0.0000,  90.0000,   4.6800],\n         [  0.0000,   0.0000, 100.0000,  13.3928]]),\n tensor([[  0.0000,   0.0000,  21.6000,   1.1384],\n         [  0.0000,   0.0000,   0.0000,   4.3944],\n         [  0.0000,   0.0000, 100.0000,   1.5274],\n         ...,\n         [  0.0000,   0.0000,   0.0000,   9.4496],\n         [  0.0000,   0.0000,  19.5000,   7.5170],\n         [  0.0000,   0.0000,   0.9000,   8.4963]]),\n tensor([[  1.1000,   0.0000, 100.0000,  12.5949],\n         [  0.0000,   0.0000,  39.6000,   7.2805],\n         [  0.0000,   0.0000,  37.2000,   8.4274],\n         ...,\n         [  0.0000,   0.0000,   0.9000,   5.8048],\n         [  1.6000,   0.0000,  90.0000,   4.6800],\n         [  0.0000,   0.0000, 100.0000,  13.3928]]))"
     },
     "execution_count": 58,
     "metadata": {},
     "output_type": "execute_result"
    }
   ],
   "source": [
    "# Split data into training and testing sets (e.g., 80% training, 20% testing)\n",
    "X_train, X_test, y_train, y_test = train_test_split(X_tensor, y_tensor, test_size=0.2, random_state=42)\n",
    "X_train, X_test, y_train, y_test"
   ],
   "metadata": {
    "collapsed": false,
    "ExecuteTime": {
     "end_time": "2024-01-07T15:35:54.006178500Z",
     "start_time": "2024-01-07T15:35:53.668893200Z"
    }
   },
   "id": "fcf0878bad8b6f33"
  },
  {
   "cell_type": "code",
   "execution_count": 59,
   "outputs": [
    {
     "data": {
      "text/plain": "<torch.utils.data.dataset.TensorDataset at 0x22e8f13e170>"
     },
     "execution_count": 59,
     "metadata": {},
     "output_type": "execute_result"
    }
   ],
   "source": [
    "# Create PyTorch datasets\n",
    "train_dataset = TensorDataset(X_train, y_train)\n",
    "train_dataset"
   ],
   "metadata": {
    "collapsed": false,
    "ExecuteTime": {
     "end_time": "2024-01-07T15:35:58.111246700Z",
     "start_time": "2024-01-07T15:35:58.086911900Z"
    }
   },
   "id": "26c42c46f8ea060d"
  },
  {
   "cell_type": "code",
   "execution_count": 60,
   "outputs": [
    {
     "data": {
      "text/plain": "<torch.utils.data.dataset.TensorDataset at 0x22e8f13e800>"
     },
     "execution_count": 60,
     "metadata": {},
     "output_type": "execute_result"
    }
   ],
   "source": [
    "test_dataset = TensorDataset(X_test, y_test)\n",
    "test_dataset"
   ],
   "metadata": {
    "collapsed": false,
    "ExecuteTime": {
     "end_time": "2024-01-07T15:36:00.485879200Z",
     "start_time": "2024-01-07T15:36:00.439811700Z"
    }
   },
   "id": "8a2dc48d49d7fd46"
  },
  {
   "cell_type": "code",
   "execution_count": 61,
   "outputs": [
    {
     "data": {
      "text/plain": "64"
     },
     "execution_count": 61,
     "metadata": {},
     "output_type": "execute_result"
    }
   ],
   "source": [
    "# Define batch size for DataLoader\n",
    "batch_size = 64\n",
    "batch_size"
   ],
   "metadata": {
    "collapsed": false,
    "ExecuteTime": {
     "end_time": "2024-01-07T15:36:35.922112900Z",
     "start_time": "2024-01-07T15:36:35.879458100Z"
    }
   },
   "id": "69d3745d0fb2edc5"
  },
  {
   "cell_type": "code",
   "execution_count": 62,
   "outputs": [
    {
     "data": {
      "text/plain": "<torch.utils.data.dataloader.DataLoader at 0x22e8f13d240>"
     },
     "execution_count": 62,
     "metadata": {},
     "output_type": "execute_result"
    }
   ],
   "source": [
    "# Create DataLoaders for training and testing sets\n",
    "train_loader = DataLoader(train_dataset, batch_size=batch_size, shuffle=True)\n",
    "train_loader"
   ],
   "metadata": {
    "collapsed": false,
    "ExecuteTime": {
     "end_time": "2024-01-07T15:36:38.101022500Z",
     "start_time": "2024-01-07T15:36:38.074634800Z"
    }
   },
   "id": "4806be60e9035991"
  },
  {
   "cell_type": "code",
   "execution_count": 63,
   "outputs": [
    {
     "data": {
      "text/plain": "<torch.utils.data.dataloader.DataLoader at 0x22e8f13f190>"
     },
     "execution_count": 63,
     "metadata": {},
     "output_type": "execute_result"
    }
   ],
   "source": [
    "test_loader = DataLoader(test_dataset, batch_size=batch_size, shuffle=False)\n",
    "test_loader"
   ],
   "metadata": {
    "collapsed": false,
    "ExecuteTime": {
     "end_time": "2024-01-07T15:36:40.395270500Z",
     "start_time": "2024-01-07T15:36:40.300599800Z"
    }
   },
   "id": "e25ec15c9cd51a80"
  },
  {
   "cell_type": "code",
   "execution_count": 65,
   "outputs": [],
   "source": [
    "# Define a simple feedforward neural network\n",
    "class SimpleModel(nn.Module):\n",
    "    def __init__(self, input_size, hidden_size, output_size):\n",
    "        super(SimpleModel, self).__init__()\n",
    "        self.fc1 = nn.Linear(input_size, hidden_size)  # Input layer\n",
    "        self.relu = nn.ReLU()  # Activation function\n",
    "        self.fc2 = nn.Linear(hidden_size, output_size)  # Output layer\n",
    "\n",
    "    def forward(self, x):\n",
    "        x = self.fc1(x)\n",
    "        x = self.relu(x)\n",
    "        x = self.fc2(x)\n",
    "        return x"
   ],
   "metadata": {
    "collapsed": false,
    "ExecuteTime": {
     "end_time": "2024-01-07T15:39:50.690498700Z",
     "start_time": "2024-01-07T15:39:50.663175700Z"
    }
   },
   "id": "35f3c62bf3045043"
  },
  {
   "cell_type": "code",
   "execution_count": 66,
   "outputs": [],
   "source": [
    "# Define input, hidden, and output sizes based on your data\n",
    "input_size = X_train.shape[1]  # Number of features\n",
    "hidden_size = 64  # Number of neurons in the hidden layer\n",
    "output_size = y_train.shape[1]  # Number of output variables"
   ],
   "metadata": {
    "collapsed": false,
    "ExecuteTime": {
     "end_time": "2024-01-07T15:39:54.023277100Z",
     "start_time": "2024-01-07T15:39:53.999110500Z"
    }
   },
   "id": "2c58e0331c6ed91"
  },
  {
   "cell_type": "code",
   "execution_count": 67,
   "outputs": [
    {
     "data": {
      "text/plain": "SimpleModel(\n  (fc1): Linear(in_features=4, out_features=64, bias=True)\n  (relu): ReLU()\n  (fc2): Linear(in_features=64, out_features=4, bias=True)\n)"
     },
     "execution_count": 67,
     "metadata": {},
     "output_type": "execute_result"
    }
   ],
   "source": [
    "# Create an instance of the model\n",
    "model = SimpleModel(input_size, hidden_size, output_size)\n",
    "model"
   ],
   "metadata": {
    "collapsed": false,
    "ExecuteTime": {
     "end_time": "2024-01-07T15:39:56.397196400Z",
     "start_time": "2024-01-07T15:39:56.312941500Z"
    }
   },
   "id": "b43814775eb8f94f"
  },
  {
   "cell_type": "code",
   "execution_count": 68,
   "outputs": [],
   "source": [
    "# Define loss function and optimizer\n",
    "criterion = nn.MSELoss()  # Mean Squared Error loss\n",
    "optimizer = optim.Adam(model.parameters(), lr=0.001)  # Adam optimizer"
   ],
   "metadata": {
    "collapsed": false,
    "ExecuteTime": {
     "end_time": "2024-01-07T15:40:01.558713700Z",
     "start_time": "2024-01-07T15:39:59.665292700Z"
    }
   },
   "id": "4753873c1aa50385"
  },
  {
   "cell_type": "code",
   "execution_count": 69,
   "outputs": [
    {
     "name": "stdout",
     "output_type": "stream",
     "text": [
      "Epoch [1/10], Loss: 1.8971\n",
      "Epoch [2/10], Loss: 0.0006\n",
      "Epoch [3/10], Loss: 0.0005\n",
      "Epoch [4/10], Loss: 0.0004\n",
      "Epoch [5/10], Loss: 0.0005\n",
      "Epoch [6/10], Loss: 0.0004\n",
      "Epoch [7/10], Loss: 0.0004\n",
      "Epoch [8/10], Loss: 0.0004\n",
      "Epoch [9/10], Loss: 0.0003\n",
      "Epoch [10/10], Loss: 0.0003\n"
     ]
    }
   ],
   "source": [
    "# Train the model\n",
    "num_epochs = 10  # Number of training epochs\n",
    "for epoch in range(num_epochs):\n",
    "    model.train()\n",
    "    running_loss = 0.0\n",
    "    for inputs, labels in train_loader:\n",
    "        # Forward pass\n",
    "        outputs = model(inputs)\n",
    "        loss = criterion(outputs, labels)\n",
    "\n",
    "        # Backward pass and optimization\n",
    "        optimizer.zero_grad()\n",
    "        loss.backward()\n",
    "        optimizer.step()\n",
    "\n",
    "        running_loss += loss.item()\n",
    "\n",
    "    # Print training loss\n",
    "    print(f\"Epoch [{epoch + 1}/{num_epochs}], Loss: {running_loss / len(train_loader):.4f}\")"
   ],
   "metadata": {
    "collapsed": false,
    "ExecuteTime": {
     "end_time": "2024-01-07T15:46:34.442195700Z",
     "start_time": "2024-01-07T15:40:04.524626200Z"
    }
   },
   "id": "c1916b3254ba8912"
  },
  {
   "cell_type": "code",
   "execution_count": 71,
   "outputs": [
    {
     "name": "stdout",
     "output_type": "stream",
     "text": [
      "Test Loss: 0.0000\n"
     ]
    }
   ],
   "source": [
    "# Evaluate the model\n",
    "model.eval()\n",
    "test_loss = 0.0\n",
    "with torch.no_grad():\n",
    "    for inputs, labels in test_loader:\n",
    "        outputs = model(inputs)\n",
    "        test_loss += criterion(outputs, labels).item()\n",
    "\n",
    "print(f\"Test Loss: {test_loss / len(test_loader):.4f}\")"
   ],
   "metadata": {
    "collapsed": false,
    "ExecuteTime": {
     "end_time": "2024-01-07T15:46:59.048172300Z",
     "start_time": "2024-01-07T15:46:54.144252200Z"
    }
   },
   "id": "4c32927ef7391d34"
  },
  {
   "cell_type": "code",
   "execution_count": 78,
   "outputs": [
    {
     "data": {
      "text/plain": "<Figure size 800x600 with 1 Axes>",
      "image/png": "[encoded data removed]"
     },
     "metadata": {},
     "output_type": "display_data"
    },
    {
     "data": {
      "text/plain": "<Figure size 800x600 with 1 Axes>",
      "image/png": "[encoded data removed]"
     },
     "metadata": {},
     "output_type": "display_data"
    }
   ],
   "source": [
    "\n",
    "\n",
    "# Extract weights from the model's layers\n",
    "def extract_weights(model):\n",
    "    weights = []\n",
    "    for name, param in model.named_parameters():\n",
    "        if 'weight' in name:\n",
    "            weights.append(param.detach().numpy())\n",
    "    return weights\n",
    "\n",
    "# Get the weights from the model\n",
    "model_weights = extract_weights(model)\n",
    "\n",
    "# Visualize the weights of each layer\n",
    "for i, layer_weights in enumerate(model_weights, 1):\n",
    "    plt.figure(figsize=(8, 6))\n",
    "    plt.hist(layer_weights.flatten(), bins=50)\n",
    "    plt.title(f\"Layer {i} Weights Distribution\")\n",
    "    plt.xlabel(\"Weight Value\")\n",
    "    plt.ylabel(\"Frequency\")\n",
    "    plt.grid(True)\n",
    "    plt.show()\n"
   ],
   "metadata": {
    "collapsed": false,
    "ExecuteTime": {
     "end_time": "2024-01-07T15:56:39.195531800Z",
     "start_time": "2024-01-07T15:56:38.505781700Z"
    }
   },
   "id": "b6239499c6df43d0"
  },
  {
   "cell_type": "code",
   "execution_count": null,
   "outputs": [],
   "source": [],
   "metadata": {
    "collapsed": false
   },
   "id": "d587aaffb7a799bb"
  }
 ],
 "metadata": {
  "kernelspec": {
   "display_name": "Python 3",
   "language": "python",
   "name": "python3"
  },
  "language_info": {
   "codemirror_mode": {
    "name": "ipython",
    "version": 3
   },
   "file_extension": ".py",
   "mimetype": "text/x-python",
   "name": "python",
   "nbconvert_exporter": "python",
   "pygments_lexer": "ipython3",
   "version": "3.11.6"
  }
 },
 "nbformat": 4,
 "nbformat_minor": 5
}
