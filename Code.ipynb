{
 "cells": [
  {
   "cell_type": "markdown",
   "id": "a99ca30f762277e",
   "metadata": {
    "collapsed": false
   },
   "source": [
    "Initial Imports"
   ]
  },
  {
   "cell_type": "code",
   "execution_count": 163,
   "id": "bc058b6c69d92730",
   "metadata": {
    "collapsed": false,
    "ExecuteTime": {
     "end_time": "2024-01-08T14:35:59.009757900Z",
     "start_time": "2024-01-08T14:35:58.203792Z"
    }
   },
   "outputs": [],
   "source": [
    "import csv\n",
    "import time\n",
    "import numpy as np\n",
    "import openmeteo_requests\n",
    "import requests_cache\n",
    "from retry_requests import retry\n",
    "import pandas as pd\n",
    "from datetime import datetime, timedelta\n",
    "from torch.utils.data import TensorDataset, DataLoader\n",
    "from sklearn.model_selection import train_test_split\n",
    "import torch\n",
    "import torch.nn as nn\n",
    "import torch.optim as optim\n",
    "import matplotlib.pyplot as plt\n",
    "from sklearn.metrics import mean_squared_error, r2_score\n",
    "from sklearn.preprocessing import StandardScaler,MinMaxScaler"
   ]
  },
  {
   "cell_type": "markdown",
   "id": "b5e6d1b432f91495",
   "metadata": {
    "collapsed": false
   },
   "source": [
    "# Generate map of cities and their respective coordinates"
   ]
  },
  {
   "cell_type": "code",
   "execution_count": 164,
   "id": "6dcce7d5418bfb92",
   "metadata": {
    "collapsed": false,
    "ExecuteTime": {
     "end_time": "2024-01-08T14:36:00.102906300Z",
     "start_time": "2024-01-08T14:35:58.224133Z"
    }
   },
   "outputs": [
    {
     "name": "stdout",
     "output_type": "stream",
     "text": [
      "City: Istanbul, Coordinates: (41.0136, 28.955)\n",
      "City: Ankara, Coordinates: (39.93, 32.85)\n",
      "City: İzmir, Coordinates: (38.42, 27.14)\n",
      "City: Bursa, Coordinates: (40.1833, 29.05)\n",
      "City: Antalya, Coordinates: (36.8874, 30.7075)\n",
      "City: Konya, Coordinates: (37.8667, 32.4833)\n",
      "City: Gaziantep, Coordinates: (37.0628, 37.3792)\n",
      "City: Şanlıurfa, Coordinates: (37.1583, 38.7917)\n",
      "City: Mersin, Coordinates: (36.8, 34.6333)\n",
      "City: Adana, Coordinates: (37.0, 35.3213)\n",
      "City: Diyarbakır, Coordinates: (37.91, 40.24)\n",
      "City: Kayseri, Coordinates: (38.7225, 35.4875)\n",
      "City: Samsun, Coordinates: (41.2903, 36.3336)\n",
      "City: Akçaabat, Coordinates: (41.0167, 39.55)\n",
      "City: Denizli, Coordinates: (37.7667, 29.0833)\n",
      "City: Çankaya, Coordinates: (39.9244, 32.8856)\n",
      "City: Esenyurt, Coordinates: (41.047, 28.658)\n",
      "City: Eskişehir, Coordinates: (39.7767, 30.5206)\n",
      "City: Seyhan, Coordinates: (36.9831, 35.3328)\n",
      "City: Küçükçekmece, Coordinates: (41.0, 28.8)\n",
      "City: Erzurum, Coordinates: (39.9086, 41.2769)\n",
      "City: Bağcılar, Coordinates: (41.0344, 28.8564)\n",
      "City: Pendik, Coordinates: (40.8747, 29.235)\n",
      "City: Selçuklu, Coordinates: (37.8814, 32.4922)\n",
      "City: Yıldırım, Coordinates: (40.11, 29.0821)\n",
      "City: Kartal, Coordinates: (40.8872, 29.19)\n",
      "City: Batman, Coordinates: (37.887, 41.132)\n",
      "City: Esenler, Coordinates: (41.0339, 28.8903)\n",
      "City: Kahramanmaraş, Coordinates: (37.5833, 36.9333)\n",
      "City: Kâğıthane, Coordinates: (41.0719, 28.9664)\n",
      "City: Avcılar, Coordinates: (40.9792, 28.7214)\n",
      "City: Trabzon, Coordinates: (41.005, 39.7225)\n",
      "City: Malatya, Coordinates: (38.3486, 38.3194)\n",
      "City: Elazığ, Coordinates: (38.6744, 39.2228)\n",
      "City: Yüreğir, Coordinates: (36.9981, 35.3439)\n",
      "City: Hatay, Coordinates: (36.2025, 36.1606)\n",
      "City: Sivas, Coordinates: (39.75, 37.0167)\n",
      "City: Gebze, Coordinates: (40.8, 29.4333)\n",
      "City: Kocaeli, Coordinates: (40.7625, 29.9175)\n",
      "City: Kayapınar, Coordinates: (37.94, 40.19)\n",
      "City: Manisa, Coordinates: (38.6306, 27.4222)\n",
      "City: Konak, Coordinates: (38.4189, 27.1285)\n",
      "City: Van, Coordinates: (38.4942, 43.38)\n",
      "City: Pamukkale, Coordinates: (37.9167, 29.1167)\n",
      "City: Sarıyer, Coordinates: (41.1669, 29.0572)\n",
      "City: Meram, Coordinates: (37.8364, 32.4383)\n",
      "City: Tarsus, Coordinates: (36.9165, 34.8951)\n",
      "City: Balıkesir, Coordinates: (39.6333, 27.8833)\n",
      "City: Beylikdüzü, Coordinates: (41.0011, 28.6419)\n",
      "City: Sultanbeyli, Coordinates: (40.9683, 29.2617)\n",
      "City: Aksaray, Coordinates: (38.3742, 34.0289)\n",
      "City: Alanya, Coordinates: (36.55, 32.0)\n",
      "City: Yeşilyurt, Coordinates: (38.2961, 38.2489)\n",
      "City: Adıyaman, Coordinates: (37.7639, 38.2778)\n",
      "City: Afyonkarahisar, Coordinates: (38.7578, 30.5386)\n",
      "City: İskenderun, Coordinates: (36.5817, 36.165)\n",
      "City: Battalgazi, Coordinates: (38.4228, 38.3656)\n",
      "City: Çorum, Coordinates: (40.5455, 34.957)\n",
      "City: Güngören, Coordinates: (41.0225, 28.8717)\n",
      "City: Çorlu, Coordinates: (41.15, 27.8)\n",
      "City: Sakarya, Coordinates: (40.7833, 30.4)\n",
      "City: Arnavutköy, Coordinates: (41.1856, 28.7406)\n",
      "City: İnegöl, Coordinates: (40.0806, 29.5097)\n",
      "City: Kütahya, Coordinates: (39.4167, 29.9833)\n",
      "City: Osmaniye, Coordinates: (37.075, 36.25)\n",
      "City: Isparta, Coordinates: (37.7647, 30.5567)\n",
      "City: Siverek, Coordinates: (37.75, 39.3167)\n",
      "City: Tuzla, Coordinates: (40.8161, 29.3006)\n",
      "City: Kızıltepe, Coordinates: (37.1939, 40.5861)\n",
      "City: Uşak, Coordinates: (38.6778, 29.4042)\n",
      "City: Çekme, Coordinates: (41.0369, 29.1786)\n",
      "City: Büyükçekmece, Coordinates: (41.02, 28.5775)\n",
      "City: Beykoz, Coordinates: (41.1342, 29.0922)\n",
      "City: Düzce, Coordinates: (40.8417, 31.1583)\n",
      "City: Manavgat, Coordinates: (36.7833, 31.4333)\n",
      "City: Ordu, Coordinates: (40.9833, 37.8833)\n",
      "City: Bolu, Coordinates: (40.7347, 31.6075)\n",
      "City: Tekirdağ, Coordinates: (40.9778, 27.5153)\n",
      "City: Tokat, Coordinates: (40.3139, 36.5542)\n",
      "City: Viranşehir, Coordinates: (37.2306, 39.7653)\n",
      "City: Karaköprü, Coordinates: (37.1847, 38.7908)\n",
      "City: Karaman, Coordinates: (37.1819, 33.2181)\n",
      "City: Muş, Coordinates: (38.7333, 41.4911)\n",
      "City: Kırıkkale, Coordinates: (39.8417, 33.5139)\n",
      "City: Aydın, Coordinates: (37.8481, 27.8453)\n",
      "City: Çanakkale, Coordinates: (40.1519, 26.4056)\n",
      "City: Edirne, Coordinates: (41.6769, 26.5556)\n",
      "City: Torbalı, Coordinates: (38.1619, 27.3583)\n",
      "City: Ereğli, Coordinates: (37.5167, 34.05)\n",
      "City: Bodrum, Coordinates: (37.0378, 27.4242)\n",
      "City: Menemen, Coordinates: (38.6, 27.0667)\n",
      "City: Akhisar, Coordinates: (38.9167, 27.8333)\n",
      "City: Çerkezköy, Coordinates: (41.2833, 28.0)\n",
      "City: Siirt, Coordinates: (37.925, 41.9458)\n",
      "City: Körfez, Coordinates: (40.7833, 29.7333)\n",
      "City: Talas, Coordinates: (38.6833, 35.5667)\n",
      "City: Turgutlu, Coordinates: (38.5, 27.7)\n",
      "City: Gölcük, Coordinates: (40.6667, 29.8333)\n",
      "City: Salihli, Coordinates: (38.4811, 28.1392)\n",
      "City: Ceyhan, Coordinates: (37.0289, 35.8125)\n",
      "City: Bingöl, Coordinates: (38.8861, 40.5017)\n",
      "City: Fethiye, Coordinates: (36.6514, 29.1231)\n",
      "City: Erzincan, Coordinates: (39.7464, 39.4914)\n",
      "City: Nazilli, Coordinates: (37.9125, 28.3206)\n",
      "City: Bartın, Coordinates: (41.6344, 32.3375)\n",
      "City: Edremit, Coordinates: (39.5922, 27.02)\n",
      "City: Bandırma, Coordinates: (40.35, 27.9667)\n",
      "City: Kırşehir, Coordinates: (39.1456, 34.1608)\n",
      "City: Nevşehir, Coordinates: (38.6264, 34.7139)\n",
      "City: Ağrı, Coordinates: (39.7186, 43.0508)\n",
      "City: Amasya, Coordinates: (40.65, 35.8331)\n",
      "City: Kastamonu, Coordinates: (41.3764, 33.7764)\n",
      "City: Lüleburgaz, Coordinates: (41.4056, 27.3569)\n",
      "City: Yalova, Coordinates: (40.6556, 29.275)\n",
      "City: Cizre, Coordinates: (37.332, 42.187)\n",
      "City: Elbistan, Coordinates: (38.2014, 37.1883)\n",
      "City: Nizip, Coordinates: (37.01, 37.7972)\n",
      "City: Rize, Coordinates: (41.0247, 40.5222)\n",
      "City: Çarşamba, Coordinates: (41.1992, 36.7275)\n",
      "City: Silivri, Coordinates: (41.0736, 28.2478)\n",
      "City: Iğdır, Coordinates: (39.9208, 44.0444)\n",
      "City: Giresun, Coordinates: (40.9153, 38.3894)\n",
      "City: Silopi, Coordinates: (37.2486, 42.4703)\n",
      "City: Ödemiş, Coordinates: (38.2311, 27.9719)\n",
      "City: Karabük, Coordinates: (41.1986, 32.6264)\n",
      "City: Kozan, Coordinates: (37.45, 35.8)\n",
      "City: Ergani, Coordinates: (38.2692, 39.7617)\n",
      "City: Çayırova, Coordinates: (40.8265, 29.3745)\n",
      "City: Ünye, Coordinates: (41.1333, 37.2833)\n",
      "City: Polatlı, Coordinates: (39.5842, 32.1472)\n",
      "City: Serik, Coordinates: (36.9167, 31.1)\n",
      "City: Kadirli, Coordinates: (37.3697, 36.1)\n",
      "City: Patnos, Coordinates: (39.2358, 42.8686)\n",
      "City: Kâhta, Coordinates: (37.7803, 38.6217)\n",
      "City: Doğubayazıt, Coordinates: (39.5472, 44.0833)\n",
      "City: Samandağ, Coordinates: (36.085, 35.9806)\n",
      "City: Zonguldak, Coordinates: (41.4564, 31.7986)\n",
      "City: Söke, Coordinates: (37.7508, 27.4103)\n",
      "City: Yüksekova, Coordinates: (37.569, 44.283)\n",
      "City: Silifke, Coordinates: (36.3761, 33.9322)\n",
      "City: Niğde, Coordinates: (37.9667, 34.6792)\n",
      "City: Karatepe, Coordinates: (40.7333, 29.9667)\n",
      "City: Kapaklı, Coordinates: (41.3333, 27.9667)\n",
      "City: Fatsa, Coordinates: (41.0333, 37.5)\n",
      "City: Kilis, Coordinates: (36.7167, 37.1167)\n",
      "City: Kars, Coordinates: (40.6078, 43.0958)\n",
      "City: Kuşadası, Coordinates: (37.8597, 27.2597)\n",
      "City: Midyat, Coordinates: (37.4167, 41.3697)\n",
      "City: Akçakale, Coordinates: (36.7108, 38.9478)\n",
      "City: Burdur, Coordinates: (37.7194, 30.2833)\n",
      "City: Soma, Coordinates: (39.1883, 27.6089)\n",
      "City: Kemalpaşa, Coordinates: (38.4278, 27.4161)\n",
      "City: Nusaybin, Coordinates: (37.075, 41.2153)\n",
      "City: Yozgat, Coordinates: (39.8208, 34.8083)\n",
      "City: Alaşehir, Coordinates: (38.35, 28.5167)\n",
      "City: Suruç, Coordinates: (36.9764, 38.4269)\n",
      "City: Bergama, Coordinates: (39.1167, 27.1833)\n",
      "City: Tavşanlı, Coordinates: (39.5333, 29.4833)\n",
      "City: Çankırı, Coordinates: (40.5986, 33.6192)\n",
      "City: Şırnak, Coordinates: (37.52, 42.459)\n",
      "City: Mardin, Coordinates: (37.3131, 40.735)\n",
      "City: Bilecik, Coordinates: (40.1431, 29.9792)\n",
      "City: Hakkari, Coordinates: (37.577, 43.739)\n",
      "City: Bitlis, Coordinates: (38.4, 42.1083)\n",
      "City: Bayburt, Coordinates: (40.2597, 40.2278)\n",
      "City: Kırklareli, Coordinates: (41.7347, 27.2253)\n",
      "City: Gümüşhane, Coordinates: (40.4597, 39.4778)\n",
      "City: Muğla, Coordinates: (37.2167, 28.3667)\n",
      "City: Ardahan, Coordinates: (41.1111, 42.7022)\n",
      "City: Tunceli, Coordinates: (39.1064, 39.5472)\n",
      "City: Artvin, Coordinates: (41.1833, 41.8181)\n",
      "City: Yumurtalık, Coordinates: (36.7678, 35.7922)\n",
      "City: Sinop, Coordinates: (42.0267, 35.1511)\n",
      "City: Yenice, Coordinates: (36.9667, 35.05)\n",
      "City: Adalar, Coordinates: (40.8578, 29.12)\n",
      "City: Çağlayan, Coordinates: (40.9, 39.7167)\n",
      "City: Mahmutbey, Coordinates: (41.0536, 28.8256)\n",
      "City: Etimesgut, Coordinates: (39.9458, 32.6694)\n",
      "City: Samandıra, Coordinates: (40.999, 29.2257)\n",
      "City: Keçiören, Coordinates: (40.0, 32.8667)\n",
      "City: Pursaklar, Coordinates: (40.032, 32.8953)\n",
      "City: Melikgazi, Coordinates: (38.75, 35.45)\n",
      "City: Altındağ, Coordinates: (39.9636, 32.9033)\n",
      "City: Buca, Coordinates: (38.35, 27.1667)\n",
      "City: Gaziemir, Coordinates: (38.3214, 27.1275)\n",
      "City: Karşıyaka, Coordinates: (38.4596, 27.1152)\n",
      "City: Kemerburgaz, Coordinates: (41.1617, 28.9206)\n",
      "City: Mamak, Coordinates: (39.9422, 32.9231)\n",
      "City: Bornova, Coordinates: (38.4697, 27.2211)\n",
      "City: Burç, Coordinates: (37.0136, 37.1791)\n",
      "City: Sincan, Coordinates: (39.9594, 32.5767)\n",
      "City: Kazanlı, Coordinates: (36.8156, 34.7576)\n",
      "City: Yenimahalle, Coordinates: (39.9719, 32.8119)\n",
      "City: Hadımköy, Coordinates: (41.1559, 28.6177)\n",
      "City: Mahmut Şevket Paşa, Coordinates: (41.1528, 29.1897)\n",
      "City: Değirmendere, Coordinates: (40.72, 29.7808)\n",
      "City: Yolboyu, Coordinates: (37.8976, 40.0009)\n",
      "City: Bağlar, Coordinates: (37.8333, 40.0)\n",
      "City: Yenişehir, Coordinates: (37.9415, 40.138)\n",
      "City: Erenler, Coordinates: (40.755, 30.3934)\n",
      "City: Kazımpaşa, Coordinates: (40.7916, 30.295)\n",
      "City: Serdivan, Coordinates: (40.7738, 30.3801)\n",
      "City: Darıca, Coordinates: (40.7797, 29.3945)\n"
     ]
    },
    {
     "data": {
      "text/plain": "{'Istanbul': (41.0136, 28.955),\n 'Ankara': (39.93, 32.85),\n 'İzmir': (38.42, 27.14),\n 'Bursa': (40.1833, 29.05),\n 'Antalya': (36.8874, 30.7075),\n 'Konya': (37.8667, 32.4833),\n 'Gaziantep': (37.0628, 37.3792),\n 'Şanlıurfa': (37.1583, 38.7917),\n 'Mersin': (36.8, 34.6333),\n 'Adana': (37.0, 35.3213),\n 'Diyarbakır': (37.91, 40.24),\n 'Kayseri': (38.7225, 35.4875),\n 'Samsun': (41.2903, 36.3336),\n 'Akçaabat': (41.0167, 39.55),\n 'Denizli': (37.7667, 29.0833),\n 'Çankaya': (39.9244, 32.8856),\n 'Esenyurt': (41.047, 28.658),\n 'Eskişehir': (39.7767, 30.5206),\n 'Seyhan': (36.9831, 35.3328),\n 'Küçükçekmece': (41.0, 28.8),\n 'Erzurum': (39.9086, 41.2769),\n 'Bağcılar': (41.0344, 28.8564),\n 'Pendik': (40.8747, 29.235),\n 'Selçuklu': (37.8814, 32.4922),\n 'Yıldırım': (40.11, 29.0821),\n 'Kartal': (40.8872, 29.19),\n 'Batman': (37.887, 41.132),\n 'Esenler': (41.0339, 28.8903),\n 'Kahramanmaraş': (37.5833, 36.9333),\n 'Kâğıthane': (41.0719, 28.9664),\n 'Avcılar': (40.9792, 28.7214),\n 'Trabzon': (41.005, 39.7225),\n 'Malatya': (38.3486, 38.3194),\n 'Elazığ': (38.6744, 39.2228),\n 'Yüreğir': (36.9981, 35.3439),\n 'Hatay': (36.2025, 36.1606),\n 'Sivas': (39.75, 37.0167),\n 'Gebze': (40.8, 29.4333),\n 'Kocaeli': (40.7625, 29.9175),\n 'Kayapınar': (37.94, 40.19),\n 'Manisa': (38.6306, 27.4222),\n 'Konak': (38.4189, 27.1285),\n 'Van': (38.4942, 43.38),\n 'Pamukkale': (37.9167, 29.1167),\n 'Sarıyer': (41.1669, 29.0572),\n 'Meram': (37.8364, 32.4383),\n 'Tarsus': (36.9165, 34.8951),\n 'Balıkesir': (39.6333, 27.8833),\n 'Beylikdüzü': (41.0011, 28.6419),\n 'Sultanbeyli': (40.9683, 29.2617),\n 'Aksaray': (38.3742, 34.0289),\n 'Alanya': (36.55, 32.0),\n 'Yeşilyurt': (38.2961, 38.2489),\n 'Adıyaman': (37.7639, 38.2778),\n 'Afyonkarahisar': (38.7578, 30.5386),\n 'İskenderun': (36.5817, 36.165),\n 'Battalgazi': (38.4228, 38.3656),\n 'Çorum': (40.5455, 34.957),\n 'Güngören': (41.0225, 28.8717),\n 'Çorlu': (41.15, 27.8),\n 'Sakarya': (40.7833, 30.4),\n 'Arnavutköy': (41.1856, 28.7406),\n 'İnegöl': (40.0806, 29.5097),\n 'Kütahya': (39.4167, 29.9833),\n 'Osmaniye': (37.075, 36.25),\n 'Isparta': (37.7647, 30.5567),\n 'Siverek': (37.75, 39.3167),\n 'Tuzla': (40.8161, 29.3006),\n 'Kızıltepe': (37.1939, 40.5861),\n 'Uşak': (38.6778, 29.4042),\n 'Çekme': (41.0369, 29.1786),\n 'Büyükçekmece': (41.02, 28.5775),\n 'Beykoz': (41.1342, 29.0922),\n 'Düzce': (40.8417, 31.1583),\n 'Manavgat': (36.7833, 31.4333),\n 'Ordu': (40.9833, 37.8833),\n 'Bolu': (40.7347, 31.6075),\n 'Tekirdağ': (40.9778, 27.5153),\n 'Tokat': (40.3139, 36.5542),\n 'Viranşehir': (37.2306, 39.7653),\n 'Karaköprü': (37.1847, 38.7908),\n 'Karaman': (37.1819, 33.2181),\n 'Muş': (38.7333, 41.4911),\n 'Kırıkkale': (39.8417, 33.5139),\n 'Aydın': (37.8481, 27.8453),\n 'Çanakkale': (40.1519, 26.4056),\n 'Edirne': (41.6769, 26.5556),\n 'Torbalı': (38.1619, 27.3583),\n 'Ereğli': (37.5167, 34.05),\n 'Bodrum': (37.0378, 27.4242),\n 'Menemen': (38.6, 27.0667),\n 'Akhisar': (38.9167, 27.8333),\n 'Çerkezköy': (41.2833, 28.0),\n 'Siirt': (37.925, 41.9458),\n 'Körfez': (40.7833, 29.7333),\n 'Talas': (38.6833, 35.5667),\n 'Turgutlu': (38.5, 27.7),\n 'Gölcük': (40.6667, 29.8333),\n 'Salihli': (38.4811, 28.1392),\n 'Ceyhan': (37.0289, 35.8125),\n 'Bingöl': (38.8861, 40.5017),\n 'Fethiye': (36.6514, 29.1231),\n 'Erzincan': (39.7464, 39.4914),\n 'Nazilli': (37.9125, 28.3206),\n 'Bartın': (41.6344, 32.3375),\n 'Edremit': (39.5922, 27.02),\n 'Bandırma': (40.35, 27.9667),\n 'Kırşehir': (39.1456, 34.1608),\n 'Nevşehir': (38.6264, 34.7139),\n 'Ağrı': (39.7186, 43.0508),\n 'Amasya': (40.65, 35.8331),\n 'Kastamonu': (41.3764, 33.7764),\n 'Lüleburgaz': (41.4056, 27.3569),\n 'Yalova': (40.6556, 29.275),\n 'Cizre': (37.332, 42.187),\n 'Elbistan': (38.2014, 37.1883),\n 'Nizip': (37.01, 37.7972),\n 'Rize': (41.0247, 40.5222),\n 'Çarşamba': (41.1992, 36.7275),\n 'Silivri': (41.0736, 28.2478),\n 'Iğdır': (39.9208, 44.0444),\n 'Giresun': (40.9153, 38.3894),\n 'Silopi': (37.2486, 42.4703),\n 'Ödemiş': (38.2311, 27.9719),\n 'Karabük': (41.1986, 32.6264),\n 'Kozan': (37.45, 35.8),\n 'Ergani': (38.2692, 39.7617),\n 'Çayırova': (40.8265, 29.3745),\n 'Ünye': (41.1333, 37.2833),\n 'Polatlı': (39.5842, 32.1472),\n 'Serik': (36.9167, 31.1),\n 'Kadirli': (37.3697, 36.1),\n 'Patnos': (39.2358, 42.8686),\n 'Kâhta': (37.7803, 38.6217),\n 'Doğubayazıt': (39.5472, 44.0833),\n 'Samandağ': (36.085, 35.9806),\n 'Zonguldak': (41.4564, 31.7986),\n 'Söke': (37.7508, 27.4103),\n 'Yüksekova': (37.569, 44.283),\n 'Silifke': (36.3761, 33.9322),\n 'Niğde': (37.9667, 34.6792),\n 'Karatepe': (40.7333, 29.9667),\n 'Kapaklı': (41.3333, 27.9667),\n 'Fatsa': (41.0333, 37.5),\n 'Kilis': (36.7167, 37.1167),\n 'Kars': (40.6078, 43.0958),\n 'Kuşadası': (37.8597, 27.2597),\n 'Midyat': (37.4167, 41.3697),\n 'Akçakale': (36.7108, 38.9478),\n 'Burdur': (37.7194, 30.2833),\n 'Soma': (39.1883, 27.6089),\n 'Kemalpaşa': (38.4278, 27.4161),\n 'Nusaybin': (37.075, 41.2153),\n 'Yozgat': (39.8208, 34.8083),\n 'Alaşehir': (38.35, 28.5167),\n 'Suruç': (36.9764, 38.4269),\n 'Bergama': (39.1167, 27.1833),\n 'Tavşanlı': (39.5333, 29.4833),\n 'Çankırı': (40.5986, 33.6192),\n 'Şırnak': (37.52, 42.459),\n 'Mardin': (37.3131, 40.735),\n 'Bilecik': (40.1431, 29.9792),\n 'Hakkari': (37.577, 43.739),\n 'Bitlis': (38.4, 42.1083),\n 'Bayburt': (40.2597, 40.2278),\n 'Kırklareli': (41.7347, 27.2253),\n 'Gümüşhane': (40.4597, 39.4778),\n 'Muğla': (37.2167, 28.3667),\n 'Ardahan': (41.1111, 42.7022),\n 'Tunceli': (39.1064, 39.5472),\n 'Artvin': (41.1833, 41.8181),\n 'Yumurtalık': (36.7678, 35.7922),\n 'Sinop': (42.0267, 35.1511),\n 'Yenice': (36.9667, 35.05),\n 'Adalar': (40.8578, 29.12),\n 'Çağlayan': (40.9, 39.7167),\n 'Mahmutbey': (41.0536, 28.8256),\n 'Etimesgut': (39.9458, 32.6694),\n 'Samandıra': (40.999, 29.2257),\n 'Keçiören': (40.0, 32.8667),\n 'Pursaklar': (40.032, 32.8953),\n 'Melikgazi': (38.75, 35.45),\n 'Altındağ': (39.9636, 32.9033),\n 'Buca': (38.35, 27.1667),\n 'Gaziemir': (38.3214, 27.1275),\n 'Karşıyaka': (38.4596, 27.1152),\n 'Kemerburgaz': (41.1617, 28.9206),\n 'Mamak': (39.9422, 32.9231),\n 'Bornova': (38.4697, 27.2211),\n 'Burç': (37.0136, 37.1791),\n 'Sincan': (39.9594, 32.5767),\n 'Kazanlı': (36.8156, 34.7576),\n 'Yenimahalle': (39.9719, 32.8119),\n 'Hadımköy': (41.1559, 28.6177),\n 'Mahmut Şevket Paşa': (41.1528, 29.1897),\n 'Değirmendere': (40.72, 29.7808),\n 'Yolboyu': (37.8976, 40.0009),\n 'Bağlar': (37.8333, 40.0),\n 'Yenişehir': (37.9415, 40.138),\n 'Erenler': (40.755, 30.3934),\n 'Kazımpaşa': (40.7916, 30.295),\n 'Serdivan': (40.7738, 30.3801),\n 'Darıca': (40.7797, 29.3945)}"
     },
     "execution_count": 164,
     "metadata": {},
     "output_type": "execute_result"
    }
   ],
   "source": [
    "# Replace 'file.csv' with your CSV file's name and path\n",
    "file_path = 'data/tr.csv'\n",
    "\n",
    "# Create an empty dictionary to store city coordinates\n",
    "city_coordinates = {}\n",
    "\n",
    "# Open the CSV file and read data\n",
    "with open(file_path, newline='', encoding='utf-8') as csvfile:\n",
    "    reader = csv.DictReader(csvfile)\n",
    "    for row in reader:\n",
    "        city = row['city']\n",
    "        lat = float(row['lat'])\n",
    "        lng = float(row['lng'])\n",
    "        city_coordinates[city] = (lat, lng)\n",
    "\n",
    "# Display the dictionary containing city coordinates\n",
    "for city, coordinates in city_coordinates.items():\n",
    "    print(f\"City: {city}, Coordinates: {coordinates}\")\n",
    "city_coordinates"
   ]
  },
  {
   "cell_type": "code",
   "execution_count": 165,
   "outputs": [
    {
     "data": {
      "text/plain": "datetime.datetime(2024, 1, 7, 17, 35, 58, 268593)"
     },
     "execution_count": 165,
     "metadata": {},
     "output_type": "execute_result"
    }
   ],
   "source": [
    "today = datetime.now() - timedelta(days=1) # Get today's date\n",
    "one_year_ago = today - timedelta(days=365)  # Subtract 365 days for one year\n",
    "today"
   ],
   "metadata": {
    "collapsed": false,
    "ExecuteTime": {
     "end_time": "2024-01-08T14:36:00.135572700Z",
     "start_time": "2024-01-08T14:35:58.273934100Z"
    }
   },
   "id": "8d7df3adb4584a32"
  },
  {
   "cell_type": "code",
   "execution_count": 166,
   "outputs": [],
   "source": [
    "def format_date(date):\n",
    "\tformatted_date = date.strftime('%Y-%m-%d')\n",
    "\treturn formatted_date"
   ],
   "metadata": {
    "collapsed": false,
    "ExecuteTime": {
     "end_time": "2024-01-08T14:36:00.135572700Z",
     "start_time": "2024-01-08T14:35:58.291206800Z"
    }
   },
   "id": "2e3c68c3683231d3"
  },
  {
   "cell_type": "code",
   "execution_count": 167,
   "id": "0ef15f82",
   "metadata": {
    "ExecuteTime": {
     "end_time": "2024-01-08T14:36:00.135572700Z",
     "start_time": "2024-01-08T14:35:58.311782100Z"
    }
   },
   "outputs": [],
   "source": [
    "def api_call(lat,long):\n",
    "\t# Setup the Open-Meteo API client with cache and retry on error\n",
    "\tcache_session = requests_cache.CachedSession('.cache', expire_after = -1)\n",
    "\tretry_session = retry(cache_session, retries = 5, backoff_factor = 0.2)\n",
    "\topenmeteo = openmeteo_requests.Client(session = retry_session)\n",
    "\t\n",
    "\t# Make sure all required weather variables are listed here\n",
    "\t# The order of variables in hourly or daily is important to assign them correctly below\n",
    "\turl = \"https://archive-api.open-meteo.com/v1/archive\"\n",
    "\tparams = {\n",
    "\t\t\"latitude\": lat,\n",
    "\t\t\"longitude\": long,\n",
    "\t\t\"start_date\": format_date(one_year_ago),\n",
    "\t\t\"end_date\": format_date(today),\n",
    "\t\t\"hourly\": [\"temperature_2m\", \"relative_humidity_2m\", \"rain\", \"snowfall\", \"surface_pressure\", \"cloud_cover\", \"wind_speed_10m\"]\n",
    "\t}\n",
    "\tresponses = openmeteo.weather_api(url, params=params)\n",
    "\t\n",
    "\t# Process first location. Add a for-loop for multiple locations or weather models\n",
    "\tresponse = responses[0]\n",
    "\tprint(f\"Coordinates {response.Latitude()}°E {response.Longitude()}°N\")\n",
    "\tprint(f\"Elevation {response.Elevation()} m asl\")\n",
    "\t\n",
    "\t# Process hourly data. The order of variables needs to be the same as requested.\n",
    "\thourly = response.Hourly()\n",
    "\thourly_temperature_2m = hourly.Variables(0).ValuesAsNumpy()\n",
    "\thourly_relative_humidity_2m = hourly.Variables(1).ValuesAsNumpy()\n",
    "\thourly_rain = hourly.Variables(2).ValuesAsNumpy()\n",
    "\thourly_snowfall = hourly.Variables(3).ValuesAsNumpy()\n",
    "\thourly_surface_pressure = hourly.Variables(4).ValuesAsNumpy()\n",
    "\thourly_cloud_cover = hourly.Variables(5).ValuesAsNumpy()\n",
    "\thourly_wind_speed_10m = hourly.Variables(6).ValuesAsNumpy()\n",
    "\t\n",
    "\thourly_data = {\"date\": pd.date_range(\n",
    "\t\tstart=pd.to_datetime(hourly.Time(), unit=\"s\"),\n",
    "\t\tend=pd.to_datetime(hourly.TimeEnd(), unit=\"s\"),\n",
    "\t\tfreq=pd.Timedelta(seconds=hourly.Interval()),\n",
    "\t\tinclusive=\"left\"\n",
    "\t), \"temperature_2m\": hourly_temperature_2m, \"relative_humidity_2m\": hourly_relative_humidity_2m, \"rain\": hourly_rain,\n",
    "\t\t\"snowfall\": hourly_snowfall, \"surface_pressure\": hourly_surface_pressure, \"cloud_cover\": hourly_cloud_cover,\n",
    "\t\t\"wind_speed_10m\": hourly_wind_speed_10m}\n",
    "\t\n",
    "\thourly_dataframe = pd.DataFrame(data = hourly_data)\n",
    "\treturn hourly_dataframe"
   ]
  },
  {
   "cell_type": "code",
   "execution_count": 168,
   "outputs": [
    {
     "name": "stdout",
     "output_type": "stream",
     "text": [
      "Coordinates 41.01932907104492°E 29.01569175720215°N\n",
      "Elevation 41.0 m asl\n",
      "Coordinates 39.964847564697266°E 32.68156433105469°N\n",
      "Elevation 848.0 m asl\n",
      "Coordinates 38.418277740478516°E 27.19512176513672°N\n",
      "Elevation 13.0 m asl\n",
      "Coordinates 40.17574691772461°E 28.90603256225586°N\n",
      "Elevation 257.0 m asl\n",
      "Coordinates 36.8717041015625°E 30.789474487304688°N\n",
      "Elevation 46.0 m asl\n",
      "Coordinates 37.85588455200195°E 32.573726654052734°N\n",
      "Elevation 1025.0 m asl\n",
      "Coordinates 37.08259963989258°E 37.450462341308594°N\n",
      "Elevation 842.0 m asl\n",
      "Coordinates 37.152896881103516°E 38.80952453613281°N\n",
      "Elevation 525.0 m asl\n",
      "Coordinates 36.8014030456543°E 34.53350830078125°N\n",
      "Elevation 10.0 m asl\n",
      "Coordinates 37.01230239868164°E 35.263851165771484°N\n",
      "Elevation 28.0 m asl\n",
      "Coordinates 37.926185607910156°E 40.228187561035156°N\n",
      "Elevation 661.0 m asl\n",
      "Coordinates 38.69947052001953°E 35.313350677490234°N\n",
      "Elevation 1057.0 m asl\n",
      "Coordinates 41.3005256652832°E 36.28407287597656°N\n",
      "Elevation 13.0 m asl\n",
      "Coordinates 41.01932907104492°E 39.54351043701172°N\n",
      "Elevation 293.0 m asl\n",
      "Coordinates 37.785587310791016°E 29.156627655029297°N\n",
      "Elevation 432.0 m asl\n",
      "Coordinates 39.89455032348633°E 32.76150894165039°N\n",
      "Elevation 989.0 m asl\n",
      "Coordinates 41.01932907104492°E 28.63052749633789°N\n",
      "Elevation 66.0 m asl\n",
      "Coordinates 39.75395202636719°E 30.54241943359375°N\n",
      "Elevation 797.0 m asl\n",
      "Coordinates 37.01230239868164°E 35.38258743286133°N\n",
      "Elevation 27.0 m asl\n",
      "Coordinates 41.01932907104492°E 28.758914947509766°N\n",
      "Elevation 71.0 m asl\n",
      "Coordinates 39.89455032348633°E 41.17155075073242°N\n",
      "Elevation 1903.0 m asl\n",
      "Coordinates 41.01932907104492°E 28.887304306030273°N\n",
      "Elevation 91.0 m asl\n",
      "Coordinates 40.87873458862305°E 29.317211151123047°N\n",
      "Elevation 2.0 m asl\n",
      "Coordinates 37.85588455200195°E 32.573726654052734°N\n",
      "Elevation 1018.0 m asl\n",
      "Coordinates 40.105445861816406°E 29.24370002746582°N\n",
      "Elevation 1478.0 m asl\n",
      "Coordinates 40.87873458862305°E 29.317211151123047°N\n",
      "Elevation 4.0 m asl\n",
      "Coordinates 37.85588455200195°E 41.139408111572266°N\n",
      "Elevation 570.0 m asl\n",
      "Coordinates 41.01932907104492°E 28.887304306030273°N\n",
      "Elevation 76.0 m asl\n",
      "Coordinates 37.57469177246094°E 36.84000015258789°N\n",
      "Elevation 610.0 m asl\n",
      "Coordinates 41.089630126953125°E 28.928573608398438°N\n",
      "Elevation 5.0 m asl\n",
      "Coordinates 40.949031829833984°E 28.71795082092285°N\n",
      "Elevation 65.0 m asl\n",
      "Coordinates 41.01932907104492°E 39.54351043701172°N\n",
      "Elevation 25.0 m asl\n",
      "Coordinates 38.34797668457031°E 38.240867614746094°N\n",
      "Elevation 966.0 m asl\n",
      "Coordinates 38.69947052001953°E 39.237056732177734°N\n",
      "Elevation 1069.0 m asl\n",
      "Coordinates 37.01230239868164°E 35.38258743286133°N\n",
      "Elevation 27.0 m asl\n",
      "Coordinates 36.16871643066406°E 36.2337646484375°N\n",
      "Elevation 90.0 m asl\n",
      "Coordinates 39.75395202636719°E 37.1766357421875°N\n",
      "Elevation 1282.0 m asl\n",
      "Coordinates 40.808433532714844°E 29.53125°N\n",
      "Elevation 191.0 m asl\n",
      "Coordinates 40.738136291503906°E 29.87234115600586°N\n",
      "Elevation 18.0 m asl\n",
      "Coordinates 37.926185607910156°E 40.228187561035156°N\n",
      "Elevation 718.0 m asl\n",
      "Coordinates 38.629173278808594°E 27.551021575927734°N\n",
      "Elevation 33.0 m asl\n",
      "Coordinates 38.418277740478516°E 27.19512176513672°N\n",
      "Elevation 2.0 m asl\n",
      "Coordinates 38.48857498168945°E 43.35142517089844°N\n",
      "Elevation 1706.0 m asl\n",
      "Coordinates 37.926185607910156°E 29.114093780517578°N\n",
      "Elevation 250.0 m asl\n",
      "Coordinates 41.15992736816406°E 29.098711013793945°N\n",
      "Elevation 7.0 m asl\n",
      "Coordinates 37.85588455200195°E 32.45308303833008°N\n",
      "Elevation 1041.0 m asl\n",
      "Coordinates 36.94200134277344°E 34.86166000366211°N\n",
      "Elevation 28.0 m asl\n",
      "Coordinates 39.61335372924805°E 27.836339950561523°N\n",
      "Elevation 146.0 m asl\n",
      "Coordinates 41.01932907104492°E 28.758914947509766°N\n",
      "Elevation 159.0 m asl\n",
      "Coordinates 40.949031829833984°E 29.230770111083984°N\n",
      "Elevation 136.0 m asl\n",
      "Coordinates 38.34797668457031°E 33.97834777832031°N\n",
      "Elevation 977.0 m asl\n",
      "Coordinates 36.52021026611328°E 32.11764907836914°N\n",
      "Elevation 29.0 m asl\n",
      "Coordinates 38.277679443359375°E 38.067569732666016°N\n",
      "Elevation 999.0 m asl\n",
      "Coordinates 37.785587310791016°E 38.313255310058594°N\n",
      "Elevation 680.0 m asl\n",
      "Coordinates 38.769771575927734°E 30.572986602783203°N\n",
      "Elevation 1021.0 m asl\n",
      "Coordinates 36.59050750732422°E 36.164920806884766°N\n",
      "Elevation 6.0 m asl\n",
      "Coordinates 38.418277740478516°E 38.414634704589844°N\n",
      "Elevation 789.0 m asl\n",
      "Coordinates 40.52724075317383°E 34.95762634277344°N\n",
      "Elevation 814.0 m asl\n",
      "Coordinates 41.01932907104492°E 28.887304306030273°N\n",
      "Elevation 83.0 m asl\n",
      "Coordinates 41.15992736816406°E 27.8111572265625°N\n",
      "Elevation 155.0 m asl\n",
      "Coordinates 40.808433532714844°E 30.298294067382812°N\n",
      "Elevation 34.0 m asl\n",
      "Coordinates 41.15992736816406°E 28.712446212768555°N\n",
      "Elevation 163.0 m asl\n",
      "Coordinates 40.105445861816406°E 29.495800018310547°N\n",
      "Elevation 290.0 m asl\n",
      "Coordinates 39.40245819091797°E 30.08287239074707°N\n",
      "Elevation 974.0 m asl\n",
      "Coordinates 37.08259963989258°E 36.142669677734375°N\n",
      "Elevation 129.0 m asl\n",
      "Coordinates 37.785587310791016°E 30.4819278717041°N\n",
      "Elevation 1050.0 m asl\n",
      "Coordinates 37.71529006958008°E 39.34492111206055°N\n",
      "Elevation 762.0 m asl\n",
      "Coordinates 40.808433532714844°E 29.40340805053711°N\n",
      "Elevation 2.0 m asl\n",
      "Coordinates 37.22319793701172°E 40.52980041503906°N\n",
      "Elevation 488.0 m asl\n",
      "Coordinates 38.69947052001953°E 29.305177688598633°N\n",
      "Elevation 919.0 m asl\n",
      "Coordinates 41.01932907104492°E 29.144079208374023°N\n",
      "Elevation 160.0 m asl\n",
      "Coordinates 41.01932907104492°E 28.63052749633789°N\n",
      "Elevation 3.0 m asl\n",
      "Coordinates 41.15992736816406°E 29.098711013793945°N\n",
      "Elevation 14.0 m asl\n",
      "Coordinates 40.808433532714844°E 31.065340042114258°N\n",
      "Elevation 148.0 m asl\n",
      "Coordinates 36.8014030456543°E 31.458608627319336°N\n",
      "Elevation 8.0 m asl\n",
      "Coordinates 40.949031829833984°E 37.9487190246582°N\n",
      "Elevation 13.0 m asl\n",
      "Coordinates 40.738136291503906°E 31.53191566467285°N\n",
      "Elevation 734.0 m asl\n",
      "Coordinates 40.949031829833984°E 27.43589973449707°N\n",
      "Elevation 26.0 m asl\n",
      "Coordinates 40.316341400146484°E 36.45569610595703°N\n",
      "Elevation 623.0 m asl\n",
      "Coordinates 37.22319793701172°E 39.81456756591797°N\n",
      "Elevation 558.0 m asl\n",
      "Coordinates 37.152896881103516°E 38.80952453613281°N\n",
      "Elevation 609.0 m asl\n",
      "Coordinates 37.152896881103516°E 33.21428680419922°N\n",
      "Elevation 1039.0 m asl\n",
      "Coordinates 38.69947052001953°E 41.56675720214844°N\n",
      "Elevation 1401.0 m asl\n",
      "Coordinates 39.82425308227539°E 33.46796798706055°N\n",
      "Elevation 732.0 m asl\n",
      "Coordinates 37.85588455200195°E 27.86863136291504°N\n",
      "Elevation 82.0 m asl\n",
      "Coordinates 40.17574691772461°E 26.381488800048828°N\n",
      "Elevation 0.0 m asl\n",
      "Coordinates 41.65201950073242°E 26.531789779663086°N\n",
      "Elevation 64.0 m asl\n",
      "Coordinates 38.137081146240234°E 27.412399291992188°N\n",
      "Elevation 42.0 m asl\n",
      "Coordinates 37.504390716552734°E 34.03461837768555°N\n",
      "Elevation 1049.0 m asl\n",
      "Coordinates 37.01230239868164°E 27.30870819091797°N\n",
      "Elevation 18.0 m asl\n",
      "Coordinates 38.629173278808594°E 26.93877601623535°N\n",
      "Elevation 20.0 m asl\n",
      "Coordinates 38.91036605834961°E 27.82489585876465°N\n",
      "Elevation 98.0 m asl\n",
      "Coordinates 41.3005256652832°E 28.02008628845215°N\n",
      "Elevation 155.0 m asl\n",
      "Coordinates 37.926185607910156°E 42.04026794433594°N\n",
      "Elevation 913.0 m asl\n",
      "Coordinates 40.808433532714844°E 29.78693199157715°N\n",
      "Elevation 209.0 m asl\n",
      "Coordinates 38.69947052001953°E 35.5585823059082°N\n",
      "Elevation 1237.0 m asl\n",
      "Coordinates 38.48857498168945°E 27.598373413085938°N\n",
      "Elevation 89.0 m asl\n",
      "Coordinates 40.6678352355957°E 29.70254898071289°N\n",
      "Elevation 122.0 m asl\n",
      "Coordinates 38.48857498168945°E 28.208955764770508°N\n",
      "Elevation 110.0 m asl\n",
      "Coordinates 37.01230239868164°E 35.857521057128906°N\n",
      "Elevation 31.0 m asl\n",
      "Coordinates 38.91036605834961°E 40.6292724609375°N\n",
      "Elevation 1108.0 m asl\n",
      "Coordinates 36.66080856323242°E 29.252948760986328°N\n",
      "Elevation 3.0 m asl\n",
      "Coordinates 39.75395202636719°E 39.42976379394531°N\n",
      "Elevation 1204.0 m asl\n",
      "Coordinates 37.926185607910156°E 28.38926124572754°N\n",
      "Elevation 81.0 m asl\n",
      "Coordinates 41.65201950073242°E 32.25433349609375°N\n",
      "Elevation 27.0 m asl\n",
      "Coordinates 39.61335372924805°E 27.087379455566406°N\n",
      "Elevation 28.0 m asl\n",
      "Coordinates 40.316341400146484°E 27.97468376159668°N\n",
      "Elevation 13.0 m asl\n",
      "Coordinates 39.12126541137695°E 33.99725341796875°N\n",
      "Elevation 984.0 m asl\n",
      "Coordinates 38.629173278808594°E 34.65306091308594°N\n",
      "Elevation 1204.0 m asl\n",
      "Coordinates 39.68365478515625°E 43.0°N\n",
      "Elevation 1633.0 m asl\n",
      "Coordinates 40.6678352355957°E 35.69404983520508°N\n",
      "Elevation 407.0 m asl\n",
      "Coordinates 41.37082290649414°E 33.75°N\n",
      "Elevation 781.0 m asl\n",
      "Coordinates 41.37082290649414°E 27.41379165649414°N\n",
      "Elevation 70.0 m asl\n",
      "Coordinates 40.6678352355957°E 29.320112228393555°N\n",
      "Elevation 12.0 m asl\n",
      "Coordinates 37.36379623413086°E 42.19123458862305°N\n",
      "Elevation 382.0 m asl\n",
      "Coordinates 38.20737838745117°E 37.165992736816406°N\n",
      "Elevation 1137.0 m asl\n",
      "Coordinates 37.01230239868164°E 37.75725555419922°N\n",
      "Elevation 528.0 m asl\n",
      "Coordinates 41.01932907104492°E 40.44222640991211°N\n",
      "Elevation 17.0 m asl\n",
      "Coordinates 41.230228424072266°E 36.74784851074219°N\n",
      "Elevation 20.0 m asl\n",
      "Coordinates 41.089630126953125°E 28.285715103149414°N\n",
      "Elevation 9.0 m asl\n",
      "Coordinates 39.89455032348633°E 44.05857849121094°N\n",
      "Elevation 863.0 m asl\n",
      "Coordinates 40.949031829833984°E 38.20513153076172°N\n",
      "Elevation 48.0 m asl\n",
      "Coordinates 37.22319793701172°E 42.43708419799805°N\n",
      "Elevation 512.0 m asl\n",
      "Coordinates 38.20737838745117°E 27.935222625732422°N\n",
      "Elevation 135.0 m asl\n",
      "Coordinates 41.230228424072266°E 32.75071334838867°N\n",
      "Elevation 270.0 m asl\n",
      "Coordinates 37.4340934753418°E 35.784576416015625°N\n",
      "Elevation 132.0 m asl\n",
      "Coordinates 38.277679443359375°E 39.77027130126953°N\n",
      "Elevation 945.0 m asl\n",
      "Coordinates 40.808433532714844°E 29.40340805053711°N\n",
      "Elevation 56.0 m asl\n",
      "Coordinates 41.15992736816406°E 37.339054107666016°N\n",
      "Elevation 19.0 m asl\n",
      "Coordinates 39.61335372924805°E 32.0804443359375°N\n",
      "Elevation 872.0 m asl\n",
      "Coordinates 36.94200134277344°E 31.06719398498535°N\n",
      "Elevation 33.0 m asl\n",
      "Coordinates 37.36379623413086°E 36.095619201660156°N\n",
      "Elevation 93.0 m asl\n",
      "Coordinates 39.26185989379883°E 42.768592834472656°N\n",
      "Elevation 1635.0 m asl\n",
      "Coordinates 37.785587310791016°E 38.67469787597656°N\n",
      "Elevation 719.0 m asl\n",
      "Coordinates 39.54305648803711°E 44.12742614746094°N\n",
      "Elevation 1591.0 m asl\n",
      "Coordinates 36.09841537475586°E 35.95330810546875°N\n",
      "Elevation 36.0 m asl\n",
      "Coordinates 41.441123962402344°E 31.98560905456543°N\n",
      "Elevation 150.0 m asl\n",
      "Coordinates 37.785587310791016°E 27.469881057739258°N\n",
      "Elevation 38.0 m asl\n",
      "Coordinates 37.57469177246094°E 44.279998779296875°N\n",
      "Elevation 1873.0 m asl\n",
      "Coordinates 36.37961196899414°E 34.028682708740234°N\n",
      "Elevation 15.0 m asl\n",
      "Coordinates 37.996482849121094°E 34.59677505493164°N\n",
      "Elevation 1256.0 m asl\n",
      "Coordinates 40.738136291503906°E 29.87234115600586°N\n",
      "Elevation 5.0 m asl\n",
      "Coordinates 41.3005256652832°E 28.02008628845215°N\n",
      "Elevation 187.0 m asl\n",
      "Coordinates 41.01932907104492°E 37.48929977416992°N\n",
      "Elevation 4.0 m asl\n",
      "Coordinates 36.73110580444336°E 37.08661651611328°N\n",
      "Elevation 666.0 m asl\n",
      "Coordinates 40.597537994384766°E 43.154170989990234°N\n",
      "Elevation 1752.0 m asl\n",
      "Coordinates 37.85588455200195°E 27.26541519165039°N\n",
      "Elevation 9.0 m asl\n",
      "Coordinates 37.4340934753418°E 41.409576416015625°N\n",
      "Elevation 931.0 m asl\n",
      "Coordinates 36.73110580444336°E 38.97637939453125°N\n",
      "Elevation 359.0 m asl\n",
      "Coordinates 37.71529006958008°E 30.32085609436035°N\n",
      "Elevation 952.0 m asl\n",
      "Coordinates 39.19156265258789°E 27.482807159423828°N\n",
      "Elevation 148.0 m asl\n",
      "Coordinates 38.418277740478516°E 27.560976028442383°N\n",
      "Elevation 204.0 m asl\n",
      "Coordinates 37.08259963989258°E 41.25495529174805°N\n",
      "Elevation 474.0 m asl\n",
      "Coordinates 39.82425308227539°E 34.846797943115234°N\n",
      "Elevation 1292.0 m asl\n",
      "Coordinates 38.34797668457031°E 28.6197566986084°N\n",
      "Elevation 208.0 m asl\n",
      "Coordinates 36.94200134277344°E 38.41897201538086°N\n",
      "Elevation 495.0 m asl\n",
      "Coordinates 39.12126541137695°E 27.19780158996582°N\n",
      "Elevation 62.0 m asl\n",
      "Coordinates 39.54305648803711°E 29.542936325073242°N\n",
      "Elevation 820.0 m asl\n",
      "Coordinates 40.597537994384766°E 33.73408889770508°N\n",
      "Elevation 734.0 m asl\n",
      "Coordinates 37.504390716552734°E 42.54327392578125°N\n",
      "Elevation 1383.0 m asl\n",
      "Coordinates 37.293495178222656°E 40.82228088378906°N\n",
      "Elevation 1071.0 m asl\n",
      "Coordinates 40.17574691772461°E 30.042078018188477°N\n",
      "Elevation 510.0 m asl\n",
      "Coordinates 37.57469177246094°E 43.55999755859375°N\n",
      "Elevation 1748.0 m asl\n",
      "Coordinates 38.418277740478516°E 41.95122146606445°N\n",
      "Elevation 1493.0 m asl\n",
      "Coordinates 40.24604415893555°E 40.07022476196289°N\n",
      "Elevation 1546.0 m asl\n",
      "Coordinates 41.72231674194336°E 27.221416473388672°N\n",
      "Elevation 217.0 m asl\n",
      "Coordinates 40.456939697265625°E 39.351200103759766°N\n",
      "Elevation 1165.0 m asl\n",
      "Coordinates 37.22319793701172°E 28.25165557861328°N\n",
      "Elevation 667.0 m asl\n",
      "Coordinates 41.089630126953125°E 42.68571853637695°N\n",
      "Elevation 1805.0 m asl\n",
      "Coordinates 39.12126541137695°E 39.56044006347656°N\n",
      "Elevation 959.0 m asl\n",
      "Coordinates 41.15992736816406°E 41.84549331665039°N\n",
      "Elevation 594.0 m asl\n",
      "Coordinates 36.8014030456543°E 35.716163635253906°N\n",
      "Elevation 5.0 m asl\n",
      "Coordinates 42.00351333618164°E 34.97816467285156°N\n",
      "Elevation 23.0 m asl\n",
      "Coordinates 36.94200134277344°E 35.09881591796875°N\n",
      "Elevation 31.0 m asl\n",
      "Coordinates 40.87873458862305°E 29.061166763305664°N\n",
      "Elevation 65.0 m asl\n",
      "Coordinates 40.87873458862305°E 39.81507873535156°N\n",
      "Elevation 114.0 m asl\n",
      "Coordinates 41.01932907104492°E 28.887304306030273°N\n",
      "Elevation 101.0 m asl\n",
      "Coordinates 39.964847564697266°E 32.68156433105469°N\n",
      "Elevation 817.0 m asl\n",
      "Coordinates 41.01932907104492°E 29.27246856689453°N\n",
      "Elevation 115.0 m asl\n",
      "Coordinates 39.964847564697266°E 32.8072624206543°N\n",
      "Elevation 968.0 m asl\n",
      "Coordinates 40.03514862060547°E 32.8531494140625°N\n",
      "Elevation 1055.0 m asl\n",
      "Coordinates 38.769771575927734°E 35.484310150146484°N\n",
      "Elevation 1045.0 m asl\n",
      "Coordinates 39.964847564697266°E 32.8072624206543°N\n",
      "Elevation 947.0 m asl\n",
      "Coordinates 38.34797668457031°E 27.158323287963867°N\n",
      "Elevation 218.0 m asl\n",
      "Coordinates 38.34797668457031°E 27.158323287963867°N\n",
      "Elevation 153.0 m asl\n",
      "Coordinates 38.48857498168945°E 27.109905242919922°N\n",
      "Elevation 13.0 m asl\n",
      "Coordinates 41.15992736816406°E 28.969955444335938°N\n",
      "Elevation 85.0 m asl\n",
      "Coordinates 39.964847564697266°E 32.932960510253906°N\n",
      "Elevation 988.0 m asl\n",
      "Coordinates 38.48857498168945°E 27.109905242919922°N\n",
      "Elevation 72.0 m asl\n",
      "Coordinates 37.01230239868164°E 37.16358947753906°N\n",
      "Elevation 899.0 m asl\n",
      "Coordinates 39.964847564697266°E 32.55586624145508°N\n",
      "Elevation 811.0 m asl\n",
      "Coordinates 36.8014030456543°E 34.8883056640625°N\n",
      "Elevation 5.0 m asl\n",
      "Coordinates 39.964847564697266°E 32.8072624206543°N\n",
      "Elevation 922.0 m asl\n",
      "Coordinates 41.15992736816406°E 28.583690643310547°N\n",
      "Elevation 138.0 m asl\n",
      "Coordinates 41.15992736816406°E 29.227466583251953°N\n",
      "Elevation 53.0 m asl\n",
      "Coordinates 40.738136291503906°E 29.87234115600586°N\n",
      "Elevation 8.0 m asl\n",
      "Coordinates 37.926185607910156°E 39.986576080322266°N\n",
      "Elevation 844.0 m asl\n",
      "Coordinates 37.85588455200195°E 40.053619384765625°N\n",
      "Elevation 865.0 m asl\n",
      "Coordinates 37.926185607910156°E 40.107383728027344°N\n",
      "Elevation 765.0 m asl\n",
      "Coordinates 40.738136291503906°E 30.382978439331055°N\n",
      "Elevation 35.0 m asl\n",
      "Coordinates 40.808433532714844°E 30.298294067382812°N\n",
      "Elevation 48.0 m asl\n",
      "Coordinates 40.808433532714844°E 30.426136016845703°N\n",
      "Elevation 31.0 m asl\n",
      "Coordinates 40.808433532714844°E 29.40340805053711°N\n",
      "Elevation 57.0 m asl\n"
     ]
    },
    {
     "data": {
      "text/plain": "                    date  temperature_2m  relative_humidity_2m  rain  \\\n0    2023-01-07 00:00:00          6.7235             88.602036   0.0   \n1    2023-01-07 01:00:00          6.7735             85.868866   0.0   \n2    2023-01-07 02:00:00          4.0235             94.523346   0.0   \n3    2023-01-07 03:00:00          3.8735             96.201035   0.0   \n4    2023-01-07 04:00:00          4.4235             95.880096   0.0   \n...                  ...             ...                   ...   ...   \n8779 2024-01-07 19:00:00             NaN                   NaN   NaN   \n8780 2024-01-07 20:00:00             NaN                   NaN   NaN   \n8781 2024-01-07 21:00:00             NaN                   NaN   NaN   \n8782 2024-01-07 22:00:00             NaN                   NaN   NaN   \n8783 2024-01-07 23:00:00             NaN                   NaN   NaN   \n\n      snowfall  surface_pressure  cloud_cover  wind_speed_10m city_name  \\\n0          0.0       1019.487610    23.099998        7.244860  Istanbul   \n1          0.0       1019.787109    48.600002        4.896529  Istanbul   \n2          0.0       1019.537109    46.799999        6.151683  Istanbul   \n3          0.0       1019.634155   100.000000        5.052841  Istanbul   \n4          0.0       1019.843384    38.099998        4.334974  Istanbul   \n...        ...               ...          ...             ...       ...   \n8779       NaN               NaN          NaN             NaN    Darıca   \n8780       NaN               NaN          NaN             NaN    Darıca   \n8781       NaN               NaN          NaN             NaN    Darıca   \n8782       NaN               NaN          NaN             NaN    Darıca   \n8783       NaN               NaN          NaN             NaN    Darıca   \n\n      latitude  longitude  \n0      41.0136    28.9550  \n1      41.0136    28.9550  \n2      41.0136    28.9550  \n3      41.0136    28.9550  \n4      41.0136    28.9550  \n...        ...        ...  \n8779   40.7797    29.3945  \n8780   40.7797    29.3945  \n8781   40.7797    29.3945  \n8782   40.7797    29.3945  \n8783   40.7797    29.3945  \n\n[1783152 rows x 11 columns]",
      "text/html": "<div>\n<style scoped>\n    .dataframe tbody tr th:only-of-type {\n        vertical-align: middle;\n    }\n\n    .dataframe tbody tr th {\n        vertical-align: top;\n    }\n\n    .dataframe thead th {\n        text-align: right;\n    }\n</style>\n<table border=\"1\" class=\"dataframe\">\n  <thead>\n    <tr style=\"text-align: right;\">\n      <th></th>\n      <th>date</th>\n      <th>temperature_2m</th>\n      <th>relative_humidity_2m</th>\n      <th>rain</th>\n      <th>snowfall</th>\n      <th>surface_pressure</th>\n      <th>cloud_cover</th>\n      <th>wind_speed_10m</th>\n      <th>city_name</th>\n      <th>latitude</th>\n      <th>longitude</th>\n    </tr>\n  </thead>\n  <tbody>\n    <tr>\n      <th>0</th>\n      <td>2023-01-07 00:00:00</td>\n      <td>6.7235</td>\n      <td>88.602036</td>\n      <td>0.0</td>\n      <td>0.0</td>\n      <td>1019.487610</td>\n      <td>23.099998</td>\n      <td>7.244860</td>\n      <td>Istanbul</td>\n      <td>41.0136</td>\n      <td>28.9550</td>\n    </tr>\n    <tr>\n      <th>1</th>\n      <td>2023-01-07 01:00:00</td>\n      <td>6.7735</td>\n      <td>85.868866</td>\n      <td>0.0</td>\n      <td>0.0</td>\n      <td>1019.787109</td>\n      <td>48.600002</td>\n      <td>4.896529</td>\n      <td>Istanbul</td>\n      <td>41.0136</td>\n      <td>28.9550</td>\n    </tr>\n    <tr>\n      <th>2</th>\n      <td>2023-01-07 02:00:00</td>\n      <td>4.0235</td>\n      <td>94.523346</td>\n      <td>0.0</td>\n      <td>0.0</td>\n      <td>1019.537109</td>\n      <td>46.799999</td>\n      <td>6.151683</td>\n      <td>Istanbul</td>\n      <td>41.0136</td>\n      <td>28.9550</td>\n    </tr>\n    <tr>\n      <th>3</th>\n      <td>2023-01-07 03:00:00</td>\n      <td>3.8735</td>\n      <td>96.201035</td>\n      <td>0.0</td>\n      <td>0.0</td>\n      <td>1019.634155</td>\n      <td>100.000000</td>\n      <td>5.052841</td>\n      <td>Istanbul</td>\n      <td>41.0136</td>\n      <td>28.9550</td>\n    </tr>\n    <tr>\n      <th>4</th>\n      <td>2023-01-07 04:00:00</td>\n      <td>4.4235</td>\n      <td>95.880096</td>\n      <td>0.0</td>\n      <td>0.0</td>\n      <td>1019.843384</td>\n      <td>38.099998</td>\n      <td>4.334974</td>\n      <td>Istanbul</td>\n      <td>41.0136</td>\n      <td>28.9550</td>\n    </tr>\n    <tr>\n      <th>...</th>\n      <td>...</td>\n      <td>...</td>\n      <td>...</td>\n      <td>...</td>\n      <td>...</td>\n      <td>...</td>\n      <td>...</td>\n      <td>...</td>\n      <td>...</td>\n      <td>...</td>\n      <td>...</td>\n    </tr>\n    <tr>\n      <th>8779</th>\n      <td>2024-01-07 19:00:00</td>\n      <td>NaN</td>\n      <td>NaN</td>\n      <td>NaN</td>\n      <td>NaN</td>\n      <td>NaN</td>\n      <td>NaN</td>\n      <td>NaN</td>\n      <td>Darıca</td>\n      <td>40.7797</td>\n      <td>29.3945</td>\n    </tr>\n    <tr>\n      <th>8780</th>\n      <td>2024-01-07 20:00:00</td>\n      <td>NaN</td>\n      <td>NaN</td>\n      <td>NaN</td>\n      <td>NaN</td>\n      <td>NaN</td>\n      <td>NaN</td>\n      <td>NaN</td>\n      <td>Darıca</td>\n      <td>40.7797</td>\n      <td>29.3945</td>\n    </tr>\n    <tr>\n      <th>8781</th>\n      <td>2024-01-07 21:00:00</td>\n      <td>NaN</td>\n      <td>NaN</td>\n      <td>NaN</td>\n      <td>NaN</td>\n      <td>NaN</td>\n      <td>NaN</td>\n      <td>NaN</td>\n      <td>Darıca</td>\n      <td>40.7797</td>\n      <td>29.3945</td>\n    </tr>\n    <tr>\n      <th>8782</th>\n      <td>2024-01-07 22:00:00</td>\n      <td>NaN</td>\n      <td>NaN</td>\n      <td>NaN</td>\n      <td>NaN</td>\n      <td>NaN</td>\n      <td>NaN</td>\n      <td>NaN</td>\n      <td>Darıca</td>\n      <td>40.7797</td>\n      <td>29.3945</td>\n    </tr>\n    <tr>\n      <th>8783</th>\n      <td>2024-01-07 23:00:00</td>\n      <td>NaN</td>\n      <td>NaN</td>\n      <td>NaN</td>\n      <td>NaN</td>\n      <td>NaN</td>\n      <td>NaN</td>\n      <td>NaN</td>\n      <td>Darıca</td>\n      <td>40.7797</td>\n      <td>29.3945</td>\n    </tr>\n  </tbody>\n</table>\n<p>1783152 rows × 11 columns</p>\n</div>"
     },
     "execution_count": 168,
     "metadata": {},
     "output_type": "execute_result"
    }
   ],
   "source": [
    "data_frame = pd.DataFrame\n",
    "for city, (lat, lng) in city_coordinates.items():\n",
    "    df = api_call(lat, lng)\n",
    "    df['city_name'] = city\n",
    "    df['latitude'] = lat\n",
    "    df['longitude'] = lng\n",
    "    if data_frame.empty:\n",
    "        data_frame = df\n",
    "    else:\n",
    "        data_frame = pd.concat((data_frame, df))\n",
    "data_frame"
   ],
   "metadata": {
    "collapsed": false,
    "ExecuteTime": {
     "end_time": "2024-01-08T14:36:08.161156200Z",
     "start_time": "2024-01-08T14:35:58.345403900Z"
    }
   },
   "id": "ff84cd56"
  },
  {
   "cell_type": "code",
   "execution_count": 169,
   "outputs": [
    {
     "data": {
      "text/plain": "                 date  temperature_2m  relative_humidity_2m  rain  snowfall  \\\n0 2023-01-07 00:00:00          6.7235             88.602036   0.0       0.0   \n1 2023-01-07 01:00:00          6.7735             85.868866   0.0       0.0   \n2 2023-01-07 02:00:00          4.0235             94.523346   0.0       0.0   \n3 2023-01-07 03:00:00          3.8735             96.201035   0.0       0.0   \n4 2023-01-07 04:00:00          4.4235             95.880096   0.0       0.0   \n\n   surface_pressure  cloud_cover  wind_speed_10m city_name  latitude  \\\n0       1019.487610    23.099998        7.244860  Istanbul   41.0136   \n1       1019.787109    48.600002        4.896529  Istanbul   41.0136   \n2       1019.537109    46.799999        6.151683  Istanbul   41.0136   \n3       1019.634155   100.000000        5.052841  Istanbul   41.0136   \n4       1019.843384    38.099998        4.334974  Istanbul   41.0136   \n\n   longitude  \n0     28.955  \n1     28.955  \n2     28.955  \n3     28.955  \n4     28.955  ",
      "text/html": "<div>\n<style scoped>\n    .dataframe tbody tr th:only-of-type {\n        vertical-align: middle;\n    }\n\n    .dataframe tbody tr th {\n        vertical-align: top;\n    }\n\n    .dataframe thead th {\n        text-align: right;\n    }\n</style>\n<table border=\"1\" class=\"dataframe\">\n  <thead>\n    <tr style=\"text-align: right;\">\n      <th></th>\n      <th>date</th>\n      <th>temperature_2m</th>\n      <th>relative_humidity_2m</th>\n      <th>rain</th>\n      <th>snowfall</th>\n      <th>surface_pressure</th>\n      <th>cloud_cover</th>\n      <th>wind_speed_10m</th>\n      <th>city_name</th>\n      <th>latitude</th>\n      <th>longitude</th>\n    </tr>\n  </thead>\n  <tbody>\n    <tr>\n      <th>0</th>\n      <td>2023-01-07 00:00:00</td>\n      <td>6.7235</td>\n      <td>88.602036</td>\n      <td>0.0</td>\n      <td>0.0</td>\n      <td>1019.487610</td>\n      <td>23.099998</td>\n      <td>7.244860</td>\n      <td>Istanbul</td>\n      <td>41.0136</td>\n      <td>28.955</td>\n    </tr>\n    <tr>\n      <th>1</th>\n      <td>2023-01-07 01:00:00</td>\n      <td>6.7735</td>\n      <td>85.868866</td>\n      <td>0.0</td>\n      <td>0.0</td>\n      <td>1019.787109</td>\n      <td>48.600002</td>\n      <td>4.896529</td>\n      <td>Istanbul</td>\n      <td>41.0136</td>\n      <td>28.955</td>\n    </tr>\n    <tr>\n      <th>2</th>\n      <td>2023-01-07 02:00:00</td>\n      <td>4.0235</td>\n      <td>94.523346</td>\n      <td>0.0</td>\n      <td>0.0</td>\n      <td>1019.537109</td>\n      <td>46.799999</td>\n      <td>6.151683</td>\n      <td>Istanbul</td>\n      <td>41.0136</td>\n      <td>28.955</td>\n    </tr>\n    <tr>\n      <th>3</th>\n      <td>2023-01-07 03:00:00</td>\n      <td>3.8735</td>\n      <td>96.201035</td>\n      <td>0.0</td>\n      <td>0.0</td>\n      <td>1019.634155</td>\n      <td>100.000000</td>\n      <td>5.052841</td>\n      <td>Istanbul</td>\n      <td>41.0136</td>\n      <td>28.955</td>\n    </tr>\n    <tr>\n      <th>4</th>\n      <td>2023-01-07 04:00:00</td>\n      <td>4.4235</td>\n      <td>95.880096</td>\n      <td>0.0</td>\n      <td>0.0</td>\n      <td>1019.843384</td>\n      <td>38.099998</td>\n      <td>4.334974</td>\n      <td>Istanbul</td>\n      <td>41.0136</td>\n      <td>28.955</td>\n    </tr>\n  </tbody>\n</table>\n</div>"
     },
     "execution_count": 169,
     "metadata": {},
     "output_type": "execute_result"
    }
   ],
   "source": [
    "data_frame.head()"
   ],
   "metadata": {
    "collapsed": false,
    "ExecuteTime": {
     "end_time": "2024-01-08T14:36:08.332593800Z",
     "start_time": "2024-01-08T14:36:08.189909100Z"
    }
   },
   "id": "a900f41610d158d1"
  },
  {
   "cell_type": "markdown",
   "source": [
    "# Feature selection"
   ],
   "metadata": {
    "collapsed": false
   },
   "id": "c8e3b8f1baec27b6"
  },
  {
   "cell_type": "code",
   "execution_count": 170,
   "outputs": [
    {
     "name": "stdout",
     "output_type": "stream",
     "text": [
      "Index(['date', 'temperature_2m', 'relative_humidity_2m', 'rain', 'snowfall',\n",
      "       'surface_pressure', 'cloud_cover', 'wind_speed_10m', 'city_name',\n",
      "       'latitude', 'longitude'],\n",
      "      dtype='object')\n"
     ]
    }
   ],
   "source": [
    "print(data_frame.columns)"
   ],
   "metadata": {
    "collapsed": false,
    "ExecuteTime": {
     "end_time": "2024-01-08T14:36:08.384028400Z",
     "start_time": "2024-01-08T14:36:08.217054Z"
    }
   },
   "id": "176c944313296ba5"
  },
  {
   "cell_type": "code",
   "execution_count": 171,
   "outputs": [
    {
     "data": {
      "text/plain": "              date  temperature_2m  relative_humidity_2m  rain  snowfall  \\\n0     1.673050e+09        6.723500             88.602036   0.0       0.0   \n1     1.673053e+09        6.773500             85.868866   0.0       0.0   \n2     1.673057e+09        4.023500             94.523346   0.0       0.0   \n3     1.673060e+09        3.873500             96.201035   0.0       0.0   \n4     1.673064e+09        4.423500             95.880096   0.0       0.0   \n...            ...             ...                   ...   ...       ...   \n8730  1.704478e+09        9.493999             81.832985   0.0       0.0   \n8731  1.704481e+09        8.444000             85.157410   0.0       0.0   \n8732  1.704485e+09        8.444000             81.978683   0.0       0.0   \n8733  1.704488e+09        8.743999             76.516251   0.0       0.0   \n8734  1.704492e+09        8.794000             74.157814   0.0       0.0   \n\n      surface_pressure  cloud_cover  wind_speed_10m city_name  latitude  \\\n0          1019.787109    48.600002        4.896529  Istanbul   41.0136   \n1          1019.537109    46.799999        6.151683  Istanbul   41.0136   \n2          1019.634155   100.000000        5.052841  Istanbul   41.0136   \n3          1019.843384    38.099998        4.334974  Istanbul   41.0136   \n4          1020.244934    27.000002        3.319036  Istanbul   41.0136   \n...                ...          ...             ...       ...       ...   \n8730       1013.372742     0.300000        7.928178    Darıca   40.7797   \n8731       1013.472046    17.100000       10.105681    Darıca   40.7797   \n8732       1013.181458    12.600000       12.015589    Darıca   40.7797   \n8733       1012.984131    21.300001       12.144331    Darıca   40.7797   \n8734       1012.480286    15.300000       12.224107    Darıca   40.7797   \n\n      longitude  \n0       28.9550  \n1       28.9550  \n2       28.9550  \n3       28.9550  \n4       28.9550  \n...         ...  \n8730    29.3945  \n8731    29.3945  \n8732    29.3945  \n8733    29.3945  \n8734    29.3945  \n\n[1773205 rows x 11 columns]",
      "text/html": "<div>\n<style scoped>\n    .dataframe tbody tr th:only-of-type {\n        vertical-align: middle;\n    }\n\n    .dataframe tbody tr th {\n        vertical-align: top;\n    }\n\n    .dataframe thead th {\n        text-align: right;\n    }\n</style>\n<table border=\"1\" class=\"dataframe\">\n  <thead>\n    <tr style=\"text-align: right;\">\n      <th></th>\n      <th>date</th>\n      <th>temperature_2m</th>\n      <th>relative_humidity_2m</th>\n      <th>rain</th>\n      <th>snowfall</th>\n      <th>surface_pressure</th>\n      <th>cloud_cover</th>\n      <th>wind_speed_10m</th>\n      <th>city_name</th>\n      <th>latitude</th>\n      <th>longitude</th>\n    </tr>\n  </thead>\n  <tbody>\n    <tr>\n      <th>0</th>\n      <td>1.673050e+09</td>\n      <td>6.723500</td>\n      <td>88.602036</td>\n      <td>0.0</td>\n      <td>0.0</td>\n      <td>1019.787109</td>\n      <td>48.600002</td>\n      <td>4.896529</td>\n      <td>Istanbul</td>\n      <td>41.0136</td>\n      <td>28.9550</td>\n    </tr>\n    <tr>\n      <th>1</th>\n      <td>1.673053e+09</td>\n      <td>6.773500</td>\n      <td>85.868866</td>\n      <td>0.0</td>\n      <td>0.0</td>\n      <td>1019.537109</td>\n      <td>46.799999</td>\n      <td>6.151683</td>\n      <td>Istanbul</td>\n      <td>41.0136</td>\n      <td>28.9550</td>\n    </tr>\n    <tr>\n      <th>2</th>\n      <td>1.673057e+09</td>\n      <td>4.023500</td>\n      <td>94.523346</td>\n      <td>0.0</td>\n      <td>0.0</td>\n      <td>1019.634155</td>\n      <td>100.000000</td>\n      <td>5.052841</td>\n      <td>Istanbul</td>\n      <td>41.0136</td>\n      <td>28.9550</td>\n    </tr>\n    <tr>\n      <th>3</th>\n      <td>1.673060e+09</td>\n      <td>3.873500</td>\n      <td>96.201035</td>\n      <td>0.0</td>\n      <td>0.0</td>\n      <td>1019.843384</td>\n      <td>38.099998</td>\n      <td>4.334974</td>\n      <td>Istanbul</td>\n      <td>41.0136</td>\n      <td>28.9550</td>\n    </tr>\n    <tr>\n      <th>4</th>\n      <td>1.673064e+09</td>\n      <td>4.423500</td>\n      <td>95.880096</td>\n      <td>0.0</td>\n      <td>0.0</td>\n      <td>1020.244934</td>\n      <td>27.000002</td>\n      <td>3.319036</td>\n      <td>Istanbul</td>\n      <td>41.0136</td>\n      <td>28.9550</td>\n    </tr>\n    <tr>\n      <th>...</th>\n      <td>...</td>\n      <td>...</td>\n      <td>...</td>\n      <td>...</td>\n      <td>...</td>\n      <td>...</td>\n      <td>...</td>\n      <td>...</td>\n      <td>...</td>\n      <td>...</td>\n      <td>...</td>\n    </tr>\n    <tr>\n      <th>8730</th>\n      <td>1.704478e+09</td>\n      <td>9.493999</td>\n      <td>81.832985</td>\n      <td>0.0</td>\n      <td>0.0</td>\n      <td>1013.372742</td>\n      <td>0.300000</td>\n      <td>7.928178</td>\n      <td>Darıca</td>\n      <td>40.7797</td>\n      <td>29.3945</td>\n    </tr>\n    <tr>\n      <th>8731</th>\n      <td>1.704481e+09</td>\n      <td>8.444000</td>\n      <td>85.157410</td>\n      <td>0.0</td>\n      <td>0.0</td>\n      <td>1013.472046</td>\n      <td>17.100000</td>\n      <td>10.105681</td>\n      <td>Darıca</td>\n      <td>40.7797</td>\n      <td>29.3945</td>\n    </tr>\n    <tr>\n      <th>8732</th>\n      <td>1.704485e+09</td>\n      <td>8.444000</td>\n      <td>81.978683</td>\n      <td>0.0</td>\n      <td>0.0</td>\n      <td>1013.181458</td>\n      <td>12.600000</td>\n      <td>12.015589</td>\n      <td>Darıca</td>\n      <td>40.7797</td>\n      <td>29.3945</td>\n    </tr>\n    <tr>\n      <th>8733</th>\n      <td>1.704488e+09</td>\n      <td>8.743999</td>\n      <td>76.516251</td>\n      <td>0.0</td>\n      <td>0.0</td>\n      <td>1012.984131</td>\n      <td>21.300001</td>\n      <td>12.144331</td>\n      <td>Darıca</td>\n      <td>40.7797</td>\n      <td>29.3945</td>\n    </tr>\n    <tr>\n      <th>8734</th>\n      <td>1.704492e+09</td>\n      <td>8.794000</td>\n      <td>74.157814</td>\n      <td>0.0</td>\n      <td>0.0</td>\n      <td>1012.480286</td>\n      <td>15.300000</td>\n      <td>12.224107</td>\n      <td>Darıca</td>\n      <td>40.7797</td>\n      <td>29.3945</td>\n    </tr>\n  </tbody>\n</table>\n<p>1773205 rows × 11 columns</p>\n</div>"
     },
     "execution_count": 171,
     "metadata": {},
     "output_type": "execute_result"
    }
   ],
   "source": [
    "data_frame['date'] = pd.to_datetime(data_frame['date']).astype('int64') / 10**9  # Convert nanoseconds to seconds\n",
    "selected_features = data_frame[['date', 'latitude', 'longitude']]\n",
    "\n",
    "target_variables = ['rain','snowfall', 'cloud_cover', 'wind_speed_10m','surface_pressure']\n",
    "\n",
    "# Assuming you want to predict each target variable for the next hour\n",
    "for target_variable in target_variables:\n",
    "    # Shift the target variable by 1 hour to align with features\n",
    "    data_frame[target_variable] = data_frame[target_variable].shift(-1)\n",
    "\n",
    "# Drop the last row to maintain alignment of features and labels\n",
    "data_frame = data_frame.dropna()\n",
    "data_frame"
   ],
   "metadata": {
    "collapsed": false,
    "ExecuteTime": {
     "end_time": "2024-01-08T14:36:08.881980200Z",
     "start_time": "2024-01-08T14:36:08.254498100Z"
    }
   },
   "id": "5067c679d92062ad"
  },
  {
   "cell_type": "code",
   "execution_count": 172,
   "outputs": [
    {
     "data": {
      "text/plain": "              date  latitude  longitude\n0     1.673050e+09   41.0136    28.9550\n1     1.673053e+09   41.0136    28.9550\n2     1.673057e+09   41.0136    28.9550\n3     1.673060e+09   41.0136    28.9550\n4     1.673064e+09   41.0136    28.9550\n...            ...       ...        ...\n8730  1.704478e+09   40.7797    29.3945\n8731  1.704481e+09   40.7797    29.3945\n8732  1.704485e+09   40.7797    29.3945\n8733  1.704488e+09   40.7797    29.3945\n8734  1.704492e+09   40.7797    29.3945\n\n[1773205 rows x 3 columns]",
      "text/html": "<div>\n<style scoped>\n    .dataframe tbody tr th:only-of-type {\n        vertical-align: middle;\n    }\n\n    .dataframe tbody tr th {\n        vertical-align: top;\n    }\n\n    .dataframe thead th {\n        text-align: right;\n    }\n</style>\n<table border=\"1\" class=\"dataframe\">\n  <thead>\n    <tr style=\"text-align: right;\">\n      <th></th>\n      <th>date</th>\n      <th>latitude</th>\n      <th>longitude</th>\n    </tr>\n  </thead>\n  <tbody>\n    <tr>\n      <th>0</th>\n      <td>1.673050e+09</td>\n      <td>41.0136</td>\n      <td>28.9550</td>\n    </tr>\n    <tr>\n      <th>1</th>\n      <td>1.673053e+09</td>\n      <td>41.0136</td>\n      <td>28.9550</td>\n    </tr>\n    <tr>\n      <th>2</th>\n      <td>1.673057e+09</td>\n      <td>41.0136</td>\n      <td>28.9550</td>\n    </tr>\n    <tr>\n      <th>3</th>\n      <td>1.673060e+09</td>\n      <td>41.0136</td>\n      <td>28.9550</td>\n    </tr>\n    <tr>\n      <th>4</th>\n      <td>1.673064e+09</td>\n      <td>41.0136</td>\n      <td>28.9550</td>\n    </tr>\n    <tr>\n      <th>...</th>\n      <td>...</td>\n      <td>...</td>\n      <td>...</td>\n    </tr>\n    <tr>\n      <th>8730</th>\n      <td>1.704478e+09</td>\n      <td>40.7797</td>\n      <td>29.3945</td>\n    </tr>\n    <tr>\n      <th>8731</th>\n      <td>1.704481e+09</td>\n      <td>40.7797</td>\n      <td>29.3945</td>\n    </tr>\n    <tr>\n      <th>8732</th>\n      <td>1.704485e+09</td>\n      <td>40.7797</td>\n      <td>29.3945</td>\n    </tr>\n    <tr>\n      <th>8733</th>\n      <td>1.704488e+09</td>\n      <td>40.7797</td>\n      <td>29.3945</td>\n    </tr>\n    <tr>\n      <th>8734</th>\n      <td>1.704492e+09</td>\n      <td>40.7797</td>\n      <td>29.3945</td>\n    </tr>\n  </tbody>\n</table>\n<p>1773205 rows × 3 columns</p>\n</div>"
     },
     "execution_count": 172,
     "metadata": {},
     "output_type": "execute_result"
    }
   ],
   "source": [
    "# Splitting features and labels\n",
    "X = data_frame[selected_features.columns]  # Features\n",
    "X"
   ],
   "metadata": {
    "collapsed": false,
    "ExecuteTime": {
     "end_time": "2024-01-08T14:36:09.123946400Z",
     "start_time": "2024-01-08T14:36:08.907586600Z"
    }
   },
   "id": "d41fcab11038914d"
  },
  {
   "cell_type": "code",
   "execution_count": 173,
   "outputs": [
    {
     "data": {
      "text/plain": "      rain  snowfall  cloud_cover  wind_speed_10m  surface_pressure\n0      0.0       0.0    48.600002        4.896529       1019.787109\n1      0.0       0.0    46.799999        6.151683       1019.537109\n2      0.0       0.0   100.000000        5.052841       1019.634155\n3      0.0       0.0    38.099998        4.334974       1019.843384\n4      0.0       0.0    27.000002        3.319036       1020.244934\n...    ...       ...          ...             ...               ...\n8730   0.0       0.0     0.300000        7.928178       1013.372742\n8731   0.0       0.0    17.100000       10.105681       1013.472046\n8732   0.0       0.0    12.600000       12.015589       1013.181458\n8733   0.0       0.0    21.300001       12.144331       1012.984131\n8734   0.0       0.0    15.300000       12.224107       1012.480286\n\n[1773205 rows x 5 columns]",
      "text/html": "<div>\n<style scoped>\n    .dataframe tbody tr th:only-of-type {\n        vertical-align: middle;\n    }\n\n    .dataframe tbody tr th {\n        vertical-align: top;\n    }\n\n    .dataframe thead th {\n        text-align: right;\n    }\n</style>\n<table border=\"1\" class=\"dataframe\">\n  <thead>\n    <tr style=\"text-align: right;\">\n      <th></th>\n      <th>rain</th>\n      <th>snowfall</th>\n      <th>cloud_cover</th>\n      <th>wind_speed_10m</th>\n      <th>surface_pressure</th>\n    </tr>\n  </thead>\n  <tbody>\n    <tr>\n      <th>0</th>\n      <td>0.0</td>\n      <td>0.0</td>\n      <td>48.600002</td>\n      <td>4.896529</td>\n      <td>1019.787109</td>\n    </tr>\n    <tr>\n      <th>1</th>\n      <td>0.0</td>\n      <td>0.0</td>\n      <td>46.799999</td>\n      <td>6.151683</td>\n      <td>1019.537109</td>\n    </tr>\n    <tr>\n      <th>2</th>\n      <td>0.0</td>\n      <td>0.0</td>\n      <td>100.000000</td>\n      <td>5.052841</td>\n      <td>1019.634155</td>\n    </tr>\n    <tr>\n      <th>3</th>\n      <td>0.0</td>\n      <td>0.0</td>\n      <td>38.099998</td>\n      <td>4.334974</td>\n      <td>1019.843384</td>\n    </tr>\n    <tr>\n      <th>4</th>\n      <td>0.0</td>\n      <td>0.0</td>\n      <td>27.000002</td>\n      <td>3.319036</td>\n      <td>1020.244934</td>\n    </tr>\n    <tr>\n      <th>...</th>\n      <td>...</td>\n      <td>...</td>\n      <td>...</td>\n      <td>...</td>\n      <td>...</td>\n    </tr>\n    <tr>\n      <th>8730</th>\n      <td>0.0</td>\n      <td>0.0</td>\n      <td>0.300000</td>\n      <td>7.928178</td>\n      <td>1013.372742</td>\n    </tr>\n    <tr>\n      <th>8731</th>\n      <td>0.0</td>\n      <td>0.0</td>\n      <td>17.100000</td>\n      <td>10.105681</td>\n      <td>1013.472046</td>\n    </tr>\n    <tr>\n      <th>8732</th>\n      <td>0.0</td>\n      <td>0.0</td>\n      <td>12.600000</td>\n      <td>12.015589</td>\n      <td>1013.181458</td>\n    </tr>\n    <tr>\n      <th>8733</th>\n      <td>0.0</td>\n      <td>0.0</td>\n      <td>21.300001</td>\n      <td>12.144331</td>\n      <td>1012.984131</td>\n    </tr>\n    <tr>\n      <th>8734</th>\n      <td>0.0</td>\n      <td>0.0</td>\n      <td>15.300000</td>\n      <td>12.224107</td>\n      <td>1012.480286</td>\n    </tr>\n  </tbody>\n</table>\n<p>1773205 rows × 5 columns</p>\n</div>"
     },
     "execution_count": 173,
     "metadata": {},
     "output_type": "execute_result"
    }
   ],
   "source": [
    "y = data_frame[target_variables]  # Labels\n",
    "y"
   ],
   "metadata": {
    "collapsed": false,
    "ExecuteTime": {
     "end_time": "2024-01-08T14:36:09.218657400Z",
     "start_time": "2024-01-08T14:36:08.963265100Z"
    }
   },
   "id": "abfd768d6c7c7a89"
  },
  {
   "cell_type": "markdown",
   "source": [
    "# Creating Test and Training Data"
   ],
   "metadata": {
    "collapsed": false
   },
   "id": "115586ae421001ea"
  },
  {
   "cell_type": "code",
   "execution_count": 174,
   "outputs": [
    {
     "data": {
      "text/plain": "              date  latitude  longitude\n0     1.673050e+09   41.0136    28.9550\n1     1.673053e+09   41.0136    28.9550\n2     1.673057e+09   41.0136    28.9550\n3     1.673060e+09   41.0136    28.9550\n4     1.673064e+09   41.0136    28.9550\n...            ...       ...        ...\n8730  1.704478e+09   40.7797    29.3945\n8731  1.704481e+09   40.7797    29.3945\n8732  1.704485e+09   40.7797    29.3945\n8733  1.704488e+09   40.7797    29.3945\n8734  1.704492e+09   40.7797    29.3945\n\n[1773205 rows x 3 columns]",
      "text/html": "<div>\n<style scoped>\n    .dataframe tbody tr th:only-of-type {\n        vertical-align: middle;\n    }\n\n    .dataframe tbody tr th {\n        vertical-align: top;\n    }\n\n    .dataframe thead th {\n        text-align: right;\n    }\n</style>\n<table border=\"1\" class=\"dataframe\">\n  <thead>\n    <tr style=\"text-align: right;\">\n      <th></th>\n      <th>date</th>\n      <th>latitude</th>\n      <th>longitude</th>\n    </tr>\n  </thead>\n  <tbody>\n    <tr>\n      <th>0</th>\n      <td>1.673050e+09</td>\n      <td>41.0136</td>\n      <td>28.9550</td>\n    </tr>\n    <tr>\n      <th>1</th>\n      <td>1.673053e+09</td>\n      <td>41.0136</td>\n      <td>28.9550</td>\n    </tr>\n    <tr>\n      <th>2</th>\n      <td>1.673057e+09</td>\n      <td>41.0136</td>\n      <td>28.9550</td>\n    </tr>\n    <tr>\n      <th>3</th>\n      <td>1.673060e+09</td>\n      <td>41.0136</td>\n      <td>28.9550</td>\n    </tr>\n    <tr>\n      <th>4</th>\n      <td>1.673064e+09</td>\n      <td>41.0136</td>\n      <td>28.9550</td>\n    </tr>\n    <tr>\n      <th>...</th>\n      <td>...</td>\n      <td>...</td>\n      <td>...</td>\n    </tr>\n    <tr>\n      <th>8730</th>\n      <td>1.704478e+09</td>\n      <td>40.7797</td>\n      <td>29.3945</td>\n    </tr>\n    <tr>\n      <th>8731</th>\n      <td>1.704481e+09</td>\n      <td>40.7797</td>\n      <td>29.3945</td>\n    </tr>\n    <tr>\n      <th>8732</th>\n      <td>1.704485e+09</td>\n      <td>40.7797</td>\n      <td>29.3945</td>\n    </tr>\n    <tr>\n      <th>8733</th>\n      <td>1.704488e+09</td>\n      <td>40.7797</td>\n      <td>29.3945</td>\n    </tr>\n    <tr>\n      <th>8734</th>\n      <td>1.704492e+09</td>\n      <td>40.7797</td>\n      <td>29.3945</td>\n    </tr>\n  </tbody>\n</table>\n<p>1773205 rows × 3 columns</p>\n</div>"
     },
     "execution_count": 174,
     "metadata": {},
     "output_type": "execute_result"
    }
   ],
   "source": [
    "# Select numerical columns only for conversion to tensors\n",
    "numerical_columns_X = X.select_dtypes(include=['float32', 'float64']).columns\n",
    "X_numeric = X[numerical_columns_X]\n",
    "X_numeric"
   ],
   "metadata": {
    "collapsed": false,
    "ExecuteTime": {
     "end_time": "2024-01-08T14:36:09.393237300Z",
     "start_time": "2024-01-08T14:36:09.134818900Z"
    }
   },
   "id": "85c903acbf1f61b6"
  },
  {
   "cell_type": "code",
   "execution_count": 175,
   "outputs": [
    {
     "data": {
      "text/plain": "             date  latitude  longitude\n0       -1.731853  1.135103  -0.908645\n1       -1.731456  1.135103  -0.908645\n2       -1.731059  1.135103  -0.908645\n3       -1.730663  1.135103  -0.908645\n4       -1.730266  1.135103  -0.908645\n...           ...       ...        ...\n1773200  1.730266  0.989050  -0.821678\n1773201  1.730663  0.989050  -0.821678\n1773202  1.731059  0.989050  -0.821678\n1773203  1.731456  0.989050  -0.821678\n1773204  1.731853  0.989050  -0.821678\n\n[1773205 rows x 3 columns]",
      "text/html": "<div>\n<style scoped>\n    .dataframe tbody tr th:only-of-type {\n        vertical-align: middle;\n    }\n\n    .dataframe tbody tr th {\n        vertical-align: top;\n    }\n\n    .dataframe thead th {\n        text-align: right;\n    }\n</style>\n<table border=\"1\" class=\"dataframe\">\n  <thead>\n    <tr style=\"text-align: right;\">\n      <th></th>\n      <th>date</th>\n      <th>latitude</th>\n      <th>longitude</th>\n    </tr>\n  </thead>\n  <tbody>\n    <tr>\n      <th>0</th>\n      <td>-1.731853</td>\n      <td>1.135103</td>\n      <td>-0.908645</td>\n    </tr>\n    <tr>\n      <th>1</th>\n      <td>-1.731456</td>\n      <td>1.135103</td>\n      <td>-0.908645</td>\n    </tr>\n    <tr>\n      <th>2</th>\n      <td>-1.731059</td>\n      <td>1.135103</td>\n      <td>-0.908645</td>\n    </tr>\n    <tr>\n      <th>3</th>\n      <td>-1.730663</td>\n      <td>1.135103</td>\n      <td>-0.908645</td>\n    </tr>\n    <tr>\n      <th>4</th>\n      <td>-1.730266</td>\n      <td>1.135103</td>\n      <td>-0.908645</td>\n    </tr>\n    <tr>\n      <th>...</th>\n      <td>...</td>\n      <td>...</td>\n      <td>...</td>\n    </tr>\n    <tr>\n      <th>1773200</th>\n      <td>1.730266</td>\n      <td>0.989050</td>\n      <td>-0.821678</td>\n    </tr>\n    <tr>\n      <th>1773201</th>\n      <td>1.730663</td>\n      <td>0.989050</td>\n      <td>-0.821678</td>\n    </tr>\n    <tr>\n      <th>1773202</th>\n      <td>1.731059</td>\n      <td>0.989050</td>\n      <td>-0.821678</td>\n    </tr>\n    <tr>\n      <th>1773203</th>\n      <td>1.731456</td>\n      <td>0.989050</td>\n      <td>-0.821678</td>\n    </tr>\n    <tr>\n      <th>1773204</th>\n      <td>1.731853</td>\n      <td>0.989050</td>\n      <td>-0.821678</td>\n    </tr>\n  </tbody>\n</table>\n<p>1773205 rows × 3 columns</p>\n</div>"
     },
     "execution_count": 175,
     "metadata": {},
     "output_type": "execute_result"
    }
   ],
   "source": [
    "# Initialize StandardScaler\n",
    "scaler = StandardScaler()\n",
    "X_numeric = scaler.fit_transform(X_numeric)\n",
    "X_numeric = pd.DataFrame(X_numeric, columns=numerical_columns_X)\n",
    "X_numeric"
   ],
   "metadata": {
    "collapsed": false,
    "ExecuteTime": {
     "end_time": "2024-01-08T14:36:09.739867300Z",
     "start_time": "2024-01-08T14:36:09.266144500Z"
    }
   },
   "id": "1b246709320db1bb"
  },
  {
   "cell_type": "code",
   "execution_count": 176,
   "outputs": [
    {
     "data": {
      "text/plain": "      rain  snowfall  cloud_cover  wind_speed_10m  surface_pressure\n0      0.0       0.0    48.600002        4.896529       1019.787109\n1      0.0       0.0    46.799999        6.151683       1019.537109\n2      0.0       0.0   100.000000        5.052841       1019.634155\n3      0.0       0.0    38.099998        4.334974       1019.843384\n4      0.0       0.0    27.000002        3.319036       1020.244934\n...    ...       ...          ...             ...               ...\n8730   0.0       0.0     0.300000        7.928178       1013.372742\n8731   0.0       0.0    17.100000       10.105681       1013.472046\n8732   0.0       0.0    12.600000       12.015589       1013.181458\n8733   0.0       0.0    21.300001       12.144331       1012.984131\n8734   0.0       0.0    15.300000       12.224107       1012.480286\n\n[1773205 rows x 5 columns]",
      "text/html": "<div>\n<style scoped>\n    .dataframe tbody tr th:only-of-type {\n        vertical-align: middle;\n    }\n\n    .dataframe tbody tr th {\n        vertical-align: top;\n    }\n\n    .dataframe thead th {\n        text-align: right;\n    }\n</style>\n<table border=\"1\" class=\"dataframe\">\n  <thead>\n    <tr style=\"text-align: right;\">\n      <th></th>\n      <th>rain</th>\n      <th>snowfall</th>\n      <th>cloud_cover</th>\n      <th>wind_speed_10m</th>\n      <th>surface_pressure</th>\n    </tr>\n  </thead>\n  <tbody>\n    <tr>\n      <th>0</th>\n      <td>0.0</td>\n      <td>0.0</td>\n      <td>48.600002</td>\n      <td>4.896529</td>\n      <td>1019.787109</td>\n    </tr>\n    <tr>\n      <th>1</th>\n      <td>0.0</td>\n      <td>0.0</td>\n      <td>46.799999</td>\n      <td>6.151683</td>\n      <td>1019.537109</td>\n    </tr>\n    <tr>\n      <th>2</th>\n      <td>0.0</td>\n      <td>0.0</td>\n      <td>100.000000</td>\n      <td>5.052841</td>\n      <td>1019.634155</td>\n    </tr>\n    <tr>\n      <th>3</th>\n      <td>0.0</td>\n      <td>0.0</td>\n      <td>38.099998</td>\n      <td>4.334974</td>\n      <td>1019.843384</td>\n    </tr>\n    <tr>\n      <th>4</th>\n      <td>0.0</td>\n      <td>0.0</td>\n      <td>27.000002</td>\n      <td>3.319036</td>\n      <td>1020.244934</td>\n    </tr>\n    <tr>\n      <th>...</th>\n      <td>...</td>\n      <td>...</td>\n      <td>...</td>\n      <td>...</td>\n      <td>...</td>\n    </tr>\n    <tr>\n      <th>8730</th>\n      <td>0.0</td>\n      <td>0.0</td>\n      <td>0.300000</td>\n      <td>7.928178</td>\n      <td>1013.372742</td>\n    </tr>\n    <tr>\n      <th>8731</th>\n      <td>0.0</td>\n      <td>0.0</td>\n      <td>17.100000</td>\n      <td>10.105681</td>\n      <td>1013.472046</td>\n    </tr>\n    <tr>\n      <th>8732</th>\n      <td>0.0</td>\n      <td>0.0</td>\n      <td>12.600000</td>\n      <td>12.015589</td>\n      <td>1013.181458</td>\n    </tr>\n    <tr>\n      <th>8733</th>\n      <td>0.0</td>\n      <td>0.0</td>\n      <td>21.300001</td>\n      <td>12.144331</td>\n      <td>1012.984131</td>\n    </tr>\n    <tr>\n      <th>8734</th>\n      <td>0.0</td>\n      <td>0.0</td>\n      <td>15.300000</td>\n      <td>12.224107</td>\n      <td>1012.480286</td>\n    </tr>\n  </tbody>\n</table>\n<p>1773205 rows × 5 columns</p>\n</div>"
     },
     "execution_count": 176,
     "metadata": {},
     "output_type": "execute_result"
    }
   ],
   "source": [
    "numerical_columns_y = y.select_dtypes(include=['float32', 'float64']).columns\n",
    "y_numeric = y[numerical_columns_y]\n",
    "y_numeric"
   ],
   "metadata": {
    "collapsed": false,
    "ExecuteTime": {
     "end_time": "2024-01-08T14:36:09.929661Z",
     "start_time": "2024-01-08T14:36:09.455775100Z"
    }
   },
   "id": "dc4b6deca2560cf0"
  },
  {
   "cell_type": "code",
   "execution_count": 177,
   "outputs": [
    {
     "data": {
      "text/plain": "tensor([[-1.7319,  1.1351, -0.9086],\n        [-1.7315,  1.1351, -0.9086],\n        [-1.7311,  1.1351, -0.9086],\n        ...,\n        [ 1.7311,  0.9891, -0.8217],\n        [ 1.7315,  0.9891, -0.8217],\n        [ 1.7319,  0.9891, -0.8217]])"
     },
     "execution_count": 177,
     "metadata": {},
     "output_type": "execute_result"
    }
   ],
   "source": [
    "# Convert numerical columns to PyTorch tensors\n",
    "X_tensor = torch.tensor(X_numeric.values, dtype=torch.float32)\n",
    "X_tensor"
   ],
   "metadata": {
    "collapsed": false,
    "ExecuteTime": {
     "end_time": "2024-01-08T14:36:09.964497100Z",
     "start_time": "2024-01-08T14:36:09.606574700Z"
    }
   },
   "id": "6a0be2695a847bee"
  },
  {
   "cell_type": "code",
   "execution_count": 178,
   "outputs": [
    {
     "data": {
      "text/plain": "tensor([[   0.0000,    0.0000,   48.6000,    4.8965, 1019.7871],\n        [   0.0000,    0.0000,   46.8000,    6.1517, 1019.5371],\n        [   0.0000,    0.0000,  100.0000,    5.0528, 1019.6342],\n        ...,\n        [   0.0000,    0.0000,   12.6000,   12.0156, 1013.1815],\n        [   0.0000,    0.0000,   21.3000,   12.1443, 1012.9841],\n        [   0.0000,    0.0000,   15.3000,   12.2241, 1012.4803]])"
     },
     "execution_count": 178,
     "metadata": {},
     "output_type": "execute_result"
    }
   ],
   "source": [
    "y_tensor = torch.tensor(y_numeric.values, dtype=torch.float32)\n",
    "y_tensor"
   ],
   "metadata": {
    "collapsed": false,
    "ExecuteTime": {
     "end_time": "2024-01-08T14:36:09.965047800Z",
     "start_time": "2024-01-08T14:36:09.639196900Z"
    }
   },
   "id": "b555fa3ed27bb42b"
  },
  {
   "cell_type": "code",
   "execution_count": 179,
   "outputs": [
    {
     "name": "stdout",
     "output_type": "stream",
     "text": [
      "Missing values in X_tensor: 0\n",
      "Missing values in y_tensor: 0\n",
      "Length of X_tensor: 1773205\n",
      "Length of y_tensor: 1773205\n"
     ]
    }
   ],
   "source": [
    "# Check for missing values in X_tensor and y_tensor\n",
    "missing_X = np.isnan(X_tensor).any()\n",
    "missing_y = np.isnan(y_tensor).any()\n",
    "print(f\"Missing values in X_tensor: {missing_X}\")\n",
    "print(f\"Missing values in y_tensor: {missing_y}\")\n",
    "\n",
    "# Verify the lengths of X_tensor and y_tensor\n",
    "print(f\"Length of X_tensor: {len(X_tensor)}\")\n",
    "print(f\"Length of y_tensor: {len(y_tensor)}\")"
   ],
   "metadata": {
    "collapsed": false,
    "ExecuteTime": {
     "end_time": "2024-01-08T14:36:10.008516400Z",
     "start_time": "2024-01-08T14:36:09.681966800Z"
    }
   },
   "id": "bf618fdca4b35778"
  },
  {
   "cell_type": "code",
   "execution_count": 180,
   "outputs": [
    {
     "data": {
      "text/plain": "(tensor([[ 0.7991, -0.0313,  0.1215],\n         [ 1.5677, -0.5281, -0.9954],\n         [-0.4362,  0.7892,  1.1736],\n         ...,\n         [-1.3722,  0.4550, -0.1309],\n         [ 1.1612,  0.9610, -0.3838],\n         [ 1.6006,  1.1370,  1.1879]]),\n tensor([[-1.4761,  1.3799, -1.2249],\n         [-0.1685,  1.1273, -0.9706],\n         [-0.3553, -1.8691,  0.5172],\n         ...,\n         [ 1.6640,  1.0378, -0.8760],\n         [-0.6175,  0.4527,  2.0772],\n         [-1.6680, -0.0558,  1.1873]]),\n tensor([[  0.0000,   0.0000,   0.0000,   4.1046, 903.5237],\n         [  0.0000,   0.0000,   0.0000,   2.4150, 997.6218],\n         [  0.0000,   0.0000,  41.1000,   7.1458, 883.6562],\n         ...,\n         [  0.0000,   0.0000,   0.0000,   5.0528, 912.4454],\n         [  0.0000,   0.0000,  22.8000,   5.8048, 935.2233],\n         [  0.0000,   0.0000,  91.2000,  13.2174, 961.3762]]),\n tensor([[   0.0000,    0.0000,    0.0000,    8.4734, 1010.0106],\n         [   0.0000,    0.0000,    7.5000,    4.5108,  996.9824],\n         [   0.0000,    0.0000,    0.0000,   17.2537, 1002.3232],\n         ...,\n         [   0.0000,    0.0000,    1.5000,    8.4734, 1014.2634],\n         [   0.0000,    0.0000,    7.2000,    5.0142,  923.8222],\n         [   0.0000,    0.0000,  100.0000,    4.1046,  910.5840]]))"
     },
     "execution_count": 180,
     "metadata": {},
     "output_type": "execute_result"
    }
   ],
   "source": [
    "# Split data into training and testing sets (e.g., 80% training, 20% testing)\n",
    "X_train, X_test, y_train, y_test = train_test_split(X_tensor, y_tensor, test_size=0.2, random_state=42)\n",
    "X_train, X_test, y_train, y_test"
   ],
   "metadata": {
    "collapsed": false,
    "ExecuteTime": {
     "end_time": "2024-01-08T14:36:10.720099800Z",
     "start_time": "2024-01-08T14:36:09.739867300Z"
    }
   },
   "id": "fcf0878bad8b6f33"
  },
  {
   "cell_type": "code",
   "execution_count": 181,
   "outputs": [
    {
     "data": {
      "text/plain": "<torch.utils.data.dataset.TensorDataset at 0x216f3f30a30>"
     },
     "execution_count": 181,
     "metadata": {},
     "output_type": "execute_result"
    }
   ],
   "source": [
    "# Create PyTorch datasets\n",
    "train_dataset = TensorDataset(X_train, y_train)\n",
    "train_dataset"
   ],
   "metadata": {
    "collapsed": false,
    "ExecuteTime": {
     "end_time": "2024-01-08T14:36:10.753784900Z",
     "start_time": "2024-01-08T14:36:10.339925100Z"
    }
   },
   "id": "26c42c46f8ea060d"
  },
  {
   "cell_type": "code",
   "execution_count": 182,
   "outputs": [
    {
     "data": {
      "text/plain": "<torch.utils.data.dataset.TensorDataset at 0x216f3f32e00>"
     },
     "execution_count": 182,
     "metadata": {},
     "output_type": "execute_result"
    }
   ],
   "source": [
    "test_dataset = TensorDataset(X_test, y_test)\n",
    "test_dataset"
   ],
   "metadata": {
    "collapsed": false,
    "ExecuteTime": {
     "end_time": "2024-01-08T14:36:10.753784900Z",
     "start_time": "2024-01-08T14:36:10.375516900Z"
    }
   },
   "id": "8a2dc48d49d7fd46"
  },
  {
   "cell_type": "code",
   "execution_count": 183,
   "outputs": [
    {
     "data": {
      "text/plain": "64"
     },
     "execution_count": 183,
     "metadata": {},
     "output_type": "execute_result"
    }
   ],
   "source": [
    "# Define batch size for DataLoader\n",
    "batch_size = 64\n",
    "batch_size"
   ],
   "metadata": {
    "collapsed": false,
    "ExecuteTime": {
     "end_time": "2024-01-08T14:36:10.753784900Z",
     "start_time": "2024-01-08T14:36:10.392519600Z"
    }
   },
   "id": "69d3745d0fb2edc5"
  },
  {
   "cell_type": "code",
   "execution_count": 184,
   "outputs": [
    {
     "data": {
      "text/plain": "<torch.utils.data.dataloader.DataLoader at 0x216f3f325c0>"
     },
     "execution_count": 184,
     "metadata": {},
     "output_type": "execute_result"
    }
   ],
   "source": [
    "# Create DataLoaders for training and testing sets\n",
    "train_loader = DataLoader(train_dataset, batch_size=batch_size, shuffle=True)\n",
    "train_loader"
   ],
   "metadata": {
    "collapsed": false,
    "ExecuteTime": {
     "end_time": "2024-01-08T14:36:10.753784900Z",
     "start_time": "2024-01-08T14:36:10.428281800Z"
    }
   },
   "id": "4806be60e9035991"
  },
  {
   "cell_type": "code",
   "execution_count": 185,
   "outputs": [
    {
     "data": {
      "text/plain": "<torch.utils.data.dataloader.DataLoader at 0x216f3f31f90>"
     },
     "execution_count": 185,
     "metadata": {},
     "output_type": "execute_result"
    }
   ],
   "source": [
    "test_loader = DataLoader(test_dataset, batch_size=batch_size, shuffle=False)\n",
    "test_loader"
   ],
   "metadata": {
    "collapsed": false,
    "ExecuteTime": {
     "end_time": "2024-01-08T14:36:10.753784900Z",
     "start_time": "2024-01-08T14:36:10.453074400Z"
    }
   },
   "id": "e25ec15c9cd51a80"
  },
  {
   "cell_type": "code",
   "execution_count": 186,
   "outputs": [],
   "source": [
    "class BESTModel(nn.Module):\n",
    "    def __init__(self, input_size, hidden_sizes, output_size, dropout_rate=0.2):\n",
    "        super(BESTModel, self).__init__()\n",
    "        layers = []\n",
    "        prev_size = input_size\n",
    "        self.hidden_sizes = hidden_sizes\n",
    "        \n",
    "        for idx, hidden_size in enumerate(hidden_sizes):\n",
    "            layers.append(nn.Linear(prev_size, hidden_size))\n",
    "            layers.append(nn.BatchNorm1d(hidden_size))  # Batch Normalization\n",
    "            layers.append(nn.ReLU())  # ReLU activation\n",
    "            layers.append(nn.Dropout(dropout_rate))\n",
    "            prev_size = hidden_size\n",
    "        \n",
    "        # Output layer adjusted to match the number of labels (5 in this case)\n",
    "        layers.append(nn.Linear(hidden_sizes[-1], output_size))\n",
    "        \n",
    "        self.network = nn.Sequential(*layers)\n",
    "        \n",
    "        # Weight initialization (optional)\n",
    "        self.apply(self.init_weights)\n",
    "        \n",
    "    def init_weights(self, m):\n",
    "        if isinstance(m, (nn.Linear, nn.BatchNorm1d)):\n",
    "            if isinstance(m, nn.Linear):\n",
    "                nn.init.kaiming_normal_(m.weight.data)\n",
    "            elif isinstance(m, nn.BatchNorm1d):\n",
    "                nn.init.constant_(m.weight, 1)\n",
    "                nn.init.constant_(m.bias, 0)\n",
    "        \n",
    "    def forward(self, x):\n",
    "        # Implementing skip connections (residual connections)\n",
    "        out = x\n",
    "        for idx, layer in enumerate(self.network):\n",
    "            out = layer(out)\n",
    "            if idx % 4 == 3:  # After every 4 layers (Linear -> BatchNorm -> ReLU -> Dropout)\n",
    "                if out.shape[1] == x.shape[1]:  # Check if the shapes match for addition\n",
    "                    out += x  # Add the input (skip connection)\n",
    "                x = out  # Update x for the next skip connection\n",
    "        \n",
    "        # Adjusting the output for the first 3 predictions to be within 0 and 1\n",
    "        out[:, :3] = torch.sigmoid(out[:, :3])\n",
    "        \n",
    "        return out\n"
   ],
   "metadata": {
    "collapsed": false,
    "ExecuteTime": {
     "end_time": "2024-01-08T14:36:10.753784900Z",
     "start_time": "2024-01-08T14:36:10.482400400Z"
    }
   },
   "id": "35f3c62bf3045043"
  },
  {
   "cell_type": "code",
   "execution_count": 187,
   "outputs": [],
   "source": [
    "# Define input, hidden, and output sizes based on your data\n",
    "input_size = X_train.shape[1]  # Number of features\n",
    "hidden_sizes = [64, 32]\n",
    "output_size = y_train.shape[1]  # Number of output variables"
   ],
   "metadata": {
    "collapsed": false,
    "ExecuteTime": {
     "end_time": "2024-01-08T14:36:10.753784900Z",
     "start_time": "2024-01-08T14:36:10.492888500Z"
    }
   },
   "id": "2c58e0331c6ed91"
  },
  {
   "cell_type": "code",
   "execution_count": 188,
   "outputs": [
    {
     "data": {
      "text/plain": "BESTModel(\n  (network): Sequential(\n    (0): Linear(in_features=3, out_features=64, bias=True)\n    (1): BatchNorm1d(64, eps=1e-05, momentum=0.1, affine=True, track_running_stats=True)\n    (2): ReLU()\n    (3): Dropout(p=0.2, inplace=False)\n    (4): Linear(in_features=64, out_features=32, bias=True)\n    (5): BatchNorm1d(32, eps=1e-05, momentum=0.1, affine=True, track_running_stats=True)\n    (6): ReLU()\n    (7): Dropout(p=0.2, inplace=False)\n    (8): Linear(in_features=32, out_features=5, bias=True)\n  )\n)"
     },
     "execution_count": 188,
     "metadata": {},
     "output_type": "execute_result"
    }
   ],
   "source": [
    "# Initialize the more complex model\n",
    "model = BESTModel(input_size, hidden_sizes, output_size)\n",
    "model"
   ],
   "metadata": {
    "collapsed": false,
    "ExecuteTime": {
     "end_time": "2024-01-08T14:36:10.753784900Z",
     "start_time": "2024-01-08T14:36:10.502926200Z"
    }
   },
   "id": "b43814775eb8f94f"
  },
  {
   "cell_type": "code",
   "execution_count": 189,
   "outputs": [],
   "source": [
    "# Define loss function and optimizer\n",
    "criterion = nn.MSELoss()  # Mean Squared Error loss\n",
    "optimizer = torch.optim.Adam(model.parameters(), lr=0.001, weight_decay=0.001)  # Adam optimizer"
   ],
   "metadata": {
    "collapsed": false,
    "ExecuteTime": {
     "end_time": "2024-01-08T14:36:10.753784900Z",
     "start_time": "2024-01-08T14:36:10.519279700Z"
    }
   },
   "id": "4753873c1aa50385"
  },
  {
   "cell_type": "code",
   "execution_count": 190,
   "outputs": [
    {
     "name": "stdout",
     "output_type": "stream",
     "text": [
      "Epoch [1/10], Loss: 19972.5426\n",
      "Epoch [2/10], Loss: 2280.7877\n",
      "Epoch [3/10], Loss: 2096.5776\n",
      "Epoch [4/10], Loss: 2034.0643\n",
      "Epoch [5/10], Loss: 1984.3152\n",
      "Epoch [6/10], Loss: 1949.1215\n",
      "Epoch [7/10], Loss: 1913.8767\n",
      "Epoch [8/10], Loss: 1876.2754\n",
      "Epoch [9/10], Loss: 1846.8042\n",
      "Epoch [10/10], Loss: 1817.8897\n"
     ]
    }
   ],
   "source": [
    "# Train the model\n",
    "num_epochs = 10  # Number of training epochs\n",
    "for epoch in range(num_epochs):\n",
    "    model.train()\n",
    "    running_loss = 0.0\n",
    "    for inputs, labels in train_loader:\n",
    "        # Forward pass\n",
    "        outputs = model(inputs)\n",
    "        loss = criterion(outputs, labels)\n",
    "\n",
    "        # Backward pass and optimization\n",
    "        optimizer.zero_grad()\n",
    "        loss.backward()\n",
    "        optimizer.step()\n",
    "\n",
    "        running_loss += loss.item()\n",
    "\n",
    "    # Print training loss\n",
    "    print(f\"Epoch [{epoch + 1}/{num_epochs}], Loss: {running_loss / len(train_loader):.4f}\")"
   ],
   "metadata": {
    "collapsed": false,
    "ExecuteTime": {
     "end_time": "2024-01-08T14:50:29.445715600Z",
     "start_time": "2024-01-08T14:36:10.559082Z"
    }
   },
   "id": "c1916b3254ba8912"
  },
  {
   "cell_type": "code",
   "execution_count": 191,
   "outputs": [
    {
     "name": "stdout",
     "output_type": "stream",
     "text": [
      "Test MSE: 636.8590\n",
      "Test RMSE: 25.2361\n",
      "Test R-squared: 0.0079\n"
     ]
    }
   ],
   "source": [
    "# Evaluate the model\n",
    "model.eval()\n",
    "test_loss = 0.0\n",
    "all_predictions = []\n",
    "all_labels = []\n",
    "with torch.no_grad():\n",
    "    for inputs, labels in test_loader:\n",
    "        outputs = model(inputs)\n",
    "        test_loss += criterion(outputs, labels).item()\n",
    "\n",
    "        all_predictions.extend(outputs.numpy())  # Collect predictions\n",
    "        all_labels.extend(labels.numpy())  # Collect actual labels\n",
    "\n",
    "# Calculate evaluation metrics\n",
    "mse = mean_squared_error(all_labels, all_predictions)\n",
    "rmse = np.sqrt(mse)\n",
    "r_squared = r2_score(all_labels, all_predictions)\n",
    "\n",
    "print(f\"Test MSE: {mse:.4f}\")\n",
    "print(f\"Test RMSE: {rmse:.4f}\")\n",
    "print(f\"Test R-squared: {r_squared:.4f}\")\n"
   ],
   "metadata": {
    "collapsed": false,
    "ExecuteTime": {
     "end_time": "2024-01-08T14:50:37.905099600Z",
     "start_time": "2024-01-08T14:50:29.439377100Z"
    }
   },
   "id": "4c32927ef7391d34"
  },
  {
   "cell_type": "code",
   "execution_count": 192,
   "outputs": [
    {
     "data": {
      "text/plain": "<Figure size 800x600 with 1 Axes>",
      "image/png": "[encoded data removed]"
     },
     "metadata": {},
     "output_type": "display_data"
    },
    {
     "data": {
      "text/plain": "<Figure size 800x600 with 1 Axes>",
      "image/png": "[encoded data removed]"
     },
     "metadata": {},
     "output_type": "display_data"
    },
    {
     "data": {
      "text/plain": "<Figure size 800x600 with 1 Axes>",
      "image/png": "[encoded data removed]"
     },
     "metadata": {},
     "output_type": "display_data"
    },
    {
     "data": {
      "text/plain": "<Figure size 800x600 with 1 Axes>",
      "image/png": "[encoded data removed]"
     },
     "metadata": {},
     "output_type": "display_data"
    },
    {
     "data": {
      "text/plain": "<Figure size 800x600 with 1 Axes>",
      "image/png": "[encoded data removed]"
     },
     "metadata": {},
     "output_type": "display_data"
    }
   ],
   "source": [
    "# Extract weights from the model's layers\n",
    "def extract_weights(model):\n",
    "    weights = []\n",
    "    for name, param in model.named_parameters():\n",
    "        if 'weight' in name:\n",
    "            weights.append(param.detach().numpy())\n",
    "    return weights\n",
    "\n",
    "# Get the weights from the model\n",
    "model_weights = extract_weights(model)\n",
    "\n",
    "# Visualize the weights of each layer\n",
    "for i, layer_weights in enumerate(model_weights, 1):\n",
    "    plt.figure(figsize=(8, 6))\n",
    "    plt.hist(layer_weights.flatten(), bins=50)\n",
    "    plt.title(f\"Layer {i} Weights Distribution\")\n",
    "    plt.xlabel(\"Weight Value\")\n",
    "    plt.ylabel(\"Frequency\")\n",
    "    plt.grid(True)\n",
    "    plt.show()"
   ],
   "metadata": {
    "collapsed": false,
    "ExecuteTime": {
     "end_time": "2024-01-08T14:50:39.103593Z",
     "start_time": "2024-01-08T14:50:37.910571300Z"
    }
   },
   "id": "b6239499c6df43d0"
  },
  {
   "cell_type": "code",
   "execution_count": 193,
   "outputs": [],
   "source": [
    "def display_menu(city_coordinates):\n",
    "    print(\"Select a city:\")\n",
    "    for index, (city, coordinates) in enumerate(city_coordinates.items(), start=1):\n",
    "        print(f\"{index}. {city}\")"
   ],
   "metadata": {
    "collapsed": false,
    "ExecuteTime": {
     "end_time": "2024-01-08T14:50:39.209481700Z",
     "start_time": "2024-01-08T14:50:39.099812200Z"
    }
   },
   "id": "4ac60e5776fe04d0"
  },
  {
   "cell_type": "code",
   "execution_count": 194,
   "outputs": [],
   "source": [
    "def get_city_choice(city_coordinates):\n",
    "    while True:\n",
    "        display_menu(city_coordinates)\n",
    "        choice = input(\"Enter the number corresponding to the city: \")\n",
    "        try:\n",
    "            choice = int(choice)\n",
    "            if 1 <= choice <= len(city_coordinates):\n",
    "                city = list(city_coordinates.keys())[choice - 1]\n",
    "                coordinates = city_coordinates[city]\n",
    "                return city, coordinates\n",
    "            else:\n",
    "                print(\"Invalid choice. Please enter a valid number.\")\n",
    "        except ValueError:\n",
    "            print(\"Invalid input. Please enter a number.\")"
   ],
   "metadata": {
    "collapsed": false,
    "ExecuteTime": {
     "end_time": "2024-01-08T14:50:39.209481700Z",
     "start_time": "2024-01-08T14:50:39.117504100Z"
    }
   },
   "id": "5a5b0cd0f63aa685"
  },
  {
   "cell_type": "code",
   "execution_count": 195,
   "outputs": [
    {
     "name": "stdout",
     "output_type": "stream",
     "text": [
      "Select a city:\n",
      "1. Istanbul\n",
      "2. Ankara\n",
      "3. İzmir\n",
      "4. Bursa\n",
      "5. Antalya\n",
      "6. Konya\n",
      "7. Gaziantep\n",
      "8. Şanlıurfa\n",
      "9. Mersin\n",
      "10. Adana\n",
      "11. Diyarbakır\n",
      "12. Kayseri\n",
      "13. Samsun\n",
      "14. Akçaabat\n",
      "15. Denizli\n",
      "16. Çankaya\n",
      "17. Esenyurt\n",
      "18. Eskişehir\n",
      "19. Seyhan\n",
      "20. Küçükçekmece\n",
      "21. Erzurum\n",
      "22. Bağcılar\n",
      "23. Pendik\n",
      "24. Selçuklu\n",
      "25. Yıldırım\n",
      "26. Kartal\n",
      "27. Batman\n",
      "28. Esenler\n",
      "29. Kahramanmaraş\n",
      "30. Kâğıthane\n",
      "31. Avcılar\n",
      "32. Trabzon\n",
      "33. Malatya\n",
      "34. Elazığ\n",
      "35. Yüreğir\n",
      "36. Hatay\n",
      "37. Sivas\n",
      "38. Gebze\n",
      "39. Kocaeli\n",
      "40. Kayapınar\n",
      "41. Manisa\n",
      "42. Konak\n",
      "43. Van\n",
      "44. Pamukkale\n",
      "45. Sarıyer\n",
      "46. Meram\n",
      "47. Tarsus\n",
      "48. Balıkesir\n",
      "49. Beylikdüzü\n",
      "50. Sultanbeyli\n",
      "51. Aksaray\n",
      "52. Alanya\n",
      "53. Yeşilyurt\n",
      "54. Adıyaman\n",
      "55. Afyonkarahisar\n",
      "56. İskenderun\n",
      "57. Battalgazi\n",
      "58. Çorum\n",
      "59. Güngören\n",
      "60. Çorlu\n",
      "61. Sakarya\n",
      "62. Arnavutköy\n",
      "63. İnegöl\n",
      "64. Kütahya\n",
      "65. Osmaniye\n",
      "66. Isparta\n",
      "67. Siverek\n",
      "68. Tuzla\n",
      "69. Kızıltepe\n",
      "70. Uşak\n",
      "71. Çekme\n",
      "72. Büyükçekmece\n",
      "73. Beykoz\n",
      "74. Düzce\n",
      "75. Manavgat\n",
      "76. Ordu\n",
      "77. Bolu\n",
      "78. Tekirdağ\n",
      "79. Tokat\n",
      "80. Viranşehir\n",
      "81. Karaköprü\n",
      "82. Karaman\n",
      "83. Muş\n",
      "84. Kırıkkale\n",
      "85. Aydın\n",
      "86. Çanakkale\n",
      "87. Edirne\n",
      "88. Torbalı\n",
      "89. Ereğli\n",
      "90. Bodrum\n",
      "91. Menemen\n",
      "92. Akhisar\n",
      "93. Çerkezköy\n",
      "94. Siirt\n",
      "95. Körfez\n",
      "96. Talas\n",
      "97. Turgutlu\n",
      "98. Gölcük\n",
      "99. Salihli\n",
      "100. Ceyhan\n",
      "101. Bingöl\n",
      "102. Fethiye\n",
      "103. Erzincan\n",
      "104. Nazilli\n",
      "105. Bartın\n",
      "106. Edremit\n",
      "107. Bandırma\n",
      "108. Kırşehir\n",
      "109. Nevşehir\n",
      "110. Ağrı\n",
      "111. Amasya\n",
      "112. Kastamonu\n",
      "113. Lüleburgaz\n",
      "114. Yalova\n",
      "115. Cizre\n",
      "116. Elbistan\n",
      "117. Nizip\n",
      "118. Rize\n",
      "119. Çarşamba\n",
      "120. Silivri\n",
      "121. Iğdır\n",
      "122. Giresun\n",
      "123. Silopi\n",
      "124. Ödemiş\n",
      "125. Karabük\n",
      "126. Kozan\n",
      "127. Ergani\n",
      "128. Çayırova\n",
      "129. Ünye\n",
      "130. Polatlı\n",
      "131. Serik\n",
      "132. Kadirli\n",
      "133. Patnos\n",
      "134. Kâhta\n",
      "135. Doğubayazıt\n",
      "136. Samandağ\n",
      "137. Zonguldak\n",
      "138. Söke\n",
      "139. Yüksekova\n",
      "140. Silifke\n",
      "141. Niğde\n",
      "142. Karatepe\n",
      "143. Kapaklı\n",
      "144. Fatsa\n",
      "145. Kilis\n",
      "146. Kars\n",
      "147. Kuşadası\n",
      "148. Midyat\n",
      "149. Akçakale\n",
      "150. Burdur\n",
      "151. Soma\n",
      "152. Kemalpaşa\n",
      "153. Nusaybin\n",
      "154. Yozgat\n",
      "155. Alaşehir\n",
      "156. Suruç\n",
      "157. Bergama\n",
      "158. Tavşanlı\n",
      "159. Çankırı\n",
      "160. Şırnak\n",
      "161. Mardin\n",
      "162. Bilecik\n",
      "163. Hakkari\n",
      "164. Bitlis\n",
      "165. Bayburt\n",
      "166. Kırklareli\n",
      "167. Gümüşhane\n",
      "168. Muğla\n",
      "169. Ardahan\n",
      "170. Tunceli\n",
      "171. Artvin\n",
      "172. Yumurtalık\n",
      "173. Sinop\n",
      "174. Yenice\n",
      "175. Adalar\n",
      "176. Çağlayan\n",
      "177. Mahmutbey\n",
      "178. Etimesgut\n",
      "179. Samandıra\n",
      "180. Keçiören\n",
      "181. Pursaklar\n",
      "182. Melikgazi\n",
      "183. Altındağ\n",
      "184. Buca\n",
      "185. Gaziemir\n",
      "186. Karşıyaka\n",
      "187. Kemerburgaz\n",
      "188. Mamak\n",
      "189. Bornova\n",
      "190. Burç\n",
      "191. Sincan\n",
      "192. Kazanlı\n",
      "193. Yenimahalle\n",
      "194. Hadımköy\n",
      "195. Mahmut Şevket Paşa\n",
      "196. Değirmendere\n",
      "197. Yolboyu\n",
      "198. Bağlar\n",
      "199. Yenişehir\n",
      "200. Erenler\n",
      "201. Kazımpaşa\n",
      "202. Serdivan\n",
      "203. Darıca\n",
      "You selected: İskenderun with coordinates: (36.5817, 36.165)\n"
     ]
    }
   ],
   "source": [
    "# Get user's choice of city and coordinates\n",
    "selected_city, selected_coordinates = get_city_choice(city_coordinates)\n",
    "print(f\"You selected: {selected_city} with coordinates: {selected_coordinates}\")"
   ],
   "metadata": {
    "collapsed": false,
    "ExecuteTime": {
     "end_time": "2024-01-08T15:07:38.616118Z",
     "start_time": "2024-01-08T14:50:39.131466600Z"
    }
   },
   "id": "b7290b4514b4fdfe"
  },
  {
   "cell_type": "code",
   "execution_count": 196,
   "outputs": [
    {
     "data": {
      "text/plain": "['2024-01-08 17:07:38', 'İskenderun']"
     },
     "execution_count": 196,
     "metadata": {},
     "output_type": "execute_result"
    }
   ],
   "source": [
    "# Get the timestamp for today minus 1 hour\n",
    "input_date = (datetime.now() - timedelta(hours=1))\n",
    "prediction_data = [input_date.strftime('%Y-%m-%d %H:%M:%S'), selected_city]\n",
    "prediction_data"
   ],
   "metadata": {
    "collapsed": false,
    "ExecuteTime": {
     "end_time": "2024-01-08T15:07:38.616622100Z",
     "start_time": "2024-01-08T15:07:38.478264400Z"
    }
   },
   "id": "8ffb435edb1c9af8"
  },
  {
   "cell_type": "code",
   "execution_count": 197,
   "outputs": [
    {
     "data": {
      "text/plain": "1704722858.0"
     },
     "execution_count": 197,
     "metadata": {},
     "output_type": "execute_result"
    }
   ],
   "source": [
    "# Convert the date-time string to a timestamp\n",
    "date_string = prediction_data[0]\n",
    "date_time = datetime.strptime(date_string, '%Y-%m-%d %H:%M:%S')\n",
    "timestamp = date_time.timestamp()\n",
    "timestamp"
   ],
   "metadata": {
    "collapsed": false,
    "ExecuteTime": {
     "end_time": "2024-01-08T15:07:38.637531600Z",
     "start_time": "2024-01-08T15:07:38.497008700Z"
    }
   },
   "id": "5d5f19371853f5cd"
  },
  {
   "cell_type": "code",
   "execution_count": 198,
   "outputs": [
    {
     "data": {
      "text/plain": "(36.5817, 36.165)"
     },
     "execution_count": 198,
     "metadata": {},
     "output_type": "execute_result"
    }
   ],
   "source": [
    "# Get the coordinates of the selected city\n",
    "selected_city = prediction_data[1]\n",
    "selected_coordinates = city_coordinates.get(selected_city)\n",
    "selected_coordinates"
   ],
   "metadata": {
    "collapsed": false,
    "ExecuteTime": {
     "end_time": "2024-01-08T15:07:38.637531600Z",
     "start_time": "2024-01-08T15:07:38.509006500Z"
    }
   },
   "id": "444608fb2cd6ed84"
  },
  {
   "cell_type": "code",
   "execution_count": 199,
   "outputs": [
    {
     "data": {
      "text/plain": "tensor([[1.7047e+09, 3.6582e+01, 3.6165e+01]])"
     },
     "execution_count": 199,
     "metadata": {},
     "output_type": "execute_result"
    }
   ],
   "source": [
    " # Combine timestamp and coordinates into a single tensor\n",
    "tensor_data = [timestamp] + list(selected_coordinates)\n",
    "tensor_array = torch.tensor(tensor_data)\n",
    "tensor_array = tensor_array.unsqueeze(0)\n",
    "tensor_array"
   ],
   "metadata": {
    "collapsed": false,
    "ExecuteTime": {
     "end_time": "2024-01-08T15:07:38.637531600Z",
     "start_time": "2024-01-08T15:07:38.526371Z"
    }
   },
   "id": "c19e28da6cceb5b6"
  },
  {
   "cell_type": "code",
   "execution_count": 200,
   "outputs": [
    {
     "name": "stdout",
     "output_type": "stream",
     "text": [
      "tensor([[0.0000e+00, 0.0000e+00, 1.0000e+00, 4.7940e+06, 1.3099e+09]])\n"
     ]
    }
   ],
   "source": [
    "model.eval()\n",
    "# Perform predictions\n",
    "with torch.no_grad():\n",
    "    predictions = model(tensor_array)\n",
    "    print(predictions)"
   ],
   "metadata": {
    "collapsed": false,
    "ExecuteTime": {
     "end_time": "2024-01-08T15:07:38.655488300Z",
     "start_time": "2024-01-08T15:07:38.544091800Z"
    }
   },
   "id": "d40b11e4e424ef1c"
  },
  {
   "cell_type": "code",
   "execution_count": 207,
   "outputs": [],
   "source": [
    "min_value = 0  # Minimum expected wind speed\n",
    "max_value = 30  # Maximum expected wind speed\n",
    "min_surface_pressure = 870  # Minimum expected surface pressure\n",
    "max_surface_pressure = 1080  # Maximum expected surface pressure"
   ],
   "metadata": {
    "collapsed": false,
    "ExecuteTime": {
     "end_time": "2024-01-08T15:11:29.567703500Z",
     "start_time": "2024-01-08T15:11:29.522713600Z"
    }
   },
   "id": "f019b2b5fa210f70"
  },
  {
   "cell_type": "code",
   "execution_count": 208,
   "outputs": [
    {
     "data": {
      "text/plain": "array([[0.0000000e+00, 0.0000000e+00, 1.0000000e+00, 1.5979909e+05,\n        6.2374585e+06]], dtype=float32)"
     },
     "execution_count": 208,
     "metadata": {},
     "output_type": "execute_result"
    }
   ],
   "source": [
    "predictions_numpy_array = predictions.numpy()\n",
    "predictions_numpy_array"
   ],
   "metadata": {
    "collapsed": false,
    "ExecuteTime": {
     "end_time": "2024-01-08T15:11:31.380108200Z",
     "start_time": "2024-01-08T15:11:31.332052200Z"
    }
   },
   "id": "5c6fbeb78b2b615d"
  },
  {
   "cell_type": "code",
   "execution_count": 209,
   "outputs": [
    {
     "data": {
      "text/plain": "   rain  snowfall  cloud_cover  wind_speed_10m  surface_pressure\n0   0.0       0.0          1.0      5326.63623      29698.041016",
      "text/html": "<div>\n<style scoped>\n    .dataframe tbody tr th:only-of-type {\n        vertical-align: middle;\n    }\n\n    .dataframe tbody tr th {\n        vertical-align: top;\n    }\n\n    .dataframe thead th {\n        text-align: right;\n    }\n</style>\n<table border=\"1\" class=\"dataframe\">\n  <thead>\n    <tr style=\"text-align: right;\">\n      <th></th>\n      <th>rain</th>\n      <th>snowfall</th>\n      <th>cloud_cover</th>\n      <th>wind_speed_10m</th>\n      <th>surface_pressure</th>\n    </tr>\n  </thead>\n  <tbody>\n    <tr>\n      <th>0</th>\n      <td>0.0</td>\n      <td>0.0</td>\n      <td>1.0</td>\n      <td>5326.63623</td>\n      <td>29698.041016</td>\n    </tr>\n  </tbody>\n</table>\n</div>"
     },
     "execution_count": 209,
     "metadata": {},
     "output_type": "execute_result"
    }
   ],
   "source": [
    "# Column names as per your format\n",
    "column_names = ['rain', 'snowfall', 'cloud_cover', 'wind_speed_10m', 'surface_pressure']\n",
    "\n",
    "# Convert NumPy array to DataFrame\n",
    "predictions_frame = pd.DataFrame(predictions_numpy_array, columns=column_names)"
   ],
   "metadata": {
    "collapsed": false,
    "ExecuteTime": {
     "end_time": "2024-01-08T15:11:34.146966300Z",
     "start_time": "2024-01-08T15:11:34.073808700Z"
    }
   },
   "id": "e6b24ac4055c4fea"
  },
  {
   "cell_type": "code",
   "execution_count": 211,
   "outputs": [
    {
     "data": {
      "text/plain": "   rain  snowfall  cloud_cover  wind_speed_10m  surface_pressure\n0   0.0       0.0          1.0        5.918485          -3.48916",
      "text/html": "<div>\n<style scoped>\n    .dataframe tbody tr th:only-of-type {\n        vertical-align: middle;\n    }\n\n    .dataframe tbody tr th {\n        vertical-align: top;\n    }\n\n    .dataframe thead th {\n        text-align: right;\n    }\n</style>\n<table border=\"1\" class=\"dataframe\">\n  <thead>\n    <tr style=\"text-align: right;\">\n      <th></th>\n      <th>rain</th>\n      <th>snowfall</th>\n      <th>cloud_cover</th>\n      <th>wind_speed_10m</th>\n      <th>surface_pressure</th>\n    </tr>\n  </thead>\n  <tbody>\n    <tr>\n      <th>0</th>\n      <td>0.0</td>\n      <td>0.0</td>\n      <td>1.0</td>\n      <td>5.918485</td>\n      <td>-3.48916</td>\n    </tr>\n  </tbody>\n</table>\n</div>"
     },
     "execution_count": 211,
     "metadata": {},
     "output_type": "execute_result"
    }
   ],
   "source": [
    "# Normalize the values in predictions_frame\n",
    "predictions_frame['wind_speed_10m'] = (predictions_frame['wind_speed_10m'] - min_value) / (max_value - min_value)\n",
    "predictions_frame['surface_pressure'] = (predictions_frame['surface_pressure'] - min_surface_pressure) / (max_surface_pressure - min_surface_pressure)\n",
    "predictions_frame"
   ],
   "metadata": {
    "collapsed": false,
    "ExecuteTime": {
     "end_time": "2024-01-08T15:12:49.014127200Z",
     "start_time": "2024-01-08T15:12:48.905315500Z"
    }
   },
   "id": "4087ab34a534c3a4"
  },
  {
   "cell_type": "code",
   "execution_count": 205,
   "outputs": [],
   "source": [],
   "metadata": {
    "collapsed": false,
    "ExecuteTime": {
     "end_time": "2024-01-08T15:07:38.872693300Z",
     "start_time": "2024-01-08T15:07:38.668104300Z"
    }
   },
   "id": "7e3aab3d2ff965c1"
  }
 ],
 "metadata": {
  "kernelspec": {
   "display_name": "Python 3",
   "language": "python",
   "name": "python3"
  },
  "language_info": {
   "codemirror_mode": {
    "name": "ipython",
    "version": 3
   },
   "file_extension": ".py",
   "mimetype": "text/x-python",
   "name": "python",
   "nbconvert_exporter": "python",
   "pygments_lexer": "ipython3",
   "version": "3.11.6"
  }
 },
 "nbformat": 4,
 "nbformat_minor": 5
}
