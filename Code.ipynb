{
 "cells": [
  {
   "cell_type": "markdown",
   "id": "a99ca30f762277e",
   "metadata": {
    "collapsed": false
   },
   "source": [
    "Initial Imports"
   ]
  },
  {
   "cell_type": "code",
   "execution_count": null,
   "id": "bc058b6c69d92730",
   "metadata": {
    "collapsed": false
   },
   "outputs": [],
   "source": [
    "import csv\n",
    "import openmeteo_requests\n",
    "import requests_cache\n",
    "from retry_requests import retry\n",
    "import pandas as pd"
   ]
  },
  {
   "cell_type": "markdown",
   "id": "b5e6d1b432f91495",
   "metadata": {
    "collapsed": false
   },
   "source": [
    "# Generate map of cities and their respective coordinates"
   ]
  },
  {
   "cell_type": "code",
   "execution_count": null,
   "id": "6dcce7d5418bfb92",
   "metadata": {
    "collapsed": false
   },
   "outputs": [],
   "source": [
    "# Replace 'file.csv' with your CSV file's name and path\n",
    "file_path = 'data/tr.csv'\n",
    "\n",
    "# Create an empty dictionary to store city coordinates\n",
    "city_coordinates = {}\n",
    "\n",
    "# Open the CSV file and read data\n",
    "with open(file_path, newline='', encoding='utf-8') as csvfile:\n",
    "    reader = csv.DictReader(csvfile)\n",
    "    for row in reader:\n",
    "        city = row['city']\n",
    "        lat = float(row['lat'])\n",
    "        lng = float(row['lng'])\n",
    "        city_coordinates[city] = (lat, lng)\n",
    "\n",
    "# Display the dictionary containing city coordinates\n",
    "for city, coordinates in city_coordinates.items():\n",
    "    print(f\"City: {city}, Coordinates: {coordinates}\")\n",
    "city_coordinates"
   ]
  },
  {
   "cell_type": "code",
   "execution_count": 1,
   "id": "0ef15f82",
   "metadata": {},
   "outputs": [
    {
     "name": "stdout",
     "output_type": "stream",
     "text": [
      "Coordinates 52.5483283996582°E 13.407821655273438°N\n",
      "Elevation 38.0 m asl\n",
      "Timezone None None\n",
      "Timezone difference to GMT+0 0 s\n",
      "                   date  temperature_2m\n",
      "0   2023-12-21 00:00:00          5.4585\n",
      "1   2023-12-21 01:00:00          4.8585\n",
      "2   2023-12-21 02:00:00          6.3585\n",
      "3   2023-12-21 03:00:00          7.0585\n",
      "4   2023-12-21 04:00:00          7.2585\n",
      "..                  ...             ...\n",
      "355 2024-01-04 19:00:00         -0.2915\n",
      "356 2024-01-04 20:00:00         -2.1915\n",
      "357 2024-01-04 21:00:00         -0.9915\n",
      "358 2024-01-04 22:00:00         -0.1915\n",
      "359 2024-01-04 23:00:00         -0.6415\n",
      "\n",
      "[360 rows x 2 columns]\n"
     ]
    }
   ],
   "source": [
    "# Setup the Open-Meteo API client with cache and retry on error\n",
    "cache_session = requests_cache.CachedSession('.cache', expire_after = -1)\n",
    "retry_session = retry(cache_session, retries = 5, backoff_factor = 0.2)\n",
    "openmeteo = openmeteo_requests.Client(session = retry_session)\n",
    "\n",
    "# Make sure all required weather variables are listed here\n",
    "# The order of variables in hourly or daily is important to assign them correctly below\n",
    "url = \"https://archive-api.open-meteo.com/v1/archive\"\n",
    "params = {\n",
    "\t\"latitude\": 52.52,\n",
    "\t\"longitude\": 13.41,\n",
    "\t\"start_date\": \"2023-12-21\",\n",
    "\t\"end_date\": \"2024-01-04\",\n",
    "\t\"hourly\": \"temperature_2m\"\n",
    "}\n",
    "responses = openmeteo.weather_api(url, params=params)\n",
    "\n",
    "# Process first location. Add a for-loop for multiple locations or weather models\n",
    "response = responses[0]\n",
    "print(f\"Coordinates {response.Latitude()}°E {response.Longitude()}°N\")\n",
    "print(f\"Elevation {response.Elevation()} m asl\")\n",
    "print(f\"Timezone {response.Timezone()} {response.TimezoneAbbreviation()}\")\n",
    "print(f\"Timezone difference to GMT+0 {response.UtcOffsetSeconds()} s\")\n",
    "\n",
    "# Process hourly data. The order of variables needs to be the same as requested.\n",
    "hourly = response.Hourly()\n",
    "hourly_temperature_2m = hourly.Variables(0).ValuesAsNumpy()\n",
    "\n",
    "hourly_data = {\"date\": pd.date_range(\n",
    "\tstart = pd.to_datetime(hourly.Time(), unit = \"s\"),\n",
    "\tend = pd.to_datetime(hourly.TimeEnd(), unit = \"s\"),\n",
    "\tfreq = pd.Timedelta(seconds = hourly.Interval()),\n",
    "\tinclusive = \"left\"\n",
    ")}\n",
    "hourly_data[\"temperature_2m\"] = hourly_temperature_2m\n",
    "\n",
    "hourly_dataframe = pd.DataFrame(data = hourly_data)\n",
    "print(hourly_dataframe)\n",
    "\n",
    "\n"
   ]
  }
 ],
 "metadata": {
  "kernelspec": {
   "display_name": "Python 3",
   "language": "python",
   "name": "python3"
  },
  "language_info": {
   "codemirror_mode": {
    "name": "ipython",
    "version": 3
   },
   "file_extension": ".py",
   "mimetype": "text/x-python",
   "name": "python",
   "nbconvert_exporter": "python",
   "pygments_lexer": "ipython3",
   "version": "3.11.6"
  }
 },
 "nbformat": 4,
 "nbformat_minor": 5
}
